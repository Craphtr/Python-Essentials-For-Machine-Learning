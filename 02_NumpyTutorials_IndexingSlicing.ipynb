{
 "cells": [
  {
   "cell_type": "markdown",
   "metadata": {},
   "source": [
    "# INDEXING & SLICING ON LISTS & NUMPY NDARRAYS"
   ]
  },
  {
   "cell_type": "code",
   "execution_count": 1,
   "metadata": {},
   "outputs": [
    {
     "name": "stdout",
     "output_type": "stream",
     "text": [
      "a is \n",
      " [10  8  6  4  2]\n",
      "new_array is\n",
      " [2 8 6]\n",
      "elements within the range 2:5 are\n",
      " [6 4 2]\n"
     ]
    }
   ],
   "source": [
    "# INDEXING NUMPY ARRAYS\n",
    "import numpy as np\n",
    "#Create a sequence of integers from 10 to 1 in steps of -2\n",
    "a = np.arange(10,1,-2)\n",
    "print(\"a is \\n\", a)\n",
    "#Use an array of indices to obtain the elements at those indices\n",
    "new_array = a[np.array([4,1,2])]\n",
    "print(\"new_array is\\n\", new_array)\n",
    "#use colon to obtain elements within a range in the array\n",
    "ele_range = a[2:5]\n",
    "print(\"elements within the range 2:5 are\\n\", ele_range)"
   ]
  },
  {
   "cell_type": "markdown",
   "metadata": {},
   "source": [
    "# TYPES OF INDEXING IN NUMPY ARRAY - Basic Slicing & Indexing "
   ]
  },
  {
   "cell_type": "markdown",
   "metadata": {},
   "source": [
    "# Basic Slicing"
   ]
  },
  {
   "cell_type": "code",
   "execution_count": 2,
   "metadata": {},
   "outputs": [
    {
     "name": "stdout",
     "output_type": "stream",
     "text": [
      "x=\n",
      " [0 1 2 3 4 5 6 7 8 9] \n",
      "third_element= 2 \n",
      "second_tolast= 8\n"
     ]
    },
    {
     "data": {
      "text/plain": [
       "4"
      ]
     },
     "execution_count": 2,
     "metadata": {},
     "output_type": "execute_result"
    }
   ],
   "source": [
    "#1. Single Element Indexing\n",
    "x = np.arange(10) # 1D array\n",
    "third_element = x[2]\n",
    "second_tolast = x[-2]\n",
    "print(\"x=\\n\",x,\"\\nthird_element=\",third_element,\"\\nsecond_tolast=\",second_tolast)\n",
    "x[4]"
   ]
  },
  {
   "cell_type": "code",
   "execution_count": 3,
   "metadata": {},
   "outputs": [
    {
     "name": "stdout",
     "output_type": "stream",
     "text": [
      "(10,)\n",
      "2D_x is\n",
      " [[0 1 2 3 4]\n",
      " [5 6 7 8 9]]\n",
      "x value in row 1 col 3 is 8\n",
      "x value in row 1 at the last column is 9\n",
      "x[0][3] is the same as x[0,3], the latter is more efficient - True\n"
     ]
    }
   ],
   "source": [
    "#2. Indexing in n-dimensions\n",
    "print(x.shape)\n",
    "#change the shape of x from 10 element array to 2by5 2D array\n",
    "x.shape = (2,5)\n",
    "print(\"2D_x is\\n\", x)\n",
    "#Extract elements using indices\n",
    "x13 = x[1,3]\n",
    "print(\"x value in row 1 col 3 is\", x13)\n",
    "x1_1 = x[1,-1]\n",
    "print(\"x value in row 1 at the last column is\", x1_1)\n",
    "#Indexing ndarrays with multiple indices\n",
    "bool = x[0][3] == x[0,3]\n",
    "print(\"x[0][3] is the same as x[0,3], the latter is more efficient -\",bool)"
   ]
  },
  {
   "cell_type": "markdown",
   "metadata": {},
   "source": [
    "# Slicing & Striding\n",
    "Slicing extends to n-dimensions. Basic slicing occurs when the object is a slice object, a integer, or a tuple of slice objects and integers\n",
    "Numpy slicing creates a view instead of a copy of the array meaning a view alters the element of the parent array. So care must be taken when extracting from large arrays which may become useless after the slicing. This is because the sliced portion contains a reference to the memory of the parent array which will not be released until all arrays derived from it are collected."
   ]
  },
  {
   "cell_type": "code",
   "execution_count": 4,
   "metadata": {},
   "outputs": [
    {
     "name": "stdout",
     "output_type": "stream",
     "text": [
      "y =\n",
      " [ 1  2  3  4  5  6  7  8  9 10 11 12 13 14]\n",
      "\n",
      "y from 1 to 10 in steps of 2 =\n",
      " [ 2  4  6  8 10]\n",
      "\n",
      "y from the begining up to 8\n",
      " [1 2 3 4 5 6 7 8]\n",
      "\n",
      "y in steps of 2 from the beginning \n",
      " [ 1  3  5  7  9 11 13]\n",
      "y =\n",
      " [ 1  2  3  4  5  6  7  8  9 10 11 12 13 14]\n",
      "\n",
      "y from 2nd to the last to the 6th =\n",
      " [13 12 11 10  9  8]\n",
      "\n",
      "y from 5 to the end =\n",
      " [ 6  7  8  9 10 11 12 13 14]\n",
      "\n",
      "Multiple items can be indexed thus\n",
      " [1 5 3]\n",
      "\n",
      "Print the array where elements are less than 3\n",
      " [1 2 3]\n",
      "\n",
      "Print the array elements that are even numbers\n",
      " [2 4]\n"
     ]
    }
   ],
   "source": [
    "#3. Sequence Slicing\n",
    "y = np.arange(1,15) #doesn't include 15 in the array\n",
    "print(\"y =\\n\", y)\n",
    "\n",
    "y1_10 = y[1:10:2] #doesn't include 10 in the array\n",
    "print(\"\\ny from 1 to 10 in steps of 2 =\\n\", y1_10)\n",
    "\n",
    "print(\"\\ny from the begining up to 8\\n\", y[:8]) # print everything up to and including 8\n",
    "\n",
    "print(\"\\ny in steps of 2 from the beginning \\n\", y[::2]) # print everything from the beginning in steps of 2\n",
    "\n",
    "print(\"y =\\n\", y)\n",
    "\n",
    "y_2_6 = y[-2:6:-1]\n",
    "print(\"\\ny from 2nd to the last to the 6th =\\n\",y_2_6)\n",
    "\n",
    "y5_end = y[5:]\n",
    "print(\"\\ny from 5 to the end =\\n\", y5_end)\n",
    "\n",
    "#Indexing Multiple items in an array\n",
    "a = [1,2,3,4,5]\n",
    "arr = np.array(a)\n",
    "print(\"\\nMultiple items can be indexed thus\\n\", arr[[0,-1,2]]) #they dont have to be in sequential order\n",
    "\n",
    "#Boolean Indexing\n",
    "arr_lt3 = print(\"\\nPrint the array where elements are less than 3\\n\", arr[arr <= 3])\n",
    "\n",
    "arr_even = print(\"\\nPrint the array elements that are even numbers\\n\", arr[arr%2 == 0])"
   ]
  },
  {
   "cell_type": "code",
   "execution_count": 5,
   "metadata": {},
   "outputs": [
    {
     "name": "stdout",
     "output_type": "stream",
     "text": [
      "[[[1]\n",
      "  [2]\n",
      "  [3]]\n",
      "\n",
      " [[4]\n",
      "  [5]\n",
      "  [6]]]\n",
      "\n",
      "yarray is a (2, 3, 1) matrix\n",
      " i.e there are 2 3by1 matrix\n",
      "Shape of the 3D array\n",
      " (2, 4, 3)\n",
      "3D array \n",
      " [[[ 1  2  3]\n",
      "  [ 4  5  6]\n",
      "  [ 7  8  9]\n",
      "  [11 12 13]]\n",
      "\n",
      " [[10 20 30]\n",
      "  [40 50 60]\n",
      "  [70 80 90]\n",
      "  [11 12 13]]]\n",
      "\n",
      " Sliced 3d block [0:2,1:3,:2]\n",
      " [[[ 4  5]\n",
      "  [ 7  8]]\n",
      "\n",
      " [[40 50]\n",
      "  [70 80]]]\n",
      "Shape of the 3D array\n",
      " (4, 4, 3)\n",
      "3D array \n",
      " [[[ 1  2  3]\n",
      "  [ 4  5  6]\n",
      "  [ 7  8  9]\n",
      "  [11 12 13]]\n",
      "\n",
      " [[10 20 30]\n",
      "  [40 50 60]\n",
      "  [70 80 90]\n",
      "  [11 12 13]]\n",
      "\n",
      " [[11 21 30]\n",
      "  [41 51 60]\n",
      "  [71 81 90]\n",
      "  [11 12 13]]\n",
      "\n",
      " [[12 22 30]\n",
      "  [42 52 60]\n",
      "  [72 82 90]\n",
      "  [11 12 13]]]\n",
      "\n",
      " Sliced sheets of 1st and 3rd of the 3D-block [0::2,0::4,:2]\n",
      " [[[ 1  2]]\n",
      "\n",
      " [[11 21]]]\n",
      "Shape of the 4D array is (3, 2, 4, 3)\n",
      "\n",
      "The 4D array is \n",
      " [[[[ 1  2  3]\n",
      "   [ 4  5  6]\n",
      "   [ 7  8  9]\n",
      "   [11 12 13]]\n",
      "\n",
      "  [[10 20 30]\n",
      "   [40 50 60]\n",
      "   [70 80 90]\n",
      "   [11 12 13]]]\n",
      "\n",
      "\n",
      " [[[11 21 30]\n",
      "   [41 51 60]\n",
      "   [71 81 90]\n",
      "   [11 12 13]]\n",
      "\n",
      "  [[12 22 30]\n",
      "   [42 52 60]\n",
      "   [72 82 90]\n",
      "   [11 12 13]]]\n",
      "\n",
      "\n",
      " [[[11 21 30]\n",
      "   [41 51 60]\n",
      "   [71 81 90]\n",
      "   [11 12 13]]\n",
      "\n",
      "  [[12 22 30]\n",
      "   [42 52 60]\n",
      "   [72 82 90]\n",
      "   [11 12 13]]]]\n",
      "\n",
      " Sliced elements of the 4D array is \n",
      " [[[[ 1  2  3]\n",
      "   [ 4  5  6]\n",
      "   [ 7  8  9]]\n",
      "\n",
      "  [[10 20 30]\n",
      "   [40 50 60]\n",
      "   [70 80 90]]]\n",
      "\n",
      "\n",
      " [[[11 21 30]\n",
      "   [41 51 60]\n",
      "   [71 81 90]]\n",
      "\n",
      "  [[12 22 30]\n",
      "   [42 52 60]\n",
      "   [72 82 90]]]\n",
      "\n",
      "\n",
      " [[[11 21 30]\n",
      "   [41 51 60]\n",
      "   [71 81 90]]\n",
      "\n",
      "  [[12 22 30]\n",
      "   [42 52 60]\n",
      "   [72 82 90]]]]\n"
     ]
    }
   ],
   "source": [
    "# N-dimensional slicing\n",
    "# First of all 1D array - 1 [], 2D array - 2[[]], 3D array - 3[[[]]], 4D array - 4[[[[]]]] and so on\n",
    "#If no.of objects in selection tuple < N : is assumed for any dimensions\n",
    "yarray = np.array([[[1],[2],[3]],[[4],[5],[6]]])\n",
    "print(yarray)\n",
    "print(\"\\nyarray is a\", yarray.shape, \"matrix\\n i.e there are 2 3by1 matrix\")\n",
    "yarray[1,1:3]\n",
    "\n",
    "#3-dimensional array\n",
    "arr3d = np.array([[[1,2,3],[4,5,6],[7,8,9],[11,12,13]],[[10,20,30],[40,50,60],[70,80,90],[11,12,13]]])\n",
    "print(\"Shape of the 3D array\\n\", arr3d.shape)\n",
    "print(\"3D array \\n\", arr3d)\n",
    "#slice a block out of this\n",
    "arr3d_block = arr3d[:2,1:3,:2]\n",
    "print(\"\\n Sliced 3d block [0:2,1:3,:2]\\n\", arr3d_block)\n",
    "\n",
    "#3-dimensional array - another example\n",
    "ar3d = np.array([[[1,2,3],[4,5,6],[7,8,9],[11,12,13]],\n",
    "                  [[10,20,30],[40,50,60],[70,80,90],[11,12,13]],\n",
    "                  [[11,21,30],[41,51,60],[71,81,90],[11,12,13]],\n",
    "                  [[12,22,30],[42,52,60],[72,82,90],[11,12,13]]])\n",
    "print(\"Shape of the 3D array\\n\", ar3d.shape)\n",
    "print(\"3D array \\n\", ar3d)\n",
    "#slice a block out of this\n",
    "ar3d_block = ar3d[::2,0::4,:2]\n",
    "print(\"\\n Sliced sheets of 1st and 3rd of the 3D-block [0::2,0::4,:2]\\n\", ar3d_block)\n",
    "\n",
    "#4-dimensional array\n",
    "arr4d = np.array([[[[1,2,3],[4,5,6],[7,8,9],[11,12,13]],[[10,20,30],[40,50,60],[70,80,90],[11,12,13]]],\n",
    "                  [[[11,21,30],[41,51,60],[71,81,90],[11,12,13]],[[12,22,30],[42,52,60],[72,82,90],[11,12,13]]],\n",
    "                  [[[11,21,30],[41,51,60],[71,81,90],[11,12,13]],[[12,22,30],[42,52,60],[72,82,90],[11,12,13]]]])\n",
    "print(\"Shape of the 4D array is\",arr4d.shape)\n",
    "print(\"\\nThe 4D array is \\n\", arr4d)\n",
    "print(\"\\n Sliced elements of the 4D array is \\n\", arr4d[0:3,:2,:3,:])\n",
    "\n",
    "\n"
   ]
  },
  {
   "cell_type": "markdown",
   "metadata": {},
   "source": [
    "# ADVANCED INDEXING - INTEGER OR BOOLEAN"
   ]
  },
  {
   "cell_type": "code",
   "execution_count": 6,
   "metadata": {},
   "outputs": [
    {
     "name": "stdout",
     "output_type": "stream",
     "text": [
      "The shape of x is  (2, 3, 1)\n",
      "\n",
      "x slice is \n",
      " [[1 2 3]\n",
      " [4 5 6]]\n",
      "\n",
      "The dimension of x is \n",
      " 3\n",
      "(2, 3, 1, 1) is x with a new axis where it is placed\n",
      "\n",
      "c_combined is \n",
      " [[0 1 2 3 4]\n",
      " [1 2 3 4 5]\n",
      " [2 3 4 5 6]\n",
      " [3 4 5 6 7]\n",
      " [4 5 6 7 8]]\n"
     ]
    }
   ],
   "source": [
    "#Indexing in multiple dimensions\n",
    "x = np.array([[[1],[2],[3]],[[4],[5],[6]]])\n",
    "print(\"The shape of x is \", x.shape)\n",
    "print(\"\\nx slice is \\n\", x[:,:,0])\n",
    "print(\"\\nThe dimension of x is \\n\",x.ndim)\n",
    "\n",
    "#To add a ew dimension to the selection, use newaxis\n",
    "xnew = x[:,:,np.newaxis,:].shape\n",
    "print(xnew, \"is x with a new axis where it is placed\")\n",
    "\n",
    "#Newaxis is usefful for combining two arrays\n",
    "c = np.arange(5)\n",
    "c_combined = c[:,np.newaxis] + c[np.newaxis,:]\n",
    "print(\"\\nc_combined is \\n\", c_combined)"
   ]
  },
  {
   "cell_type": "markdown",
   "metadata": {},
   "source": [
    "# INTEGER ARRAY INDEXING\n",
    "Allows selection of arbitrary items in an array based on their N-dimensional index"
   ]
  },
  {
   "cell_type": "code",
   "execution_count": 7,
   "metadata": {},
   "outputs": [
    {
     "name": "stdout",
     "output_type": "stream",
     "text": [
      "\n",
      "d is \n",
      " [10  9  8  7  6  5  4  3  2]\n",
      "\n",
      "Selected items in d are \n",
      " [8 6 9 2]\n",
      "\n",
      " Elements of d > 5 \n",
      " [10  9  8  7  6]\n",
      "\n",
      " g is \n",
      " [[ 0  1  2  3  4  5  6]\n",
      " [ 7  8  9 10 11 12 13]\n",
      " [14 15 16 17 18 19 20]\n",
      " [21 22 23 24 25 26 27]\n",
      " [28 29 30 31 32 33 34]]\n",
      "\n",
      " The selection based on the row and column indices is \n",
      " [ 0 15 30]\n",
      "Shape of k is \n",
      " (3, 2)\n",
      "\n",
      " The selection based on the row and column indices is \n",
      " [1 4 5]\n",
      "\n",
      "The selected elements using advanced indexing are \n",
      " [[ 0  2]\n",
      " [ 9 11]]\n"
     ]
    }
   ],
   "source": [
    "d = np.arange(10,1,-1)\n",
    "print(\"\\nd is \\n\", d)\n",
    "d_sel = d[np.array([2,4,1,8])]\n",
    "print(\"\\nSelected items in d are \\n\", d_sel)\n",
    "print(\"\\n Elements of d > 5 \\n\", d[d>5])\n",
    "\n",
    "#Indexing multi-dimensional arrays using integer array\n",
    "g = np.arange(35).reshape(5,7)\n",
    "print(\"\\n g is \\n\", g)\n",
    "#Now this is a 5 by 7 matrix g(r,c) where r and c selection can be an integer array\n",
    "selection = g[np.array([0,2,4]),np.array([0,1,2])]\n",
    "print(\"\\n The selection based on the row and column indices is \\n\", selection)\n",
    "\n",
    "#Another example\n",
    "k = np.array([[1,2],[3,4],[5,6]])\n",
    "print(\"Shape of k is \\n\", k.shape)\n",
    "k_sel = k[np.array([0,1,2]),np.array([0,1,0])]\n",
    "print(\"\\n The selection based on the row and column indices is \\n\", k_sel)\n",
    "\n",
    "#Another example of advanced indexing\n",
    "z = np.array([[0,1,2],\n",
    "              [3,4,5],\n",
    "              [6,7,8],\n",
    "              [9,10,11]])\n",
    "#define the row indices\n",
    "rows = np.array([[0,0],[3,3]],dtype=np.intp)\n",
    "#define the column indices\n",
    "cols = np.array([[0,2],[0,2]],dtype=np.intp)\n",
    "print(\"\\nThe selected elements using advanced indexing are \\n\", z[rows,cols])"
   ]
  },
  {
   "cell_type": "code",
   "execution_count": 12,
   "metadata": {},
   "outputs": [
    {
     "name": "stdout",
     "output_type": "stream",
     "text": [
      "ELements of w that are not a number are [1. 2. 3.]\n",
      "Negative values of u plus a costant\n",
      " [19. 18. 16.]\n",
      "[ 1. 19. 18.  3. 16.]\n",
      "[ 1. 19. 18.  3. 16.]\n",
      "\t is \n",
      " [[ 0  1  2  3  4  5  6]\n",
      " [ 7  8  9 10 11 12 13]\n",
      " [14 15 16 17 18 19 20]\n",
      " [21 22 23 24 25 26 27]\n",
      " [28 29 30 31 32 33 34]]\n",
      "[[False False False False False False False]\n",
      " [False False False False False False False]\n",
      " [False False False False False False False]\n",
      " [ True  True  True  True  True  True  True]\n",
      " [ True  True  True  True  True  True  True]]\n",
      "\n",
      " Shape of s is \n",
      " (3, 2)\n",
      "\n",
      "Sum across all rows is \n",
      " [1 2 4]\n",
      "\n",
      "rows that sum to even numbers - [False  True False  True]\n",
      "\n",
      " columns 0 & 2 -  [0 2]\n",
      "\n",
      " Selected rows from the given matrix is give as\n",
      " [[ 3  5]\n",
      " [ 9 11]]\n",
      "\n",
      " The 2 by 3 by 5 array is \n",
      " [[[ 0  1  2  3  4]\n",
      "  [ 5  6  7  8  9]\n",
      "  [10 11 12 13 14]]\n",
      "\n",
      " [[15 16 17 18 19]\n",
      "  [20 21 22 23 24]\n",
      "  [25 26 27 28 29]]]\n",
      "\n",
      " The selected rows using the boolean condition is given as \n",
      " [[ 0  1  2  3  4]\n",
      " [10 11 12 13 14]\n",
      " [15 16 17 18 19]\n",
      " [25 26 27 28 29]]\n",
      "\n",
      "What this does is to go down the rows of the 235 array and select the row indices where the boolean value is true\n",
      "\n",
      "This means given rows[0,1,2,3,4,5], and boolean array[T,F,T,T,F,T), only rows[0,2,3,5] will be selected\n"
     ]
    }
   ],
   "source": [
    "# BOOLEAN ARRAY INDEXING Usefulwhe filtering element values\n",
    "w = np.array([[1.,2.],[np.nan,3.],[np.nan,np.nan]])\n",
    "non_nan = w[~np.isnan(w)] #find elements of x that are not a number (nan)\n",
    "print(\"ELements of w that are not a number are\", non_nan)\n",
    "\n",
    "#Add a constant to all negative values\n",
    "u = np.array([1., -1, -2, 3, -4])\n",
    "u_neg = u[u<0]\n",
    "u_negplusconst = u_neg + 20\n",
    "print(\"Negative values of u plus a costant\\n\", u_negplusconst)\n",
    "\n",
    "#Explore the two different coding styles\n",
    "unew = u\n",
    "#or simply put\n",
    "u[u<0] = u[u<0] +20\n",
    "print(u)\n",
    "#or\n",
    "unew[unew<0] += 20\n",
    "print(unew)\n",
    "\n",
    "#Boolean indexing another way ?????????????????????????\n",
    "t = np.arange(35).reshape(5,7)\n",
    "print(\"\\t is \\n\", t)\n",
    "#define a boolean array that meets a specific condition\n",
    "b = t>20\n",
    "print(b)\n",
    "b[:,5] #print the 5th column\n",
    "t[b[:,5]]\n",
    "\n",
    "#Boolean Indexing - Given an array select all rows which sum up to less than or equal to 2\n",
    "s = np.array([[0,1],[1,1],[2,2]])\n",
    "print(\"\\n Shape of s is \\n\", s.shape)\n",
    "rowsum = np.sum(s,-1) #or s.sum(-1) sum array alog the axis provided\n",
    "print(\"\\nSum across all rows is \\n\", rowsum)\n",
    "\n",
    "#Use Boolean to select all rows adding up to an even number & use advanced integer idex to select columns 0 & 2\n",
    "mat = np.array([[0,1,2],\n",
    "                [3,4,5],\n",
    "                [6,7,8],\n",
    "                [9,10,11]])\n",
    "rows = np.sum(mat,-1)%2 == 0; print(\"\\nrows that sum to even numbers -\", rows)\n",
    "cols = np.array([0,2]); print(\"\\n columns 0 & 2 - \", cols)\n",
    "mat = mat[np.ix_(rows,cols)]; print(\"\\n Selected rows from the given matrix is give as\\n\", mat)\n",
    "\n",
    "#Use a 2D boolaean array of shape (2,3)with 4 true elements to select rows from a (2,3,5) array to give a (4,5) 2D array\n",
    "arr235 = np.arange(30).reshape(2,3,5)\n",
    "print(\"\\n The 2 by 3 by 5 array is \\n\", arr235)\n",
    "boolarray_rows = np.array([[True,False,True],[True,False,True]]) #the boolean selection array of 2 by 3\n",
    "row_selection = arr235[boolarray_rows]\n",
    "print(\"\\n The selected rows using the boolean condition is given as \\n\", row_selection)\n",
    "print(\"\\nWhat this does is to go down the rows of the 235 array and select the row indices where the boolean value is true\\n\")\n",
    "print(\"This means given rows[0,1,2,3,4,5], and boolean array[T,F,T,T,F,T), only rows[0,2,3,5] will be selected\")"
   ]
  },
  {
   "cell_type": "markdown",
   "metadata": {},
   "source": [
    "# COMBINED ADVANCED & BASIC INDEXING"
   ]
  },
  {
   "cell_type": "code",
   "execution_count": 30,
   "metadata": {},
   "outputs": [
    {
     "name": "stdout",
     "output_type": "stream",
     "text": [
      "\n",
      "r is\n",
      " [[ 0  1  2  3  4  5  6]\n",
      " [ 7  8  9 10 11 12 13]\n",
      " [14 15 16 17 18 19 20]\n",
      " [21 22 23 24 25 26 27]\n",
      " [28 29 30 31 32 33 34]]\n",
      "\n",
      "The selected rows are obtained by combining integer array and slicing operation\n",
      " [[ 1  2]\n",
      " [15 16]\n",
      " [29 30]]\n",
      "\n",
      "The selected rows are obtained by first selecting the columns before the rows\n",
      " [[ 1  2]\n",
      " [15 16]\n",
      " [29 30]]\n",
      "\n",
      "q is  [[ 0  1  2]\n",
      " [ 3  4  5]\n",
      " [ 6  7  8]\n",
      " [ 9 10 11]]\n",
      "\n",
      " The slice of rows and columns selected is using 2 slices\n",
      " [[4 5]]\n",
      "\n",
      "q hasn't changed\n",
      " [[ 0  1  2]\n",
      " [ 3  4  5]\n",
      " [ 6  7  8]\n",
      " [ 9 10 11]]\n",
      "\n",
      "The selection obtained using a single advanced index and a slice \n",
      " [[4 5]]\n",
      "[0, 1, 2, 3, 4, 5, 6, 7, 8, 9, 10, 11, 12, 13, 14, 15, 16, 17, 18, 19, 20, 21, 22, 23, 24, 25, 26, 27, 28, 29, 30, 31, 32, 33, 34, 35, 36, 37, 38, 39, 40, 41, 42, 43, 44, 45, 46, 47, 48, 49, 50, 51, 52, 53, 54, 55, 56, 57, 58, 59, 60, 61, 62, 63, 64, 65, 66, 67, 68, 69, 70, 71, 72, 73, 74, 75, 76, 77, 78, 79, 80, 81, 82, 83, 84, 85, 86, 87, 88, 89, 90, 91, 92, 93, 94, 95, 96, 97, 98, 99]\n"
     ]
    }
   ],
   "source": [
    "#Example - Make a selection by combining integer array indexing and slicing operation\n",
    "r = np.arange(35).reshape(5,7)\n",
    "print(\"\\nr is\\n\", r)\n",
    "#select the columns 1&2 of the rows 0,2&4\n",
    "r_sel = r[np.array([0,2,4]),1:3]\n",
    "print(\"\\nThe selected rows are obtained by combining integer array and slicing operation\\n\", r_sel)\n",
    "\n",
    "#Alternatively, select the columns first before the rows\n",
    "r_newsel = r[:,1:3][np.array([0,2,4]),:]\n",
    "print(\"\\nThe selected rows are obtained by first selecting the columns before the rows\\n\", r_newsel)\n",
    "\n",
    "#Using a single advanced index to replace a slice to get the same result\n",
    "q = np.arange(12).reshape(4,3)\n",
    "print(\"\\nq is \", q)\n",
    "#Now use a slice to select rows and columns\n",
    "q_slice = q[1:2,1:3] #indices of rows and columns are represented by a slice\n",
    "print(\"\\n The slice of rows and columns selected is using 2 slices\\n\", q_slice)\n",
    "print(\"\\nq hasn't changed\\n\", q)\n",
    "#Now use a single advanced index to replace a slice either for row or column\n",
    "q_advIndex = q[1:2,[1,2]]\n",
    "print(\"\\nThe selection obtained using a single advanced index and a slice \\n\", q_advIndex)\n",
    "\n",
    "#You can also use the function np.take to \n",
    "print(list(range(100)))"
   ]
  },
  {
   "cell_type": "markdown",
   "metadata": {},
   "source": [
    "# APPLICATION OF SLICING & INDEXING TO MACHINE LEARNING\n"
   ]
  },
  {
   "cell_type": "markdown",
   "metadata": {},
   "source": [
    "# TWO DIMENSIONAL SLICING \n",
    "There are two examples of 2D slicing that you will encounter in machine learning"
   ]
  },
  {
   "cell_type": "markdown",
   "metadata": {},
   "source": [
    "# SPLIT INPUT & OUTPUT FEATURES\n",
    "It is common to split your loaded data into input(X) and output variables(Y)\n",
    "How do we do this?\n",
    "1. We can do this by slicing all rows and all columns up to but before the last column, then separately indexing the last column\n",
    "2. For the input features, we can select all rows and all columns except the last one by specifying : for in the rows index and :-1 in the columns index"
   ]
  },
  {
   "cell_type": "code",
   "execution_count": null,
   "metadata": {},
   "outputs": [],
   "source": [
    "# Example\n",
    "import numpy as np\n",
    "#define array\n",
    "data = np.array([[11,22,33],\n",
    "               [44,55,66],\n",
    "               [77,88,99]])\n",
    "#Separate the data ito input ad output\n",
    "x = data[:,:-1] #input variables\n",
    "y = data[:,-1] #output variables\n",
    "print(\"x=\\n\",x)\n",
    "print(\"\\ny =\\n\", y)"
   ]
  },
  {
   "cell_type": "markdown",
   "metadata": {},
   "source": [
    "# SPLIT TRAIN & TEST ROWS\n",
    "Splitting into train and test sets involves splitting of rows where some portion will be used to train the model and the remaining portion will be used to estimate the skill of the trained model. \n",
    "1. The training dataset would be all rows to the beginning of the split point\n",
    "2. The test dataset will be all rows starting from the split point to the end of the dimension\n"
   ]
  },
  {
   "cell_type": "code",
   "execution_count": 8,
   "metadata": {},
   "outputs": [
    {
     "name": "stdout",
     "output_type": "stream",
     "text": [
      "train set \n",
      " [[11 22 33]\n",
      " [44 55 66]]\n",
      "\n",
      "test set \n",
      " [[77 88 99]]\n"
     ]
    }
   ],
   "source": [
    "#Example Split Train & Test Data\n",
    "#define array\n",
    "dataset = np.array([[11,22,33],\n",
    "                    [44,55,66],\n",
    "                    [77,88,99]])\n",
    "#Separate the data\n",
    "split = 2\n",
    "train,test = data[:split,:],data[split:,:]\n",
    "print(\"train set \\n\", train)\n",
    "print(\"\\ntest set \\n\", test)"
   ]
  },
  {
   "cell_type": "markdown",
   "metadata": {},
   "source": [
    "# PRACTICALS"
   ]
  },
  {
   "cell_type": "code",
   "execution_count": null,
   "metadata": {},
   "outputs": [],
   "source": [
    "# 1. DEVELOP YOUR OWN EXAMPLE "
   ]
  }
 ],
 "metadata": {
  "kernelspec": {
   "display_name": "Python 3",
   "language": "python",
   "name": "python3"
  },
  "language_info": {
   "codemirror_mode": {
    "name": "ipython",
    "version": 3
   },
   "file_extension": ".py",
   "mimetype": "text/x-python",
   "name": "python",
   "nbconvert_exporter": "python",
   "pygments_lexer": "ipython3",
   "version": "3.7.4"
  }
 },
 "nbformat": 4,
 "nbformat_minor": 5
}
