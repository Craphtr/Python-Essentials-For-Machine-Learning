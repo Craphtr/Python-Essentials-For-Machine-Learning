{
 "cells": [
  {
   "cell_type": "markdown",
   "metadata": {},
   "source": [
    "<div class=\"alert alert-block\" style = \"background-color: black\">\n",
    "    <p><b><font size=\"+4\" color=\"orange\">Data Cleaning & Preparation in Pandas</font></b></p>\n",
    "    <p><b><font size=\"+1\" color=\"white\">by Jubril Davies</font></b></p>\n",
    "    </div>"
   ]
  },
  {
   "cell_type": "code",
   "execution_count": 77,
   "metadata": {},
   "outputs": [],
   "source": [
    "import warnings\n",
    "warnings.filterwarnings('ignore')\n",
    "\n",
    "import numpy as np\n",
    "import pandas as pd\n",
    "import seaborn as sb\n",
    "import matplotlib.pyplot as plt\n",
    "import matplotlib_inline.backend_inline\n",
    "matplotlib_inline.backend_inline.set_matplotlib_formats('svg')\n",
    "plt.rcParams.update({'font.size':14}) #sets global font size"
   ]
  },
  {
   "cell_type": "markdown",
   "metadata": {},
   "source": [
    "$$\\begin{align} \\text{This work focuses on filtering, cleaning and transforming data} \\end{align}$$\n",
    "---\n",
    "<div class= \"alert alert-block\" style=\"background-color: orange; border-color: black\">\n",
    "    <p><b><font size=\"+2\" color=\"black\">Removing Duplicates</font></b></p>\n",
    "    </div>\n",
    "    \n",
    "---\n",
    "\n",
    "A messy dataset may contain duplicate rows for many reasons. This may be valid duplicates or invalid depending on the context of the domain problem. In invalid cases, the DataFrame methods `duplicated` and `drop_duplicates` offer an excellent way of handling such situations.\n",
    "\n",
    "> #### **Given the DataSet**"
   ]
  },
  {
   "cell_type": "code",
   "execution_count": 2,
   "metadata": {},
   "outputs": [
    {
     "data": {
      "text/html": [
       "<div>\n",
       "<style scoped>\n",
       "    .dataframe tbody tr th:only-of-type {\n",
       "        vertical-align: middle;\n",
       "    }\n",
       "\n",
       "    .dataframe tbody tr th {\n",
       "        vertical-align: top;\n",
       "    }\n",
       "\n",
       "    .dataframe thead th {\n",
       "        text-align: right;\n",
       "    }\n",
       "</style>\n",
       "<table border=\"1\" class=\"dataframe\">\n",
       "  <thead>\n",
       "    <tr style=\"text-align: right;\">\n",
       "      <th></th>\n",
       "      <th>Name</th>\n",
       "      <th>Age</th>\n",
       "      <th>Dept</th>\n",
       "      <th>Salary</th>\n",
       "    </tr>\n",
       "  </thead>\n",
       "  <tbody>\n",
       "    <tr>\n",
       "      <th>0</th>\n",
       "      <td>Adam</td>\n",
       "      <td>25</td>\n",
       "      <td>HR</td>\n",
       "      <td>50000</td>\n",
       "    </tr>\n",
       "    <tr>\n",
       "      <th>1</th>\n",
       "      <td>Bale</td>\n",
       "      <td>30</td>\n",
       "      <td>IT</td>\n",
       "      <td>60000</td>\n",
       "    </tr>\n",
       "    <tr>\n",
       "      <th>2</th>\n",
       "      <td>Chris</td>\n",
       "      <td>35</td>\n",
       "      <td>Sales</td>\n",
       "      <td>70000</td>\n",
       "    </tr>\n",
       "    <tr>\n",
       "      <th>3</th>\n",
       "      <td>Dave</td>\n",
       "      <td>40</td>\n",
       "      <td>IT</td>\n",
       "      <td>80000</td>\n",
       "    </tr>\n",
       "    <tr>\n",
       "      <th>4</th>\n",
       "      <td>Edward</td>\n",
       "      <td>45</td>\n",
       "      <td>Supply</td>\n",
       "      <td>90000</td>\n",
       "    </tr>\n",
       "    <tr>\n",
       "      <th>5</th>\n",
       "      <td>Adam</td>\n",
       "      <td>25</td>\n",
       "      <td>HR</td>\n",
       "      <td>50000</td>\n",
       "    </tr>\n",
       "    <tr>\n",
       "      <th>6</th>\n",
       "      <td>Bale</td>\n",
       "      <td>30</td>\n",
       "      <td>IT</td>\n",
       "      <td>60000</td>\n",
       "    </tr>\n",
       "    <tr>\n",
       "      <th>7</th>\n",
       "      <td>Adam</td>\n",
       "      <td>28</td>\n",
       "      <td>HR</td>\n",
       "      <td>52000</td>\n",
       "    </tr>\n",
       "  </tbody>\n",
       "</table>\n",
       "</div>"
      ],
      "text/plain": [
       "     Name  Age    Dept  Salary\n",
       "0    Adam   25      HR   50000\n",
       "1    Bale   30      IT   60000\n",
       "2   Chris   35   Sales   70000\n",
       "3    Dave   40      IT   80000\n",
       "4  Edward   45  Supply   90000\n",
       "5    Adam   25      HR   50000\n",
       "6    Bale   30      IT   60000\n",
       "7    Adam   28      HR   52000"
      ]
     },
     "execution_count": 2,
     "metadata": {},
     "output_type": "execute_result"
    }
   ],
   "source": [
    "data = pd.DataFrame({'Name':['Adam','Bale','Chris','Dave','Edward','Adam','Bale','Adam'],\n",
    "                    'Age':[25,30,35,40,45,25,30,28], 'Dept':['HR','IT','Sales','IT','Supply','HR','IT','HR'],\n",
    "                    'Salary':[50000,60000,70000,80000,90000,50000,60000,52000]})\n",
    "data"
   ]
  },
  {
   "cell_type": "code",
   "execution_count": 3,
   "metadata": {},
   "outputs": [
    {
     "data": {
      "text/html": [
       "<div>\n",
       "<style scoped>\n",
       "    .dataframe tbody tr th:only-of-type {\n",
       "        vertical-align: middle;\n",
       "    }\n",
       "\n",
       "    .dataframe tbody tr th {\n",
       "        vertical-align: top;\n",
       "    }\n",
       "\n",
       "    .dataframe thead th {\n",
       "        text-align: right;\n",
       "    }\n",
       "</style>\n",
       "<table border=\"1\" class=\"dataframe\">\n",
       "  <thead>\n",
       "    <tr style=\"text-align: right;\">\n",
       "      <th></th>\n",
       "      <th>Name</th>\n",
       "      <th>Age</th>\n",
       "      <th>Dept</th>\n",
       "      <th>Salary</th>\n",
       "    </tr>\n",
       "  </thead>\n",
       "  <tbody>\n",
       "    <tr>\n",
       "      <th>0</th>\n",
       "      <td>Adam</td>\n",
       "      <td>25</td>\n",
       "      <td>HR</td>\n",
       "      <td>50000</td>\n",
       "    </tr>\n",
       "    <tr>\n",
       "      <th>1</th>\n",
       "      <td>Bale</td>\n",
       "      <td>30</td>\n",
       "      <td>IT</td>\n",
       "      <td>60000</td>\n",
       "    </tr>\n",
       "    <tr>\n",
       "      <th>2</th>\n",
       "      <td>Chris</td>\n",
       "      <td>35</td>\n",
       "      <td>Sales</td>\n",
       "      <td>70000</td>\n",
       "    </tr>\n",
       "    <tr>\n",
       "      <th>3</th>\n",
       "      <td>Dave</td>\n",
       "      <td>40</td>\n",
       "      <td>IT</td>\n",
       "      <td>80000</td>\n",
       "    </tr>\n",
       "    <tr>\n",
       "      <th>4</th>\n",
       "      <td>Edward</td>\n",
       "      <td>45</td>\n",
       "      <td>Supply</td>\n",
       "      <td>90000</td>\n",
       "    </tr>\n",
       "    <tr>\n",
       "      <th>7</th>\n",
       "      <td>Adam</td>\n",
       "      <td>28</td>\n",
       "      <td>HR</td>\n",
       "      <td>52000</td>\n",
       "    </tr>\n",
       "  </tbody>\n",
       "</table>\n",
       "</div>"
      ],
      "text/plain": [
       "     Name  Age    Dept  Salary\n",
       "0    Adam   25      HR   50000\n",
       "1    Bale   30      IT   60000\n",
       "2   Chris   35   Sales   70000\n",
       "3    Dave   40      IT   80000\n",
       "4  Edward   45  Supply   90000\n",
       "7    Adam   28      HR   52000"
      ]
     },
     "execution_count": 3,
     "metadata": {},
     "output_type": "execute_result"
    }
   ],
   "source": [
    "data_no_duplicates = data.drop_duplicates()\n",
    "data_no_duplicates"
   ]
  },
  {
   "cell_type": "code",
   "execution_count": 4,
   "metadata": {},
   "outputs": [
    {
     "data": {
      "text/plain": [
       "0    False\n",
       "1    False\n",
       "2    False\n",
       "3    False\n",
       "4    False\n",
       "5     True\n",
       "6     True\n",
       "7    False\n",
       "dtype: bool"
      ]
     },
     "execution_count": 4,
     "metadata": {},
     "output_type": "execute_result"
    }
   ],
   "source": [
    "data.duplicated()"
   ]
  },
  {
   "cell_type": "markdown",
   "metadata": {},
   "source": [
    "> #### **Remove duplicates based on Specific Columns**\n",
    "Remove duplicates based only on the Name and Department columns, keeping the first occurrence"
   ]
  },
  {
   "cell_type": "code",
   "execution_count": 5,
   "metadata": {},
   "outputs": [
    {
     "data": {
      "text/html": [
       "<div>\n",
       "<style scoped>\n",
       "    .dataframe tbody tr th:only-of-type {\n",
       "        vertical-align: middle;\n",
       "    }\n",
       "\n",
       "    .dataframe tbody tr th {\n",
       "        vertical-align: top;\n",
       "    }\n",
       "\n",
       "    .dataframe thead th {\n",
       "        text-align: right;\n",
       "    }\n",
       "</style>\n",
       "<table border=\"1\" class=\"dataframe\">\n",
       "  <thead>\n",
       "    <tr style=\"text-align: right;\">\n",
       "      <th></th>\n",
       "      <th>Name</th>\n",
       "      <th>Age</th>\n",
       "      <th>Dept</th>\n",
       "      <th>Salary</th>\n",
       "    </tr>\n",
       "  </thead>\n",
       "  <tbody>\n",
       "    <tr>\n",
       "      <th>0</th>\n",
       "      <td>Adam</td>\n",
       "      <td>25</td>\n",
       "      <td>HR</td>\n",
       "      <td>50000</td>\n",
       "    </tr>\n",
       "    <tr>\n",
       "      <th>1</th>\n",
       "      <td>Bale</td>\n",
       "      <td>30</td>\n",
       "      <td>IT</td>\n",
       "      <td>60000</td>\n",
       "    </tr>\n",
       "    <tr>\n",
       "      <th>2</th>\n",
       "      <td>Chris</td>\n",
       "      <td>35</td>\n",
       "      <td>Sales</td>\n",
       "      <td>70000</td>\n",
       "    </tr>\n",
       "    <tr>\n",
       "      <th>3</th>\n",
       "      <td>Dave</td>\n",
       "      <td>40</td>\n",
       "      <td>IT</td>\n",
       "      <td>80000</td>\n",
       "    </tr>\n",
       "    <tr>\n",
       "      <th>4</th>\n",
       "      <td>Edward</td>\n",
       "      <td>45</td>\n",
       "      <td>Supply</td>\n",
       "      <td>90000</td>\n",
       "    </tr>\n",
       "  </tbody>\n",
       "</table>\n",
       "</div>"
      ],
      "text/plain": [
       "     Name  Age    Dept  Salary\n",
       "0    Adam   25      HR   50000\n",
       "1    Bale   30      IT   60000\n",
       "2   Chris   35   Sales   70000\n",
       "3    Dave   40      IT   80000\n",
       "4  Edward   45  Supply   90000"
      ]
     },
     "execution_count": 5,
     "metadata": {},
     "output_type": "execute_result"
    }
   ],
   "source": [
    "data_no_duplicates_specific = data.drop_duplicates(subset=['Name','Dept'])\n",
    "\n",
    "data_no_duplicates_specific"
   ]
  },
  {
   "cell_type": "markdown",
   "metadata": {},
   "source": [
    "> #### **Passing the `keep=last` will return only the last one**"
   ]
  },
  {
   "cell_type": "code",
   "execution_count": 6,
   "metadata": {},
   "outputs": [
    {
     "data": {
      "text/html": [
       "<div>\n",
       "<style scoped>\n",
       "    .dataframe tbody tr th:only-of-type {\n",
       "        vertical-align: middle;\n",
       "    }\n",
       "\n",
       "    .dataframe tbody tr th {\n",
       "        vertical-align: top;\n",
       "    }\n",
       "\n",
       "    .dataframe thead th {\n",
       "        text-align: right;\n",
       "    }\n",
       "</style>\n",
       "<table border=\"1\" class=\"dataframe\">\n",
       "  <thead>\n",
       "    <tr style=\"text-align: right;\">\n",
       "      <th></th>\n",
       "      <th>Name</th>\n",
       "      <th>Age</th>\n",
       "      <th>Dept</th>\n",
       "      <th>Salary</th>\n",
       "    </tr>\n",
       "  </thead>\n",
       "  <tbody>\n",
       "    <tr>\n",
       "      <th>2</th>\n",
       "      <td>Chris</td>\n",
       "      <td>35</td>\n",
       "      <td>Sales</td>\n",
       "      <td>70000</td>\n",
       "    </tr>\n",
       "    <tr>\n",
       "      <th>3</th>\n",
       "      <td>Dave</td>\n",
       "      <td>40</td>\n",
       "      <td>IT</td>\n",
       "      <td>80000</td>\n",
       "    </tr>\n",
       "    <tr>\n",
       "      <th>4</th>\n",
       "      <td>Edward</td>\n",
       "      <td>45</td>\n",
       "      <td>Supply</td>\n",
       "      <td>90000</td>\n",
       "    </tr>\n",
       "    <tr>\n",
       "      <th>6</th>\n",
       "      <td>Bale</td>\n",
       "      <td>30</td>\n",
       "      <td>IT</td>\n",
       "      <td>60000</td>\n",
       "    </tr>\n",
       "    <tr>\n",
       "      <th>7</th>\n",
       "      <td>Adam</td>\n",
       "      <td>28</td>\n",
       "      <td>HR</td>\n",
       "      <td>52000</td>\n",
       "    </tr>\n",
       "  </tbody>\n",
       "</table>\n",
       "</div>"
      ],
      "text/plain": [
       "     Name  Age    Dept  Salary\n",
       "2   Chris   35   Sales   70000\n",
       "3    Dave   40      IT   80000\n",
       "4  Edward   45  Supply   90000\n",
       "6    Bale   30      IT   60000\n",
       "7    Adam   28      HR   52000"
      ]
     },
     "execution_count": 6,
     "metadata": {},
     "output_type": "execute_result"
    }
   ],
   "source": [
    "data_no_duplicates_keep_last = data.drop_duplicates(['Name','Dept'],keep='last')\n",
    "\n",
    "data_no_duplicates_keep_last"
   ]
  },
  {
   "cell_type": "markdown",
   "metadata": {},
   "source": [
    "> #### **After removing duplicates, it might be necessary to reset index for a cleaner dataframe**"
   ]
  },
  {
   "cell_type": "code",
   "execution_count": 7,
   "metadata": {},
   "outputs": [
    {
     "data": {
      "text/html": [
       "<div>\n",
       "<style scoped>\n",
       "    .dataframe tbody tr th:only-of-type {\n",
       "        vertical-align: middle;\n",
       "    }\n",
       "\n",
       "    .dataframe tbody tr th {\n",
       "        vertical-align: top;\n",
       "    }\n",
       "\n",
       "    .dataframe thead th {\n",
       "        text-align: right;\n",
       "    }\n",
       "</style>\n",
       "<table border=\"1\" class=\"dataframe\">\n",
       "  <thead>\n",
       "    <tr style=\"text-align: right;\">\n",
       "      <th></th>\n",
       "      <th>Name</th>\n",
       "      <th>Age</th>\n",
       "      <th>Dept</th>\n",
       "      <th>Salary</th>\n",
       "    </tr>\n",
       "  </thead>\n",
       "  <tbody>\n",
       "    <tr>\n",
       "      <th>0</th>\n",
       "      <td>Adam</td>\n",
       "      <td>25</td>\n",
       "      <td>HR</td>\n",
       "      <td>50000</td>\n",
       "    </tr>\n",
       "    <tr>\n",
       "      <th>1</th>\n",
       "      <td>Bale</td>\n",
       "      <td>30</td>\n",
       "      <td>IT</td>\n",
       "      <td>60000</td>\n",
       "    </tr>\n",
       "    <tr>\n",
       "      <th>2</th>\n",
       "      <td>Chris</td>\n",
       "      <td>35</td>\n",
       "      <td>Sales</td>\n",
       "      <td>70000</td>\n",
       "    </tr>\n",
       "    <tr>\n",
       "      <th>3</th>\n",
       "      <td>Dave</td>\n",
       "      <td>40</td>\n",
       "      <td>IT</td>\n",
       "      <td>80000</td>\n",
       "    </tr>\n",
       "    <tr>\n",
       "      <th>4</th>\n",
       "      <td>Edward</td>\n",
       "      <td>45</td>\n",
       "      <td>Supply</td>\n",
       "      <td>90000</td>\n",
       "    </tr>\n",
       "    <tr>\n",
       "      <th>5</th>\n",
       "      <td>Adam</td>\n",
       "      <td>28</td>\n",
       "      <td>HR</td>\n",
       "      <td>52000</td>\n",
       "    </tr>\n",
       "  </tbody>\n",
       "</table>\n",
       "</div>"
      ],
      "text/plain": [
       "     Name  Age    Dept  Salary\n",
       "0    Adam   25      HR   50000\n",
       "1    Bale   30      IT   60000\n",
       "2   Chris   35   Sales   70000\n",
       "3    Dave   40      IT   80000\n",
       "4  Edward   45  Supply   90000\n",
       "5    Adam   28      HR   52000"
      ]
     },
     "execution_count": 7,
     "metadata": {},
     "output_type": "execute_result"
    }
   ],
   "source": [
    "data_reset_index = data.drop_duplicates().reset_index(drop=True)\n",
    "\n",
    "data_reset_index"
   ]
  },
  {
   "cell_type": "markdown",
   "metadata": {},
   "source": [
    "<div class= \"alert alert-block\" style=\"background-color: orange; border-color: black\">\n",
    "    <p><b><font size=\"+2\" color=\"black\">Transforming Data using a Function or Mapping</font></b></p>\n",
    "    </div>\n",
    "\n",
    "---\n",
    "\n",
    "In some instances, it might be necessary to transform data based on values in an array, series or dataframe. This can be achieved using a function or Pandas map function in the case of a dataframe."
   ]
  },
  {
   "cell_type": "markdown",
   "metadata": {},
   "source": [
    "<div style=\"background-color: black; padding: 5px\">\n",
    "    <p><b><font size=\"+2\" color=\"white\">1. Transforming Data in an Array</font></b></p>\n",
    "    </div>\n",
    "\n",
    "> #### **Given an array of temperatures**"
   ]
  },
  {
   "cell_type": "code",
   "execution_count": 8,
   "metadata": {},
   "outputs": [
    {
     "data": {
      "text/plain": [
       "array([  0,  20,  30,  40, 100])"
      ]
     },
     "execution_count": 8,
     "metadata": {},
     "output_type": "execute_result"
    }
   ],
   "source": [
    "celsius_temp = np.array([0,20,30,40,100])\n",
    "celsius_temp"
   ]
  },
  {
   "cell_type": "markdown",
   "metadata": {},
   "source": [
    "**Define a transformation function to convert celsius to fahrenheit**"
   ]
  },
  {
   "cell_type": "code",
   "execution_count": 9,
   "metadata": {},
   "outputs": [
    {
     "data": {
      "text/html": [
       "<div>\n",
       "<style scoped>\n",
       "    .dataframe tbody tr th:only-of-type {\n",
       "        vertical-align: middle;\n",
       "    }\n",
       "\n",
       "    .dataframe tbody tr th {\n",
       "        vertical-align: top;\n",
       "    }\n",
       "\n",
       "    .dataframe thead th {\n",
       "        text-align: right;\n",
       "    }\n",
       "</style>\n",
       "<table border=\"1\" class=\"dataframe\">\n",
       "  <thead>\n",
       "    <tr style=\"text-align: right;\">\n",
       "      <th></th>\n",
       "      <th>celsius_temp</th>\n",
       "      <th>fahrenheit_temp</th>\n",
       "    </tr>\n",
       "  </thead>\n",
       "  <tbody>\n",
       "    <tr>\n",
       "      <th>0</th>\n",
       "      <td>0</td>\n",
       "      <td>32.0</td>\n",
       "    </tr>\n",
       "    <tr>\n",
       "      <th>1</th>\n",
       "      <td>20</td>\n",
       "      <td>68.0</td>\n",
       "    </tr>\n",
       "    <tr>\n",
       "      <th>2</th>\n",
       "      <td>30</td>\n",
       "      <td>86.0</td>\n",
       "    </tr>\n",
       "    <tr>\n",
       "      <th>3</th>\n",
       "      <td>40</td>\n",
       "      <td>104.0</td>\n",
       "    </tr>\n",
       "    <tr>\n",
       "      <th>4</th>\n",
       "      <td>100</td>\n",
       "      <td>212.0</td>\n",
       "    </tr>\n",
       "  </tbody>\n",
       "</table>\n",
       "</div>"
      ],
      "text/plain": [
       "   celsius_temp  fahrenheit_temp\n",
       "0             0             32.0\n",
       "1            20             68.0\n",
       "2            30             86.0\n",
       "3            40            104.0\n",
       "4           100            212.0"
      ]
     },
     "execution_count": 9,
     "metadata": {},
     "output_type": "execute_result"
    }
   ],
   "source": [
    "def celsius_to_fahrenheit(celsius):\n",
    "    return celsius * 9/5 + 32\n",
    "\n",
    "# Apply the function to the array\n",
    "vectorized_func = np.vectorize(celsius_to_fahrenheit)\n",
    "fahrenheit_temp = vectorized_func(celsius_temp)\n",
    "temp = pd.DataFrame({'celsius_temp':celsius_temp,'fahrenheit_temp':fahrenheit_temp})\n",
    "temp"
   ]
  },
  {
   "cell_type": "markdown",
   "metadata": {},
   "source": [
    "<div style=\"background-color: black; padding: 5px\">\n",
    "    <p><b><font size=\"+2\" color=\"white\">2. Transforming Data in a Series</font></b></p>\n",
    "    </div>\n",
    "\n",
    "> #### **Given a series of dates with the goal of applying transformations to extract weekdays and weekends**"
   ]
  },
  {
   "cell_type": "code",
   "execution_count": 10,
   "metadata": {},
   "outputs": [
    {
     "data": {
      "text/plain": [
       "0    2024-01-01\n",
       "1    2024-01-02\n",
       "2    2024-01-03\n",
       "3    2024-01-04\n",
       "4    2024-01-05\n",
       "5    2024-01-06\n",
       "6    2024-01-07\n",
       "dtype: object"
      ]
     },
     "execution_count": 10,
     "metadata": {},
     "output_type": "execute_result"
    }
   ],
   "source": [
    "dates = pd.Series(['2024-01-01','2024-01-02','2024-01-03','2024-01-04','2024-01-05','2024-01-06','2024-01-07'])\n",
    "dates"
   ]
  },
  {
   "cell_type": "markdown",
   "metadata": {},
   "source": [
    "**Convert the strings to datetime objects**"
   ]
  },
  {
   "cell_type": "code",
   "execution_count": 11,
   "metadata": {},
   "outputs": [
    {
     "data": {
      "text/plain": [
       "0   2024-01-01\n",
       "1   2024-01-02\n",
       "2   2024-01-03\n",
       "3   2024-01-04\n",
       "4   2024-01-05\n",
       "5   2024-01-06\n",
       "6   2024-01-07\n",
       "dtype: datetime64[ns]"
      ]
     },
     "execution_count": 11,
     "metadata": {},
     "output_type": "execute_result"
    }
   ],
   "source": [
    "dates = pd.to_datetime(dates)\n",
    "dates"
   ]
  },
  {
   "cell_type": "markdown",
   "metadata": {},
   "source": [
    "**Define a function to get the day of the week**"
   ]
  },
  {
   "cell_type": "code",
   "execution_count": 12,
   "metadata": {},
   "outputs": [
    {
     "data": {
      "text/plain": [
       "0       Monday\n",
       "1      Tuesday\n",
       "2    Wednesday\n",
       "3     Thursday\n",
       "4       Friday\n",
       "5     Saturday\n",
       "6       Sunday\n",
       "dtype: object"
      ]
     },
     "execution_count": 12,
     "metadata": {},
     "output_type": "execute_result"
    }
   ],
   "source": [
    "def get_day_week(dates):\n",
    "    return dates.day_name()\n",
    "\n",
    "#Apply the function to the weekdays\n",
    "weekdays = dates.map(get_day_week)\n",
    "weekdays"
   ]
  },
  {
   "cell_type": "markdown",
   "metadata": {},
   "source": [
    "**Define a new function to check whether each date is a weekend**"
   ]
  },
  {
   "cell_type": "code",
   "execution_count": 13,
   "metadata": {},
   "outputs": [
    {
     "data": {
      "text/plain": [
       "5    Saturday\n",
       "6      Sunday\n",
       "dtype: object"
      ]
     },
     "execution_count": 13,
     "metadata": {},
     "output_type": "execute_result"
    }
   ],
   "source": [
    "def is_weekend(date):\n",
    "    return date.weekday() >= 5\n",
    "\n",
    "#Apply the function to weekends\n",
    "weekends = weekdays[dates.map(is_weekend)]\n",
    "weekends"
   ]
  },
  {
   "cell_type": "markdown",
   "metadata": {},
   "source": [
    "<div style=\"background-color: black; padding: 5px\">\n",
    "    <p><b><font size=\"+2\" color=\"white\">3. Transforming Data in a DataFrame</font></b></p>\n",
    "    </div>\n",
    "\n",
    "> #### **Given a dataset of housing prices with the goal of normalizing housing prices**"
   ]
  },
  {
   "cell_type": "code",
   "execution_count": 14,
   "metadata": {},
   "outputs": [
    {
     "data": {
      "text/html": [
       "<div>\n",
       "<style scoped>\n",
       "    .dataframe tbody tr th:only-of-type {\n",
       "        vertical-align: middle;\n",
       "    }\n",
       "\n",
       "    .dataframe tbody tr th {\n",
       "        vertical-align: top;\n",
       "    }\n",
       "\n",
       "    .dataframe thead th {\n",
       "        text-align: right;\n",
       "    }\n",
       "</style>\n",
       "<table border=\"1\" class=\"dataframe\">\n",
       "  <thead>\n",
       "    <tr style=\"text-align: right;\">\n",
       "      <th></th>\n",
       "      <th>Location</th>\n",
       "      <th>Price</th>\n",
       "    </tr>\n",
       "  </thead>\n",
       "  <tbody>\n",
       "    <tr>\n",
       "      <th>0</th>\n",
       "      <td>New York</td>\n",
       "      <td>1250000</td>\n",
       "    </tr>\n",
       "    <tr>\n",
       "      <th>1</th>\n",
       "      <td>San Francisco</td>\n",
       "      <td>1450000</td>\n",
       "    </tr>\n",
       "    <tr>\n",
       "      <th>2</th>\n",
       "      <td>Los Angeles</td>\n",
       "      <td>1650000</td>\n",
       "    </tr>\n",
       "    <tr>\n",
       "      <th>3</th>\n",
       "      <td>Chicago</td>\n",
       "      <td>800000</td>\n",
       "    </tr>\n",
       "    <tr>\n",
       "      <th>4</th>\n",
       "      <td>Houston</td>\n",
       "      <td>650000</td>\n",
       "    </tr>\n",
       "  </tbody>\n",
       "</table>\n",
       "</div>"
      ],
      "text/plain": [
       "        Location    Price\n",
       "0       New York  1250000\n",
       "1  San Francisco  1450000\n",
       "2    Los Angeles  1650000\n",
       "3        Chicago   800000\n",
       "4        Houston   650000"
      ]
     },
     "execution_count": 14,
     "metadata": {},
     "output_type": "execute_result"
    }
   ],
   "source": [
    "housing = pd.DataFrame({'Location':['New York','San Francisco','Los Angeles','Chicago','Houston'],\n",
    "                       'Price':[1250000,1450000,1650000,800000,650000]})\n",
    "housing"
   ]
  },
  {
   "cell_type": "markdown",
   "metadata": {},
   "source": [
    "**Define a transformation function to normalize the prices**"
   ]
  },
  {
   "cell_type": "code",
   "execution_count": 15,
   "metadata": {},
   "outputs": [
    {
     "data": {
      "text/html": [
       "<div>\n",
       "<style scoped>\n",
       "    .dataframe tbody tr th:only-of-type {\n",
       "        vertical-align: middle;\n",
       "    }\n",
       "\n",
       "    .dataframe tbody tr th {\n",
       "        vertical-align: top;\n",
       "    }\n",
       "\n",
       "    .dataframe thead th {\n",
       "        text-align: right;\n",
       "    }\n",
       "</style>\n",
       "<table border=\"1\" class=\"dataframe\">\n",
       "  <thead>\n",
       "    <tr style=\"text-align: right;\">\n",
       "      <th></th>\n",
       "      <th>Location</th>\n",
       "      <th>Price</th>\n",
       "      <th>Normalized_Prices</th>\n",
       "    </tr>\n",
       "  </thead>\n",
       "  <tbody>\n",
       "    <tr>\n",
       "      <th>0</th>\n",
       "      <td>New York</td>\n",
       "      <td>1250000</td>\n",
       "      <td>0.211838</td>\n",
       "    </tr>\n",
       "    <tr>\n",
       "      <th>1</th>\n",
       "      <td>San Francisco</td>\n",
       "      <td>1450000</td>\n",
       "      <td>0.682589</td>\n",
       "    </tr>\n",
       "    <tr>\n",
       "      <th>2</th>\n",
       "      <td>Los Angeles</td>\n",
       "      <td>1650000</td>\n",
       "      <td>1.153340</td>\n",
       "    </tr>\n",
       "    <tr>\n",
       "      <th>3</th>\n",
       "      <td>Chicago</td>\n",
       "      <td>800000</td>\n",
       "      <td>-0.847352</td>\n",
       "    </tr>\n",
       "    <tr>\n",
       "      <th>4</th>\n",
       "      <td>Houston</td>\n",
       "      <td>650000</td>\n",
       "      <td>-1.200415</td>\n",
       "    </tr>\n",
       "  </tbody>\n",
       "</table>\n",
       "</div>"
      ],
      "text/plain": [
       "        Location    Price  Normalized_Prices\n",
       "0       New York  1250000           0.211838\n",
       "1  San Francisco  1450000           0.682589\n",
       "2    Los Angeles  1650000           1.153340\n",
       "3        Chicago   800000          -0.847352\n",
       "4        Houston   650000          -1.200415"
      ]
     },
     "execution_count": 15,
     "metadata": {},
     "output_type": "execute_result"
    }
   ],
   "source": [
    "def normalize_price(price,mean_price,std_price):\n",
    "    return(price - mean_price)/std_price\n",
    "\n",
    "#Calculate mean and std of prices\n",
    "mean_price = housing['Price'].mean()\n",
    "std_price = housing['Price'].std()\n",
    "\n",
    "#Apply the function to the housing prices\n",
    "housing['Normalized_Prices'] = housing['Price'].map(lambda x: normalize_price(x,mean_price, std_price))\n",
    "housing"
   ]
  },
  {
   "cell_type": "markdown",
   "metadata": {},
   "source": [
    "<div class= \"alert alert-block\" style=\"background-color: orange; border-color: black\">\n",
    "    <p><b><font size=\"+2\" color=\"black\">Replacing Values</font></b></p>\n",
    "    </div>\n",
    "\n",
    "---\n",
    "\n",
    "There are a couple of ways to fill in missing data using Pandas:\n",
    "\n",
    "* `fillna` method is a special case of general value replacement\n",
    "* `map` is used to modify a subset of values\n",
    "* `replace` provides a simpler and more flexible way to modify a subset of values\n",
    "\n",
    "> #### **Given the dataset**"
   ]
  },
  {
   "cell_type": "code",
   "execution_count": 16,
   "metadata": {},
   "outputs": [
    {
     "data": {
      "text/plain": [
       "0     100\n",
       "1     120\n",
       "2    -999\n",
       "3   -1000\n",
       "4     350\n",
       "dtype: int64"
      ]
     },
     "execution_count": 16,
     "metadata": {},
     "output_type": "execute_result"
    }
   ],
   "source": [
    "dt = pd.Series([100, 120, -999, -1000, 350])\n",
    "dt"
   ]
  },
  {
   "cell_type": "code",
   "execution_count": 17,
   "metadata": {},
   "outputs": [
    {
     "data": {
      "text/plain": [
       "0    100.0\n",
       "1    120.0\n",
       "2      NaN\n",
       "3      NaN\n",
       "4    350.0\n",
       "dtype: float64"
      ]
     },
     "execution_count": 17,
     "metadata": {},
     "output_type": "execute_result"
    }
   ],
   "source": [
    "dt.replace([-999,-1000],np.nan)"
   ]
  },
  {
   "cell_type": "markdown",
   "metadata": {},
   "source": [
    "**To use a different replacement value for each value, pass a list of substitutes**"
   ]
  },
  {
   "cell_type": "code",
   "execution_count": 18,
   "metadata": {},
   "outputs": [
    {
     "data": {
      "text/plain": [
       "0    100.0\n",
       "1    120.0\n",
       "2      NaN\n",
       "3      0.0\n",
       "4    350.0\n",
       "dtype: float64"
      ]
     },
     "execution_count": 18,
     "metadata": {},
     "output_type": "execute_result"
    }
   ],
   "source": [
    "dt.replace([-999,-1000],[np.nan,0])"
   ]
  },
  {
   "cell_type": "markdown",
   "metadata": {},
   "source": [
    "**A dictionary of values and replacements can also be passed as arguments**"
   ]
  },
  {
   "cell_type": "code",
   "execution_count": 19,
   "metadata": {},
   "outputs": [
    {
     "data": {
      "text/plain": [
       "0    100.0\n",
       "1    120.0\n",
       "2      NaN\n",
       "3      0.0\n",
       "4    350.0\n",
       "dtype: float64"
      ]
     },
     "execution_count": 19,
     "metadata": {},
     "output_type": "execute_result"
    }
   ],
   "source": [
    "dt.replace({-999:np.nan,-1000:0})"
   ]
  },
  {
   "cell_type": "markdown",
   "metadata": {},
   "source": [
    "<div class= \"alert alert-block\" style=\"background-color: orange; border-color: black\">\n",
    "    <p><b><font size=\"+2\" color=\"black\">Renaming Axis Indexes</font></b></p>\n",
    "    </div>\n",
    "\n",
    "---\n",
    "\n",
    "An axis label is either a column name, a row name or an index name. This can be modified in place without creating a new data structure.\n",
    "\n",
    "> #### **Given the DataFrame**"
   ]
  },
  {
   "cell_type": "code",
   "execution_count": 20,
   "metadata": {},
   "outputs": [
    {
     "data": {
      "text/html": [
       "<div>\n",
       "<style scoped>\n",
       "    .dataframe tbody tr th:only-of-type {\n",
       "        vertical-align: middle;\n",
       "    }\n",
       "\n",
       "    .dataframe tbody tr th {\n",
       "        vertical-align: top;\n",
       "    }\n",
       "\n",
       "    .dataframe thead th {\n",
       "        text-align: right;\n",
       "    }\n",
       "</style>\n",
       "<table border=\"1\" class=\"dataframe\">\n",
       "  <thead>\n",
       "    <tr style=\"text-align: right;\">\n",
       "      <th></th>\n",
       "      <th>one</th>\n",
       "      <th>two</th>\n",
       "      <th>three</th>\n",
       "      <th>four</th>\n",
       "    </tr>\n",
       "  </thead>\n",
       "  <tbody>\n",
       "    <tr>\n",
       "      <th>Lagos</th>\n",
       "      <td>25000.0</td>\n",
       "      <td>50000.0</td>\n",
       "      <td>75000.0</td>\n",
       "      <td>100000.0</td>\n",
       "    </tr>\n",
       "    <tr>\n",
       "      <th>Maryland</th>\n",
       "      <td>125000.0</td>\n",
       "      <td>150000.0</td>\n",
       "      <td>175000.0</td>\n",
       "      <td>200000.0</td>\n",
       "    </tr>\n",
       "    <tr>\n",
       "      <th>Ikoyi</th>\n",
       "      <td>225000.0</td>\n",
       "      <td>250000.0</td>\n",
       "      <td>275000.0</td>\n",
       "      <td>300000.0</td>\n",
       "    </tr>\n",
       "  </tbody>\n",
       "</table>\n",
       "</div>"
      ],
      "text/plain": [
       "               one       two     three      four\n",
       "Lagos      25000.0   50000.0   75000.0  100000.0\n",
       "Maryland  125000.0  150000.0  175000.0  200000.0\n",
       "Ikoyi     225000.0  250000.0  275000.0  300000.0"
      ]
     },
     "execution_count": 20,
     "metadata": {},
     "output_type": "execute_result"
    }
   ],
   "source": [
    "dm = pd.DataFrame(np.linspace(25000,300000,12).reshape((3,4)),index=['Lagos','Maryland','Ikoyi'],\n",
    "                  columns=['one','two','three','four'])\n",
    "dm"
   ]
  },
  {
   "cell_type": "markdown",
   "metadata": {},
   "source": [
    "> #### **The index has a map method which can be used to modify its labels**\n",
    "Modify the dataframe in place"
   ]
  },
  {
   "cell_type": "code",
   "execution_count": 21,
   "metadata": {},
   "outputs": [
    {
     "data": {
      "text/html": [
       "<div>\n",
       "<style scoped>\n",
       "    .dataframe tbody tr th:only-of-type {\n",
       "        vertical-align: middle;\n",
       "    }\n",
       "\n",
       "    .dataframe tbody tr th {\n",
       "        vertical-align: top;\n",
       "    }\n",
       "\n",
       "    .dataframe thead th {\n",
       "        text-align: right;\n",
       "    }\n",
       "</style>\n",
       "<table border=\"1\" class=\"dataframe\">\n",
       "  <thead>\n",
       "    <tr style=\"text-align: right;\">\n",
       "      <th></th>\n",
       "      <th>one</th>\n",
       "      <th>two</th>\n",
       "      <th>three</th>\n",
       "      <th>four</th>\n",
       "    </tr>\n",
       "  </thead>\n",
       "  <tbody>\n",
       "    <tr>\n",
       "      <th>LAGOS</th>\n",
       "      <td>25000.0</td>\n",
       "      <td>50000.0</td>\n",
       "      <td>75000.0</td>\n",
       "      <td>100000.0</td>\n",
       "    </tr>\n",
       "    <tr>\n",
       "      <th>MARYLAND</th>\n",
       "      <td>125000.0</td>\n",
       "      <td>150000.0</td>\n",
       "      <td>175000.0</td>\n",
       "      <td>200000.0</td>\n",
       "    </tr>\n",
       "    <tr>\n",
       "      <th>IKOYI</th>\n",
       "      <td>225000.0</td>\n",
       "      <td>250000.0</td>\n",
       "      <td>275000.0</td>\n",
       "      <td>300000.0</td>\n",
       "    </tr>\n",
       "  </tbody>\n",
       "</table>\n",
       "</div>"
      ],
      "text/plain": [
       "               one       two     three      four\n",
       "LAGOS      25000.0   50000.0   75000.0  100000.0\n",
       "MARYLAND  125000.0  150000.0  175000.0  200000.0\n",
       "IKOYI     225000.0  250000.0  275000.0  300000.0"
      ]
     },
     "execution_count": 21,
     "metadata": {},
     "output_type": "execute_result"
    }
   ],
   "source": [
    "dm.index = dm.index.map(str.upper)\n",
    "dm"
   ]
  },
  {
   "cell_type": "markdown",
   "metadata": {},
   "source": [
    "> #### **Creating a transformed version rather than modifying the original dataframe**\n",
    "#### Use rename: It returns a reference to the original dataframe"
   ]
  },
  {
   "cell_type": "code",
   "execution_count": 22,
   "metadata": {},
   "outputs": [
    {
     "data": {
      "text/html": [
       "<div>\n",
       "<style scoped>\n",
       "    .dataframe tbody tr th:only-of-type {\n",
       "        vertical-align: middle;\n",
       "    }\n",
       "\n",
       "    .dataframe tbody tr th {\n",
       "        vertical-align: top;\n",
       "    }\n",
       "\n",
       "    .dataframe thead th {\n",
       "        text-align: right;\n",
       "    }\n",
       "</style>\n",
       "<table border=\"1\" class=\"dataframe\">\n",
       "  <thead>\n",
       "    <tr style=\"text-align: right;\">\n",
       "      <th></th>\n",
       "      <th>ONE</th>\n",
       "      <th>TWO</th>\n",
       "      <th>THREE</th>\n",
       "      <th>FOUR</th>\n",
       "    </tr>\n",
       "  </thead>\n",
       "  <tbody>\n",
       "    <tr>\n",
       "      <th>Lagos</th>\n",
       "      <td>25000.0</td>\n",
       "      <td>50000.0</td>\n",
       "      <td>75000.0</td>\n",
       "      <td>100000.0</td>\n",
       "    </tr>\n",
       "    <tr>\n",
       "      <th>Maryland</th>\n",
       "      <td>125000.0</td>\n",
       "      <td>150000.0</td>\n",
       "      <td>175000.0</td>\n",
       "      <td>200000.0</td>\n",
       "    </tr>\n",
       "    <tr>\n",
       "      <th>Ikoyi</th>\n",
       "      <td>225000.0</td>\n",
       "      <td>250000.0</td>\n",
       "      <td>275000.0</td>\n",
       "      <td>300000.0</td>\n",
       "    </tr>\n",
       "  </tbody>\n",
       "</table>\n",
       "</div>"
      ],
      "text/plain": [
       "               ONE       TWO     THREE      FOUR\n",
       "Lagos      25000.0   50000.0   75000.0  100000.0\n",
       "Maryland  125000.0  150000.0  175000.0  200000.0\n",
       "Ikoyi     225000.0  250000.0  275000.0  300000.0"
      ]
     },
     "execution_count": 22,
     "metadata": {},
     "output_type": "execute_result"
    }
   ],
   "source": [
    "dm.rename(index=str.title,columns=str.upper)"
   ]
  },
  {
   "cell_type": "markdown",
   "metadata": {},
   "source": [
    "#### rename can be used with a dictionary like reference to specify changes"
   ]
  },
  {
   "cell_type": "code",
   "execution_count": 23,
   "metadata": {},
   "outputs": [
    {
     "data": {
      "text/html": [
       "<div>\n",
       "<style scoped>\n",
       "    .dataframe tbody tr th:only-of-type {\n",
       "        vertical-align: middle;\n",
       "    }\n",
       "\n",
       "    .dataframe tbody tr th {\n",
       "        vertical-align: top;\n",
       "    }\n",
       "\n",
       "    .dataframe thead th {\n",
       "        text-align: right;\n",
       "    }\n",
       "</style>\n",
       "<table border=\"1\" class=\"dataframe\">\n",
       "  <thead>\n",
       "    <tr style=\"text-align: right;\">\n",
       "      <th></th>\n",
       "      <th>one</th>\n",
       "      <th>two</th>\n",
       "      <th>THIRD</th>\n",
       "      <th>four</th>\n",
       "    </tr>\n",
       "  </thead>\n",
       "  <tbody>\n",
       "    <tr>\n",
       "      <th>INDIANA</th>\n",
       "      <td>25000.0</td>\n",
       "      <td>50000.0</td>\n",
       "      <td>75000.0</td>\n",
       "      <td>100000.0</td>\n",
       "    </tr>\n",
       "    <tr>\n",
       "      <th>MARYLAND</th>\n",
       "      <td>125000.0</td>\n",
       "      <td>150000.0</td>\n",
       "      <td>175000.0</td>\n",
       "      <td>200000.0</td>\n",
       "    </tr>\n",
       "    <tr>\n",
       "      <th>IKOYI</th>\n",
       "      <td>225000.0</td>\n",
       "      <td>250000.0</td>\n",
       "      <td>275000.0</td>\n",
       "      <td>300000.0</td>\n",
       "    </tr>\n",
       "  </tbody>\n",
       "</table>\n",
       "</div>"
      ],
      "text/plain": [
       "               one       two     THIRD      four\n",
       "INDIANA    25000.0   50000.0   75000.0  100000.0\n",
       "MARYLAND  125000.0  150000.0  175000.0  200000.0\n",
       "IKOYI     225000.0  250000.0  275000.0  300000.0"
      ]
     },
     "execution_count": 23,
     "metadata": {},
     "output_type": "execute_result"
    }
   ],
   "source": [
    "dm.rename(index={'LAGOS': 'INDIANA'},columns={'three':'THIRD'})"
   ]
  },
  {
   "cell_type": "markdown",
   "metadata": {},
   "source": [
    "<div class= \"alert alert-block\" style=\"background-color: orange; border-color: black\">\n",
    "    <p><b><font size=\"+2\" color=\"black\">Discretizing & Binning</font></b></p>\n",
    "    </div>\n",
    "\n",
    "---\n",
    "\n",
    "At times, it is important to categorize continous variables into bins for statistical analysis\n",
    "\n",
    "> #### **Using `cut` method in Pandas to bin variables**"
   ]
  },
  {
   "cell_type": "code",
   "execution_count": 24,
   "metadata": {},
   "outputs": [],
   "source": [
    "scores = [21,23,24,56,37,31,42,67,82,52]\n",
    "grades = pd.DataFrame(scores,columns=['scores'])"
   ]
  },
  {
   "cell_type": "markdown",
   "metadata": {},
   "source": [
    "**Lets divide this into bin intervals using a cut function in Pandas**"
   ]
  },
  {
   "cell_type": "code",
   "execution_count": 25,
   "metadata": {},
   "outputs": [
    {
     "data": {
      "text/plain": [
       "(20, 40]     5\n",
       "(40, 60]     3\n",
       "(60, 80]     1\n",
       "(80, 100]    1\n",
       "Name: scores, dtype: int64"
      ]
     },
     "execution_count": 25,
     "metadata": {},
     "output_type": "execute_result"
    }
   ],
   "source": [
    "bins = [20,40,60,80,100]\n",
    "binned_grades = pd.cut(grades['scores'],bins)\n",
    "\n",
    "#Assess how many elements are within each interval\n",
    "pd.value_counts(binned_grades)"
   ]
  },
  {
   "cell_type": "markdown",
   "metadata": {},
   "source": [
    "**(  ]** - This means that the parenthesis side is open while the square brackets side is closed. The open side can be changed by passing the right=False argument in the cut function. "
   ]
  },
  {
   "cell_type": "code",
   "execution_count": 26,
   "metadata": {},
   "outputs": [
    {
     "data": {
      "text/plain": [
       "[20, 40)     5\n",
       "[40, 60)     3\n",
       "[60, 80)     1\n",
       "[80, 100)    1\n",
       "Name: scores, dtype: int64"
      ]
     },
     "execution_count": 26,
     "metadata": {},
     "output_type": "execute_result"
    }
   ],
   "source": [
    "binned_grades = pd.cut(grades['scores'],bins,right=False)\n",
    "pd.value_counts(binned_grades)"
   ]
  },
  {
   "cell_type": "markdown",
   "metadata": {},
   "source": [
    "#### **It is possible to specify bin names as labels in the cut function**"
   ]
  },
  {
   "cell_type": "code",
   "execution_count": 27,
   "metadata": {},
   "outputs": [
    {
     "data": {
      "text/plain": [
       "0    Crimson\n",
       "1    Crimson\n",
       "2    Crimson\n",
       "3       Jade\n",
       "4    Crimson\n",
       "5    Crimson\n",
       "6       Jade\n",
       "7     Silver\n",
       "8       Gold\n",
       "9       Jade\n",
       "Name: scores, dtype: category\n",
       "Categories (4, object): ['Crimson' < 'Jade' < 'Silver' < 'Gold']"
      ]
     },
     "execution_count": 27,
     "metadata": {},
     "output_type": "execute_result"
    }
   ],
   "source": [
    "class_groups = ['Crimson', 'Jade','Silver','Gold']\n",
    "binned_grades = pd.cut(grades['scores'],bins,labels=class_groups)\n",
    "binned_grades"
   ]
  },
  {
   "cell_type": "code",
   "execution_count": 28,
   "metadata": {},
   "outputs": [
    {
     "data": {
      "text/html": [
       "<div>\n",
       "<style scoped>\n",
       "    .dataframe tbody tr th:only-of-type {\n",
       "        vertical-align: middle;\n",
       "    }\n",
       "\n",
       "    .dataframe tbody tr th {\n",
       "        vertical-align: top;\n",
       "    }\n",
       "\n",
       "    .dataframe thead th {\n",
       "        text-align: right;\n",
       "    }\n",
       "</style>\n",
       "<table border=\"1\" class=\"dataframe\">\n",
       "  <thead>\n",
       "    <tr style=\"text-align: right;\">\n",
       "      <th></th>\n",
       "      <th>scores</th>\n",
       "      <th>grades</th>\n",
       "    </tr>\n",
       "  </thead>\n",
       "  <tbody>\n",
       "    <tr>\n",
       "      <th>0</th>\n",
       "      <td>21</td>\n",
       "      <td>Crimson</td>\n",
       "    </tr>\n",
       "    <tr>\n",
       "      <th>1</th>\n",
       "      <td>23</td>\n",
       "      <td>Crimson</td>\n",
       "    </tr>\n",
       "    <tr>\n",
       "      <th>2</th>\n",
       "      <td>24</td>\n",
       "      <td>Crimson</td>\n",
       "    </tr>\n",
       "    <tr>\n",
       "      <th>3</th>\n",
       "      <td>56</td>\n",
       "      <td>Jade</td>\n",
       "    </tr>\n",
       "    <tr>\n",
       "      <th>4</th>\n",
       "      <td>37</td>\n",
       "      <td>Crimson</td>\n",
       "    </tr>\n",
       "    <tr>\n",
       "      <th>5</th>\n",
       "      <td>31</td>\n",
       "      <td>Crimson</td>\n",
       "    </tr>\n",
       "    <tr>\n",
       "      <th>6</th>\n",
       "      <td>42</td>\n",
       "      <td>Jade</td>\n",
       "    </tr>\n",
       "    <tr>\n",
       "      <th>7</th>\n",
       "      <td>67</td>\n",
       "      <td>Silver</td>\n",
       "    </tr>\n",
       "    <tr>\n",
       "      <th>8</th>\n",
       "      <td>82</td>\n",
       "      <td>Gold</td>\n",
       "    </tr>\n",
       "    <tr>\n",
       "      <th>9</th>\n",
       "      <td>52</td>\n",
       "      <td>Jade</td>\n",
       "    </tr>\n",
       "  </tbody>\n",
       "</table>\n",
       "</div>"
      ],
      "text/plain": [
       "   scores   grades\n",
       "0      21  Crimson\n",
       "1      23  Crimson\n",
       "2      24  Crimson\n",
       "3      56     Jade\n",
       "4      37  Crimson\n",
       "5      31  Crimson\n",
       "6      42     Jade\n",
       "7      67   Silver\n",
       "8      82     Gold\n",
       "9      52     Jade"
      ]
     },
     "execution_count": 28,
     "metadata": {},
     "output_type": "execute_result"
    }
   ],
   "source": [
    "scores_n_grades=pd.DataFrame({'scores':scores,'grades':binned_grades})\n",
    "scores_n_grades"
   ]
  },
  {
   "cell_type": "markdown",
   "metadata": {},
   "source": [
    ">#### **For uniformly distributed data, an integer can be passed into the cut function to obtain equal bin intervals**"
   ]
  },
  {
   "cell_type": "code",
   "execution_count": 29,
   "metadata": {},
   "outputs": [
    {
     "data": {
      "text/plain": [
       "(0.78, 0.98]     11\n",
       "(0.21, 0.4]       4\n",
       "(0.4, 0.59]       4\n",
       "(0.012, 0.21]     3\n",
       "(0.59, 0.78]      3\n",
       "dtype: int64"
      ]
     },
     "execution_count": 29,
     "metadata": {},
     "output_type": "execute_result"
    }
   ],
   "source": [
    "data = np.random.rand(25)\n",
    "binned_data = pd.cut(data,5, precision=2)\n",
    "pd.value_counts(binned_data)"
   ]
  },
  {
   "cell_type": "markdown",
   "metadata": {},
   "source": [
    "#### **Using `qcut` to bin data into sample quantiles**\n",
    "\n",
    "This was born out of the need to evenly distribute  the data in the bins. Since `qcut` uses sample qauntiles by definition it is possible to obtain equal size bins\n",
    "\n",
    "> #### **Given a normally distributed data**"
   ]
  },
  {
   "cell_type": "code",
   "execution_count": 30,
   "metadata": {},
   "outputs": [
    {
     "data": {
      "text/plain": [
       "Q2    598\n",
       "Q3    339\n",
       "Q1     57\n",
       "Q4      6\n",
       "Name: bell_data, dtype: int64"
      ]
     },
     "execution_count": 30,
     "metadata": {},
     "output_type": "execute_result"
    }
   ],
   "source": [
    "dn = pd.DataFrame({'bell_data': np.random.randn(1000)}) \n",
    "qcut_dn = pd.cut(dn['bell_data'],4,labels=['Q1','Q2','Q3','Q4']) # cut into quartiles\n",
    "pd.value_counts(qcut_dn)"
   ]
  },
  {
   "cell_type": "markdown",
   "metadata": {},
   "source": [
    "<div class= \"alert alert-block\" style=\"background-color: orange; border-color: black\">\n",
    "    <p><b><font size=\"+2\" color=\"black\">Detecting & Filtering Outliers</font></b></p>\n",
    "    </div>\n",
    "\n",
    "---\n",
    "\n",
    "Detecting and Filtering outliers is a critical step in data cleaning and transformation. We shall consider three methods of handling outliers using Pandas, Numpy and Visualization tools:\n",
    "\n",
    "* Z-score method for univariate data\n",
    "* IQR method for univariate skewed distributions\n",
    "* Isolation Forest for high-dimensional data\n",
    "* Local Outlier Factor for datasets of varying density\n",
    "* Mahalanobis Distance for multivariate outlier detection"
   ]
  },
  {
   "cell_type": "markdown",
   "metadata": {},
   "source": [
    "<div style=\"background-color: black; padding: 5px\">\n",
    "    <p><b><font size=\"+2\" color=\"white\">1. Detecting Outliers using the z-score method</font></b></p>\n",
    "    </div>\n",
    "\n",
    "> #### **Given the student age dataset**"
   ]
  },
  {
   "cell_type": "code",
   "execution_count": 31,
   "metadata": {},
   "outputs": [
    {
     "data": {
      "text/html": [
       "<div>\n",
       "<style scoped>\n",
       "    .dataframe tbody tr th:only-of-type {\n",
       "        vertical-align: middle;\n",
       "    }\n",
       "\n",
       "    .dataframe tbody tr th {\n",
       "        vertical-align: top;\n",
       "    }\n",
       "\n",
       "    .dataframe thead th {\n",
       "        text-align: right;\n",
       "    }\n",
       "</style>\n",
       "<table border=\"1\" class=\"dataframe\">\n",
       "  <thead>\n",
       "    <tr style=\"text-align: right;\">\n",
       "      <th></th>\n",
       "      <th>name</th>\n",
       "      <th>age</th>\n",
       "      <th>zscore</th>\n",
       "      <th>outlier</th>\n",
       "    </tr>\n",
       "  </thead>\n",
       "  <tbody>\n",
       "    <tr>\n",
       "      <th>11</th>\n",
       "      <td>Hans</td>\n",
       "      <td>100</td>\n",
       "      <td>3.313692</td>\n",
       "      <td>3.313692</td>\n",
       "    </tr>\n",
       "  </tbody>\n",
       "</table>\n",
       "</div>"
      ],
      "text/plain": [
       "    name  age    zscore   outlier\n",
       "11  Hans  100  3.313692  3.313692"
      ]
     },
     "execution_count": 31,
     "metadata": {},
     "output_type": "execute_result"
    },
    {
     "data": {
      "text/plain": [
       "<Figure size 576x360 with 0 Axes>"
      ]
     },
     "metadata": {},
     "output_type": "display_data"
    },
    {
     "data": {
      "image/png": "[encoded data removed]",
      "text/plain": [
       "<Figure size 432x288 with 1 Axes>"
      ]
     },
     "metadata": {
      "needs_background": "light"
     },
     "output_type": "display_data"
    }
   ],
   "source": [
    "students = pd.DataFrame({'name':['Frank','Abel','Cane','David','Esau','Chris','Phillip','Greg','Fisher','Renee','Tristan','Hans'],\n",
    "                       'age':[10,12,12,13,12,11,12,11,13,10,10,100]})\n",
    "\n",
    "#Calculate z-score\n",
    "from scipy.stats import zscore\n",
    "students['zscore'] = zscore(students['age'])\n",
    "students['outlier'] = students['zscore']\n",
    "\n",
    "#Visualize Outliers\n",
    "plt.figure(figsize=(8,5));\n",
    "students.hist('outlier',edgecolor='black',color='orange');\n",
    "plt.xlabel('Z-Scores of Students Ages');\n",
    "plt.title('Detecting Outliers using z-scores');\n",
    "\n",
    "#Identify Outliers\n",
    "students[students['outlier'].abs()>3]"
   ]
  },
  {
   "cell_type": "markdown",
   "metadata": {},
   "source": [
    "<div style=\"background-color: black; padding: 5px\">\n",
    "    <p><b><font size=\"+2\" color=\"white\">2. Detecting Outliers using the Inter-Quartile Range method</font></b></p>\n",
    "    </div>\n",
    "\n",
    "> #### **Given a dataset with a column of normal and outlier values**"
   ]
  },
  {
   "cell_type": "code",
   "execution_count": 32,
   "metadata": {},
   "outputs": [
    {
     "data": {
      "text/html": [
       "<div>\n",
       "<style scoped>\n",
       "    .dataframe tbody tr th:only-of-type {\n",
       "        vertical-align: middle;\n",
       "    }\n",
       "\n",
       "    .dataframe tbody tr th {\n",
       "        vertical-align: top;\n",
       "    }\n",
       "\n",
       "    .dataframe thead th {\n",
       "        text-align: right;\n",
       "    }\n",
       "</style>\n",
       "<table border=\"1\" class=\"dataframe\">\n",
       "  <thead>\n",
       "    <tr style=\"text-align: right;\">\n",
       "      <th></th>\n",
       "      <th>data</th>\n",
       "    </tr>\n",
       "  </thead>\n",
       "  <tbody>\n",
       "    <tr>\n",
       "      <th>0</th>\n",
       "      <td>67.414639</td>\n",
       "    </tr>\n",
       "    <tr>\n",
       "      <th>1</th>\n",
       "      <td>40.111401</td>\n",
       "    </tr>\n",
       "    <tr>\n",
       "      <th>2</th>\n",
       "      <td>60.450633</td>\n",
       "    </tr>\n",
       "    <tr>\n",
       "      <th>3</th>\n",
       "      <td>51.314226</td>\n",
       "    </tr>\n",
       "    <tr>\n",
       "      <th>4</th>\n",
       "      <td>38.022673</td>\n",
       "    </tr>\n",
       "  </tbody>\n",
       "</table>\n",
       "</div>"
      ],
      "text/plain": [
       "        data\n",
       "0  67.414639\n",
       "1  40.111401\n",
       "2  60.450633\n",
       "3  51.314226\n",
       "4  38.022673"
      ]
     },
     "execution_count": 32,
     "metadata": {},
     "output_type": "execute_result"
    }
   ],
   "source": [
    "data1 = np.random.normal(loc=50, scale=10, size=1000) #Normal distribution\n",
    "data1 = np.append(data1,[150,200,300]) #Adding Outliers\n",
    "data1 = pd.DataFrame({'data':data1})\n",
    "data1.head()"
   ]
  },
  {
   "cell_type": "markdown",
   "metadata": {},
   "source": [
    "**Calculate IQR and identify Outliers**"
   ]
  },
  {
   "cell_type": "code",
   "execution_count": 33,
   "metadata": {},
   "outputs": [
    {
     "data": {
      "image/png": "[encoded data removed]",
      "text/plain": [
       "<Figure size 720x288 with 1 Axes>"
      ]
     },
     "metadata": {
      "needs_background": "light"
     },
     "output_type": "display_data"
    },
    {
     "data": {
      "text/html": [
       "<div>\n",
       "<style scoped>\n",
       "    .dataframe tbody tr th:only-of-type {\n",
       "        vertical-align: middle;\n",
       "    }\n",
       "\n",
       "    .dataframe tbody tr th {\n",
       "        vertical-align: top;\n",
       "    }\n",
       "\n",
       "    .dataframe thead th {\n",
       "        text-align: right;\n",
       "    }\n",
       "</style>\n",
       "<table border=\"1\" class=\"dataframe\">\n",
       "  <thead>\n",
       "    <tr style=\"text-align: right;\">\n",
       "      <th></th>\n",
       "      <th>data</th>\n",
       "      <th>outlier</th>\n",
       "    </tr>\n",
       "  </thead>\n",
       "  <tbody>\n",
       "    <tr>\n",
       "      <th>27</th>\n",
       "      <td>77.896332</td>\n",
       "      <td>True</td>\n",
       "    </tr>\n",
       "    <tr>\n",
       "      <th>120</th>\n",
       "      <td>80.147796</td>\n",
       "      <td>True</td>\n",
       "    </tr>\n",
       "    <tr>\n",
       "      <th>188</th>\n",
       "      <td>75.965899</td>\n",
       "      <td>True</td>\n",
       "    </tr>\n",
       "    <tr>\n",
       "      <th>320</th>\n",
       "      <td>17.604147</td>\n",
       "      <td>True</td>\n",
       "    </tr>\n",
       "    <tr>\n",
       "      <th>364</th>\n",
       "      <td>23.561704</td>\n",
       "      <td>True</td>\n",
       "    </tr>\n",
       "    <tr>\n",
       "      <th>436</th>\n",
       "      <td>15.661243</td>\n",
       "      <td>True</td>\n",
       "    </tr>\n",
       "    <tr>\n",
       "      <th>506</th>\n",
       "      <td>14.446167</td>\n",
       "      <td>True</td>\n",
       "    </tr>\n",
       "    <tr>\n",
       "      <th>860</th>\n",
       "      <td>80.770579</td>\n",
       "      <td>True</td>\n",
       "    </tr>\n",
       "    <tr>\n",
       "      <th>1000</th>\n",
       "      <td>150.000000</td>\n",
       "      <td>True</td>\n",
       "    </tr>\n",
       "    <tr>\n",
       "      <th>1001</th>\n",
       "      <td>200.000000</td>\n",
       "      <td>True</td>\n",
       "    </tr>\n",
       "    <tr>\n",
       "      <th>1002</th>\n",
       "      <td>300.000000</td>\n",
       "      <td>True</td>\n",
       "    </tr>\n",
       "  </tbody>\n",
       "</table>\n",
       "</div>"
      ],
      "text/plain": [
       "            data  outlier\n",
       "27     77.896332     True\n",
       "120    80.147796     True\n",
       "188    75.965899     True\n",
       "320    17.604147     True\n",
       "364    23.561704     True\n",
       "436    15.661243     True\n",
       "506    14.446167     True\n",
       "860    80.770579     True\n",
       "1000  150.000000     True\n",
       "1001  200.000000     True\n",
       "1002  300.000000     True"
      ]
     },
     "execution_count": 33,
     "metadata": {},
     "output_type": "execute_result"
    }
   ],
   "source": [
    "Q1 = data1['data'].quantile(0.25)\n",
    "Q3 = data1['data'].quantile(0.75)\n",
    "IQR = Q3 - Q1\n",
    "\n",
    "#Identify Outliers\n",
    "data1['outlier'] = (data1['data'] < (Q1 - 1.5*IQR)) | (data1['data'] > (Q3 + 1.5* IQR))\n",
    "\n",
    "#Display Outliers\n",
    "outliers = data1[data1['outlier']]\n",
    "\n",
    "#Visualize Outliers\n",
    "plt.figure(figsize=(10,4))\n",
    "plt.boxplot(data1['data'],vert=False,patch_artist=True)\n",
    "plt.scatter(outliers['data'],np.ones(len(outliers)),color='red',zorder=3)\n",
    "plt.title('Boxplot with IQR Method showing Outliers');\n",
    "plt.show()\n",
    "\n",
    "outliers"
   ]
  },
  {
   "cell_type": "markdown",
   "metadata": {},
   "source": [
    "<div style=\"background-color: black; padding: 5px\">\n",
    "    <p><b><font size=\"+2\" color=\"white\">3. Detecting Outliers using Isolation Forest method</font></b></p>\n",
    "    <p><b><font size=\"+1\" color=\"white\">For high-dimensional data</font></b></p>\n",
    "    </div>\n",
    "\n",
    "> #### **Given a high-dimensional dataset with a column of normal and outlier values**"
   ]
  },
  {
   "cell_type": "code",
   "execution_count": 34,
   "metadata": {},
   "outputs": [
    {
     "data": {
      "text/html": [
       "<div>\n",
       "<style scoped>\n",
       "    .dataframe tbody tr th:only-of-type {\n",
       "        vertical-align: middle;\n",
       "    }\n",
       "\n",
       "    .dataframe tbody tr th {\n",
       "        vertical-align: top;\n",
       "    }\n",
       "\n",
       "    .dataframe thead th {\n",
       "        text-align: right;\n",
       "    }\n",
       "</style>\n",
       "<table border=\"1\" class=\"dataframe\">\n",
       "  <thead>\n",
       "    <tr style=\"text-align: right;\">\n",
       "      <th></th>\n",
       "      <th>feature_1</th>\n",
       "      <th>feature_2</th>\n",
       "      <th>feature_3</th>\n",
       "      <th>feature_4</th>\n",
       "      <th>feature_5</th>\n",
       "      <th>outlier</th>\n",
       "    </tr>\n",
       "  </thead>\n",
       "  <tbody>\n",
       "    <tr>\n",
       "      <th>0</th>\n",
       "      <td>10.066169</td>\n",
       "      <td>15.562446</td>\n",
       "      <td>13.316041</td>\n",
       "      <td>19.710294</td>\n",
       "      <td>15.543549</td>\n",
       "      <td>True</td>\n",
       "    </tr>\n",
       "    <tr>\n",
       "      <th>1</th>\n",
       "      <td>18.580897</td>\n",
       "      <td>20.842810</td>\n",
       "      <td>19.627943</td>\n",
       "      <td>11.968192</td>\n",
       "      <td>18.555324</td>\n",
       "      <td>True</td>\n",
       "    </tr>\n",
       "    <tr>\n",
       "      <th>2</th>\n",
       "      <td>13.128506</td>\n",
       "      <td>19.453426</td>\n",
       "      <td>18.730020</td>\n",
       "      <td>17.195754</td>\n",
       "      <td>11.891071</td>\n",
       "      <td>True</td>\n",
       "    </tr>\n",
       "    <tr>\n",
       "      <th>3</th>\n",
       "      <td>11.596662</td>\n",
       "      <td>10.372573</td>\n",
       "      <td>13.817410</td>\n",
       "      <td>16.813016</td>\n",
       "      <td>17.489866</td>\n",
       "      <td>True</td>\n",
       "    </tr>\n",
       "    <tr>\n",
       "      <th>4</th>\n",
       "      <td>15.564599</td>\n",
       "      <td>12.303034</td>\n",
       "      <td>17.855777</td>\n",
       "      <td>17.287169</td>\n",
       "      <td>11.204100</td>\n",
       "      <td>True</td>\n",
       "    </tr>\n",
       "    <tr>\n",
       "      <th>5</th>\n",
       "      <td>17.003881</td>\n",
       "      <td>14.818243</td>\n",
       "      <td>12.976683</td>\n",
       "      <td>16.465543</td>\n",
       "      <td>13.852850</td>\n",
       "      <td>True</td>\n",
       "    </tr>\n",
       "    <tr>\n",
       "      <th>6</th>\n",
       "      <td>11.419861</td>\n",
       "      <td>14.897461</td>\n",
       "      <td>15.021424</td>\n",
       "      <td>16.385946</td>\n",
       "      <td>11.922737</td>\n",
       "      <td>True</td>\n",
       "    </tr>\n",
       "    <tr>\n",
       "      <th>7</th>\n",
       "      <td>12.994568</td>\n",
       "      <td>14.906894</td>\n",
       "      <td>12.700972</td>\n",
       "      <td>16.357953</td>\n",
       "      <td>16.912696</td>\n",
       "      <td>True</td>\n",
       "    </tr>\n",
       "    <tr>\n",
       "      <th>8</th>\n",
       "      <td>20.829643</td>\n",
       "      <td>15.124330</td>\n",
       "      <td>15.367783</td>\n",
       "      <td>11.744270</td>\n",
       "      <td>15.313717</td>\n",
       "      <td>True</td>\n",
       "    </tr>\n",
       "    <tr>\n",
       "      <th>9</th>\n",
       "      <td>20.170012</td>\n",
       "      <td>19.431205</td>\n",
       "      <td>11.336032</td>\n",
       "      <td>14.836332</td>\n",
       "      <td>20.261532</td>\n",
       "      <td>True</td>\n",
       "    </tr>\n",
       "  </tbody>\n",
       "</table>\n",
       "</div>"
      ],
      "text/plain": [
       "   feature_1  feature_2  feature_3  feature_4  feature_5  outlier\n",
       "0  10.066169  15.562446  13.316041  19.710294  15.543549     True\n",
       "1  18.580897  20.842810  19.627943  11.968192  18.555324     True\n",
       "2  13.128506  19.453426  18.730020  17.195754  11.891071     True\n",
       "3  11.596662  10.372573  13.817410  16.813016  17.489866     True\n",
       "4  15.564599  12.303034  17.855777  17.287169  11.204100     True\n",
       "5  17.003881  14.818243  12.976683  16.465543  13.852850     True\n",
       "6  11.419861  14.897461  15.021424  16.385946  11.922737     True\n",
       "7  12.994568  14.906894  12.700972  16.357953  16.912696     True\n",
       "8  20.829643  15.124330  15.367783  11.744270  15.313717     True\n",
       "9  20.170012  19.431205  11.336032  14.836332  20.261532     True"
      ]
     },
     "execution_count": 34,
     "metadata": {},
     "output_type": "execute_result"
    }
   ],
   "source": [
    "#Generate high-dimensional data\n",
    "np.random.seed(40)\n",
    "hdata = np.random.randn(1000,5) #Normal distribution\n",
    "hdata[:50] += np.random.uniform(10,20, size=(50,5)) #Adding Outliers\n",
    "columns = [f'feature_{i}' for i in range(1,6)] #Label columns\n",
    "hdata_df = pd.DataFrame(hdata,columns=columns) #create the dataframe\n",
    "\n",
    "from sklearn.ensemble import IsolationForest\n",
    "#Fit the Model\n",
    "iso_forest = IsolationForest(contamination=0.05, random_state=42)\n",
    "\n",
    "#Predict the outliers\n",
    "hdata_df['outlier'] = iso_forest.fit_predict(hdata_df)\n",
    "\n",
    "hdata_df['outlier'] = hdata_df['outlier'] == -1\n",
    "num_outliers = hdata_df['outlier'].sum()\n",
    "hdata_df.head(10)"
   ]
  },
  {
   "cell_type": "markdown",
   "metadata": {},
   "source": [
    "**Displayed number of outliers matches the number added**"
   ]
  },
  {
   "cell_type": "code",
   "execution_count": 35,
   "metadata": {},
   "outputs": [
    {
     "data": {
      "text/plain": [
       "50"
      ]
     },
     "execution_count": 35,
     "metadata": {},
     "output_type": "execute_result"
    }
   ],
   "source": [
    "num_outliers"
   ]
  },
  {
   "cell_type": "markdown",
   "metadata": {},
   "source": [
    "> #### **Visualize Results using pairplot with Outliers highlighted**"
   ]
  },
  {
   "cell_type": "code",
   "execution_count": 36,
   "metadata": {},
   "outputs": [
    {
     "data": {
      "image/png": "[encoded data removed]",
      "text/plain": [
       "<Figure size 962.125x900 with 30 Axes>"
      ]
     },
     "metadata": {
      "needs_background": "light"
     },
     "output_type": "display_data"
    }
   ],
   "source": [
    "sb.pairplot(hdata_df, hue='outlier', palette={False: 'blue', True: 'red'}, plot_kws={'alpha': 0.5})\n",
    "plt.suptitle('Pairplot of High-Dimensional data with Outliers highlighted',y=1.02)\n",
    "plt.show()"
   ]
  },
  {
   "cell_type": "markdown",
   "metadata": {},
   "source": [
    "<div style=\"background-color: black; padding: 5px\">\n",
    "    <p><b><font size=\"+2\" color=\"white\">4. Detecting Outliers using the Local Outlier Factor Method</font></b></p>\n",
    "    </div>\n",
    "\n",
    "> #### **Given a dataset with a column of normal and outlier values**"
   ]
  },
  {
   "cell_type": "code",
   "execution_count": 37,
   "metadata": {},
   "outputs": [
    {
     "data": {
      "text/html": [
       "<div>\n",
       "<style scoped>\n",
       "    .dataframe tbody tr th:only-of-type {\n",
       "        vertical-align: middle;\n",
       "    }\n",
       "\n",
       "    .dataframe tbody tr th {\n",
       "        vertical-align: top;\n",
       "    }\n",
       "\n",
       "    .dataframe thead th {\n",
       "        text-align: right;\n",
       "    }\n",
       "</style>\n",
       "<table border=\"1\" class=\"dataframe\">\n",
       "  <thead>\n",
       "    <tr style=\"text-align: right;\">\n",
       "      <th></th>\n",
       "      <th>value</th>\n",
       "    </tr>\n",
       "  </thead>\n",
       "  <tbody>\n",
       "    <tr>\n",
       "      <th>0</th>\n",
       "      <td>49.203898</td>\n",
       "    </tr>\n",
       "    <tr>\n",
       "      <th>1</th>\n",
       "      <td>37.411747</td>\n",
       "    </tr>\n",
       "    <tr>\n",
       "      <th>2</th>\n",
       "      <td>44.196092</td>\n",
       "    </tr>\n",
       "    <tr>\n",
       "      <th>3</th>\n",
       "      <td>53.626521</td>\n",
       "    </tr>\n",
       "    <tr>\n",
       "      <th>4</th>\n",
       "      <td>50.377137</td>\n",
       "    </tr>\n",
       "  </tbody>\n",
       "</table>\n",
       "</div>"
      ],
      "text/plain": [
       "       value\n",
       "0  49.203898\n",
       "1  37.411747\n",
       "2  44.196092\n",
       "3  53.626521\n",
       "4  50.377137"
      ]
     },
     "execution_count": 37,
     "metadata": {},
     "output_type": "execute_result"
    }
   ],
   "source": [
    "dl = np.random.normal(loc=50, scale=10, size=1000) #Normal distribution\n",
    "dl = np.append(dl,[150,200,300]) #Adding Outliers\n",
    "dl_df = pd.DataFrame(dl,columns=['value'])\n",
    "dl_df.head()"
   ]
  },
  {
   "cell_type": "code",
   "execution_count": 38,
   "metadata": {},
   "outputs": [
    {
     "data": {
      "text/html": [
       "<div>\n",
       "<style scoped>\n",
       "    .dataframe tbody tr th:only-of-type {\n",
       "        vertical-align: middle;\n",
       "    }\n",
       "\n",
       "    .dataframe tbody tr th {\n",
       "        vertical-align: top;\n",
       "    }\n",
       "\n",
       "    .dataframe thead th {\n",
       "        text-align: right;\n",
       "    }\n",
       "</style>\n",
       "<table border=\"1\" class=\"dataframe\">\n",
       "  <thead>\n",
       "    <tr style=\"text-align: right;\">\n",
       "      <th></th>\n",
       "      <th>value</th>\n",
       "      <th>outlier</th>\n",
       "    </tr>\n",
       "  </thead>\n",
       "  <tbody>\n",
       "    <tr>\n",
       "      <th>139</th>\n",
       "      <td>77.693846</td>\n",
       "      <td>-1</td>\n",
       "    </tr>\n",
       "    <tr>\n",
       "      <th>388</th>\n",
       "      <td>81.442653</td>\n",
       "      <td>-1</td>\n",
       "    </tr>\n",
       "    <tr>\n",
       "      <th>572</th>\n",
       "      <td>25.584157</td>\n",
       "      <td>-1</td>\n",
       "    </tr>\n",
       "    <tr>\n",
       "      <th>583</th>\n",
       "      <td>26.849220</td>\n",
       "      <td>-1</td>\n",
       "    </tr>\n",
       "    <tr>\n",
       "      <th>643</th>\n",
       "      <td>22.949441</td>\n",
       "      <td>-1</td>\n",
       "    </tr>\n",
       "    <tr>\n",
       "      <th>652</th>\n",
       "      <td>26.389186</td>\n",
       "      <td>-1</td>\n",
       "    </tr>\n",
       "    <tr>\n",
       "      <th>655</th>\n",
       "      <td>20.680177</td>\n",
       "      <td>-1</td>\n",
       "    </tr>\n",
       "    <tr>\n",
       "      <th>889</th>\n",
       "      <td>24.401845</td>\n",
       "      <td>-1</td>\n",
       "    </tr>\n",
       "    <tr>\n",
       "      <th>1000</th>\n",
       "      <td>150.000000</td>\n",
       "      <td>-1</td>\n",
       "    </tr>\n",
       "    <tr>\n",
       "      <th>1001</th>\n",
       "      <td>200.000000</td>\n",
       "      <td>-1</td>\n",
       "    </tr>\n",
       "    <tr>\n",
       "      <th>1002</th>\n",
       "      <td>300.000000</td>\n",
       "      <td>-1</td>\n",
       "    </tr>\n",
       "  </tbody>\n",
       "</table>\n",
       "</div>"
      ],
      "text/plain": [
       "           value  outlier\n",
       "139    77.693846       -1\n",
       "388    81.442653       -1\n",
       "572    25.584157       -1\n",
       "583    26.849220       -1\n",
       "643    22.949441       -1\n",
       "652    26.389186       -1\n",
       "655    20.680177       -1\n",
       "889    24.401845       -1\n",
       "1000  150.000000       -1\n",
       "1001  200.000000       -1\n",
       "1002  300.000000       -1"
      ]
     },
     "execution_count": 38,
     "metadata": {},
     "output_type": "execute_result"
    }
   ],
   "source": [
    "from sklearn.neighbors import LocalOutlierFactor\n",
    "\n",
    "#Fit the Model\n",
    "lof = LocalOutlierFactor(n_neighbors=20,contamination=0.01)\n",
    "dl_df['outlier'] = lof.fit_predict(dl_df[['value']])\n",
    "\n",
    "#Display Outliers\n",
    "outliers = dl_df[dl_df['outlier'] == -1]\n",
    "outliers"
   ]
  },
  {
   "cell_type": "markdown",
   "metadata": {},
   "source": [
    "**Filter out the Outliers**"
   ]
  },
  {
   "cell_type": "code",
   "execution_count": 39,
   "metadata": {},
   "outputs": [
    {
     "data": {
      "text/html": [
       "<div>\n",
       "<style scoped>\n",
       "    .dataframe tbody tr th:only-of-type {\n",
       "        vertical-align: middle;\n",
       "    }\n",
       "\n",
       "    .dataframe tbody tr th {\n",
       "        vertical-align: top;\n",
       "    }\n",
       "\n",
       "    .dataframe thead th {\n",
       "        text-align: right;\n",
       "    }\n",
       "</style>\n",
       "<table border=\"1\" class=\"dataframe\">\n",
       "  <thead>\n",
       "    <tr style=\"text-align: right;\">\n",
       "      <th></th>\n",
       "      <th>value</th>\n",
       "    </tr>\n",
       "  </thead>\n",
       "  <tbody>\n",
       "    <tr>\n",
       "      <th>0</th>\n",
       "      <td>49.203898</td>\n",
       "    </tr>\n",
       "    <tr>\n",
       "      <th>1</th>\n",
       "      <td>37.411747</td>\n",
       "    </tr>\n",
       "    <tr>\n",
       "      <th>2</th>\n",
       "      <td>44.196092</td>\n",
       "    </tr>\n",
       "    <tr>\n",
       "      <th>3</th>\n",
       "      <td>53.626521</td>\n",
       "    </tr>\n",
       "    <tr>\n",
       "      <th>4</th>\n",
       "      <td>50.377137</td>\n",
       "    </tr>\n",
       "    <tr>\n",
       "      <th>5</th>\n",
       "      <td>47.622981</td>\n",
       "    </tr>\n",
       "    <tr>\n",
       "      <th>6</th>\n",
       "      <td>51.560389</td>\n",
       "    </tr>\n",
       "    <tr>\n",
       "      <th>7</th>\n",
       "      <td>53.280325</td>\n",
       "    </tr>\n",
       "    <tr>\n",
       "      <th>8</th>\n",
       "      <td>35.648504</td>\n",
       "    </tr>\n",
       "    <tr>\n",
       "      <th>9</th>\n",
       "      <td>51.821263</td>\n",
       "    </tr>\n",
       "  </tbody>\n",
       "</table>\n",
       "</div>"
      ],
      "text/plain": [
       "       value\n",
       "0  49.203898\n",
       "1  37.411747\n",
       "2  44.196092\n",
       "3  53.626521\n",
       "4  50.377137\n",
       "5  47.622981\n",
       "6  51.560389\n",
       "7  53.280325\n",
       "8  35.648504\n",
       "9  51.821263"
      ]
     },
     "execution_count": 39,
     "metadata": {},
     "output_type": "execute_result"
    }
   ],
   "source": [
    "dl_df_cleaned = dl_df[dl_df['outlier'] != -1]\n",
    "dl_df_cleaned = dl_df_cleaned.drop(columns=['outlier'])\n",
    "dl_df_cleaned.head(10)"
   ]
  },
  {
   "cell_type": "markdown",
   "metadata": {},
   "source": [
    "<div style=\"background-color: black; padding: 5px\">\n",
    "    <p><b><font size=\"+2\" color=\"white\">5. Detecting Outliers using Mahalanobis Distance Method</font></b></p>\n",
    "    </div>\n",
    "\n",
    "Mahalanobis Distance is used for multivariate data. It is a measure of the distance between a point and a distribution taking into account the correlations between variables. This makes it particularly useful in identifying outliers, anomaly detection and in classification and clustering in machine learning.\n",
    "\n",
    "> #### **Given a dataset with a column of normal and outlier values**"
   ]
  },
  {
   "cell_type": "code",
   "execution_count": 40,
   "metadata": {},
   "outputs": [
    {
     "data": {
      "text/html": [
       "<div>\n",
       "<style scoped>\n",
       "    .dataframe tbody tr th:only-of-type {\n",
       "        vertical-align: middle;\n",
       "    }\n",
       "\n",
       "    .dataframe tbody tr th {\n",
       "        vertical-align: top;\n",
       "    }\n",
       "\n",
       "    .dataframe thead th {\n",
       "        text-align: right;\n",
       "    }\n",
       "</style>\n",
       "<table border=\"1\" class=\"dataframe\">\n",
       "  <thead>\n",
       "    <tr style=\"text-align: right;\">\n",
       "      <th></th>\n",
       "      <th>feature1</th>\n",
       "      <th>feature2</th>\n",
       "    </tr>\n",
       "  </thead>\n",
       "  <tbody>\n",
       "    <tr>\n",
       "      <th>0</th>\n",
       "      <td>44.704682</td>\n",
       "      <td>49.157189</td>\n",
       "    </tr>\n",
       "    <tr>\n",
       "      <th>1</th>\n",
       "      <td>49.520326</td>\n",
       "      <td>55.420985</td>\n",
       "    </tr>\n",
       "    <tr>\n",
       "      <th>2</th>\n",
       "      <td>49.807394</td>\n",
       "      <td>52.578759</td>\n",
       "    </tr>\n",
       "    <tr>\n",
       "      <th>3</th>\n",
       "      <td>49.650951</td>\n",
       "      <td>46.233326</td>\n",
       "    </tr>\n",
       "    <tr>\n",
       "      <th>4</th>\n",
       "      <td>52.155670</td>\n",
       "      <td>55.188582</td>\n",
       "    </tr>\n",
       "  </tbody>\n",
       "</table>\n",
       "</div>"
      ],
      "text/plain": [
       "    feature1   feature2\n",
       "0  44.704682  49.157189\n",
       "1  49.520326  55.420985\n",
       "2  49.807394  52.578759\n",
       "3  49.650951  46.233326\n",
       "4  52.155670  55.188582"
      ]
     },
     "execution_count": 40,
     "metadata": {},
     "output_type": "execute_result"
    }
   ],
   "source": [
    "dta = np.random.multivariate_normal([50,50],[[10,2],[2,10]],size=1000)\n",
    "outliers = np.array([[150,150],[200,200],[300,300]])\n",
    "dta = np.vstack([dta,outliers])\n",
    "dta_df = pd.DataFrame(dta,columns=['feature1','feature2'])\n",
    "dta_df.head()"
   ]
  },
  {
   "cell_type": "code",
   "execution_count": 41,
   "metadata": {},
   "outputs": [
    {
     "data": {
      "text/html": [
       "<div>\n",
       "<style scoped>\n",
       "    .dataframe tbody tr th:only-of-type {\n",
       "        vertical-align: middle;\n",
       "    }\n",
       "\n",
       "    .dataframe tbody tr th {\n",
       "        vertical-align: top;\n",
       "    }\n",
       "\n",
       "    .dataframe thead th {\n",
       "        text-align: right;\n",
       "    }\n",
       "</style>\n",
       "<table border=\"1\" class=\"dataframe\">\n",
       "  <thead>\n",
       "    <tr style=\"text-align: right;\">\n",
       "      <th></th>\n",
       "      <th>feature1</th>\n",
       "      <th>feature2</th>\n",
       "      <th>mahalanobis</th>\n",
       "      <th>outlier</th>\n",
       "    </tr>\n",
       "  </thead>\n",
       "  <tbody>\n",
       "    <tr>\n",
       "      <th>1000</th>\n",
       "      <td>150.0</td>\n",
       "      <td>150.0</td>\n",
       "      <td>9.924022</td>\n",
       "      <td>True</td>\n",
       "    </tr>\n",
       "    <tr>\n",
       "      <th>1001</th>\n",
       "      <td>200.0</td>\n",
       "      <td>200.0</td>\n",
       "      <td>14.910166</td>\n",
       "      <td>True</td>\n",
       "    </tr>\n",
       "    <tr>\n",
       "      <th>1002</th>\n",
       "      <td>300.0</td>\n",
       "      <td>300.0</td>\n",
       "      <td>24.882454</td>\n",
       "      <td>True</td>\n",
       "    </tr>\n",
       "  </tbody>\n",
       "</table>\n",
       "</div>"
      ],
      "text/plain": [
       "      feature1  feature2  mahalanobis  outlier\n",
       "1000     150.0     150.0     9.924022     True\n",
       "1001     200.0     200.0    14.910166     True\n",
       "1002     300.0     300.0    24.882454     True"
      ]
     },
     "execution_count": 41,
     "metadata": {},
     "output_type": "execute_result"
    }
   ],
   "source": [
    "from scipy.spatial.distance import mahalanobis\n",
    "from scipy.stats import chi2\n",
    "\n",
    "# Calculate Mahalanobis Distance\n",
    "cov_matrix = np.cov(dta_df,rowvar=False)\n",
    "inv_cov_matrix = np.linalg.inv(cov_matrix)\n",
    "mean_distr = dta_df.mean(axis=0).values\n",
    "dta_df['mahalanobis'] = dta_df.apply(lambda x: mahalanobis(x, mean_distr,inv_cov_matrix), axis=1)\n",
    "\n",
    "#Identify Outliers using chi-squared distribution with 2 degrees of freedom\n",
    "dta_df['outlier'] = dta_df['mahalanobis'] > chi2.ppf((1 - 0.01), df=2)\n",
    "\n",
    "#Display Outliers\n",
    "outliers = dta_df[dta_df['outlier']]\n",
    "outliers"
   ]
  },
  {
   "cell_type": "markdown",
   "metadata": {},
   "source": [
    "**Filter out the Outliers**"
   ]
  },
  {
   "cell_type": "code",
   "execution_count": 42,
   "metadata": {},
   "outputs": [
    {
     "data": {
      "text/html": [
       "<div>\n",
       "<style scoped>\n",
       "    .dataframe tbody tr th:only-of-type {\n",
       "        vertical-align: middle;\n",
       "    }\n",
       "\n",
       "    .dataframe tbody tr th {\n",
       "        vertical-align: top;\n",
       "    }\n",
       "\n",
       "    .dataframe thead th {\n",
       "        text-align: right;\n",
       "    }\n",
       "</style>\n",
       "<table border=\"1\" class=\"dataframe\">\n",
       "  <thead>\n",
       "    <tr style=\"text-align: right;\">\n",
       "      <th></th>\n",
       "      <th>feature1</th>\n",
       "      <th>feature2</th>\n",
       "    </tr>\n",
       "  </thead>\n",
       "  <tbody>\n",
       "    <tr>\n",
       "      <th>0</th>\n",
       "      <td>44.704682</td>\n",
       "      <td>49.157189</td>\n",
       "    </tr>\n",
       "    <tr>\n",
       "      <th>1</th>\n",
       "      <td>49.520326</td>\n",
       "      <td>55.420985</td>\n",
       "    </tr>\n",
       "    <tr>\n",
       "      <th>2</th>\n",
       "      <td>49.807394</td>\n",
       "      <td>52.578759</td>\n",
       "    </tr>\n",
       "    <tr>\n",
       "      <th>3</th>\n",
       "      <td>49.650951</td>\n",
       "      <td>46.233326</td>\n",
       "    </tr>\n",
       "    <tr>\n",
       "      <th>4</th>\n",
       "      <td>52.155670</td>\n",
       "      <td>55.188582</td>\n",
       "    </tr>\n",
       "    <tr>\n",
       "      <th>5</th>\n",
       "      <td>48.026657</td>\n",
       "      <td>43.747054</td>\n",
       "    </tr>\n",
       "    <tr>\n",
       "      <th>6</th>\n",
       "      <td>50.153609</td>\n",
       "      <td>52.899727</td>\n",
       "    </tr>\n",
       "    <tr>\n",
       "      <th>7</th>\n",
       "      <td>50.532120</td>\n",
       "      <td>51.619328</td>\n",
       "    </tr>\n",
       "    <tr>\n",
       "      <th>8</th>\n",
       "      <td>51.739169</td>\n",
       "      <td>54.523957</td>\n",
       "    </tr>\n",
       "    <tr>\n",
       "      <th>9</th>\n",
       "      <td>52.569952</td>\n",
       "      <td>47.417724</td>\n",
       "    </tr>\n",
       "  </tbody>\n",
       "</table>\n",
       "</div>"
      ],
      "text/plain": [
       "    feature1   feature2\n",
       "0  44.704682  49.157189\n",
       "1  49.520326  55.420985\n",
       "2  49.807394  52.578759\n",
       "3  49.650951  46.233326\n",
       "4  52.155670  55.188582\n",
       "5  48.026657  43.747054\n",
       "6  50.153609  52.899727\n",
       "7  50.532120  51.619328\n",
       "8  51.739169  54.523957\n",
       "9  52.569952  47.417724"
      ]
     },
     "execution_count": 42,
     "metadata": {},
     "output_type": "execute_result"
    }
   ],
   "source": [
    "#Remove Outliers\n",
    "dta_df_cleaned = dta_df[~dta_df['outlier']]\n",
    "\n",
    "#Drop helper columns\n",
    "dta_df_cleaned = dta_df_cleaned.drop(columns=['mahalanobis','outlier'])\n",
    "dta_df_cleaned.head(10)"
   ]
  },
  {
   "cell_type": "markdown",
   "metadata": {},
   "source": [
    "<div class= \"alert alert-block\" style=\"background-color: orange; border-color: black\">\n",
    "    <p><b><font size=\"+2\" color=\"black\">Permutation & Random Sampling</font></b></p>\n",
    "    </div>\n",
    "\n",
    "---\n",
    "Permutation and Random Sampling are two pwerful techniques in data transformation and analysis. They are used for various purposes, including:\n",
    "\n",
    "* statistical testing, \n",
    "* data augmentation and \n",
    "* bootstrapping. \n",
    "\n",
    "These techniques are essential in data science for validating models, increasing data variability and estimating the distribution of statistics."
   ]
  },
  {
   "cell_type": "markdown",
   "metadata": {},
   "source": [
    "<div style=\"background-color: black; padding: 5px\">\n",
    "    <p><b><font size=\"+2\" color=\"white\">1. Permutation - Data Augmentation</font></b></p>\n",
    "    </div>\n",
    "\n",
    "Permutation can be used to create new samples from existing datasets to increase the dataset size and variability. This is especially useful in machine learning and deep learning.\n",
    "\n",
    "> #### **Given an array of values**"
   ]
  },
  {
   "cell_type": "code",
   "execution_count": 43,
   "metadata": {},
   "outputs": [
    {
     "data": {
      "text/plain": [
       "array([10, 20, 30, 40])"
      ]
     },
     "execution_count": 43,
     "metadata": {},
     "output_type": "execute_result"
    }
   ],
   "source": [
    "data = np.array([10,20,30,40])\n",
    "data"
   ]
  },
  {
   "cell_type": "markdown",
   "metadata": {},
   "source": [
    "> #### **Generate augmented data through rearranging and reordering of original data**"
   ]
  },
  {
   "cell_type": "code",
   "execution_count": 44,
   "metadata": {},
   "outputs": [
    {
     "data": {
      "text/plain": [
       "[array([10, 30, 40, 20]),\n",
       " array([10, 30, 20, 40]),\n",
       " array([40, 30, 20, 10]),\n",
       " array([40, 20, 30, 10]),\n",
       " array([40, 30, 10, 20])]"
      ]
     },
     "execution_count": 44,
     "metadata": {},
     "output_type": "execute_result"
    }
   ],
   "source": [
    "augmented_data = [np.random.permutation(data) for t in range(5)]\n",
    "augmented_data"
   ]
  },
  {
   "cell_type": "markdown",
   "metadata": {},
   "source": [
    "<div style=\"background-color: black; padding: 5px\">\n",
    "    <p><b><font size=\"+2\" color=\"white\">2. Permutation - Statistical Testing</font></b></p>\n",
    "    </div>\n",
    "    \n",
    "Permutation tests are used to determine if two datasets are significantly different by comparing the observed test statistic to the distribution of test statistics obtained by rearranging or reordering the labels of the data.\n",
    "\n",
    "> #### **Given two groups of datasets, we aim to test if their means are significantly different**"
   ]
  },
  {
   "cell_type": "code",
   "execution_count": 45,
   "metadata": {},
   "outputs": [
    {
     "data": {
      "text/plain": [
       "0.8487"
      ]
     },
     "execution_count": 45,
     "metadata": {},
     "output_type": "execute_result"
    }
   ],
   "source": [
    "group1 = np.random.normal(0,1,50)\n",
    "group2 = np.random.normal(0.5,1,50)\n",
    "\n",
    "#Obtain the difference in their mean values\n",
    "observed_diff = np.mean(group2) - np.mean(group1) \n",
    "round(observed_diff,4)"
   ]
  },
  {
   "cell_type": "markdown",
   "metadata": {},
   "source": [
    ">#### **Combine the groups & Conduct the Permutation Test**\n",
    "* In the permutation test, we repeatedly shuffle the combined data of group 1 and group2 then split into two new groups.\n",
    "* We then calculate the difference in the means of the permuted groups. This will be done many times (1000)\n",
    "* We build a distribution of the difference in means under null hypothesis that there is no difference between the two groups\n",
    "* The p-value is calculated as the proportion of permuted differences that are as extreme or more extreme than the observed difference."
   ]
  },
  {
   "cell_type": "code",
   "execution_count": 46,
   "metadata": {},
   "outputs": [
    {
     "data": {
      "text/html": [
       "<div>\n",
       "<style scoped>\n",
       "    .dataframe tbody tr th:only-of-type {\n",
       "        vertical-align: middle;\n",
       "    }\n",
       "\n",
       "    .dataframe tbody tr th {\n",
       "        vertical-align: top;\n",
       "    }\n",
       "\n",
       "    .dataframe thead th {\n",
       "        text-align: right;\n",
       "    }\n",
       "</style>\n",
       "<table border=\"1\" class=\"dataframe\">\n",
       "  <thead>\n",
       "    <tr style=\"text-align: right;\">\n",
       "      <th></th>\n",
       "      <th>observed difference</th>\n",
       "      <th>p-value</th>\n",
       "    </tr>\n",
       "  </thead>\n",
       "  <tbody>\n",
       "    <tr>\n",
       "      <th>stats</th>\n",
       "      <td>0.848658</td>\n",
       "      <td>0.0</td>\n",
       "    </tr>\n",
       "  </tbody>\n",
       "</table>\n",
       "</div>"
      ],
      "text/plain": [
       "       observed difference  p-value\n",
       "stats             0.848658      0.0"
      ]
     },
     "execution_count": 46,
     "metadata": {},
     "output_type": "execute_result"
    }
   ],
   "source": [
    "combined = np.concatenate([group1,group2])\n",
    "\n",
    "num_permutations = 1000\n",
    "permuted_diffs = []\n",
    "for n in range(num_permutations):\n",
    "    permuted = np.random.permutation(combined)\n",
    "    perm_group1 = permuted[:50]\n",
    "    perm_group2 = permuted[50:]\n",
    "    permuted_diffs.append(np.mean(perm_group2) - np.mean(group1))\n",
    "\n",
    "#Calculate p-value\n",
    "p_value = np.sum(np.abs(permuted_diffs) >= np.abs(observed_diff))/num_permutations\n",
    "\n",
    "results = pd.DataFrame({'observed difference': observed_diff, 'p-value': p_value},index=['stats'])\n",
    "results\n"
   ]
  },
  {
   "cell_type": "markdown",
   "metadata": {},
   "source": [
    "> #### **Interpretation of the p-value**\n",
    "\n",
    "A p-value of 0.07 or close to zero indicates that none of the permuted samples had a difference in means as extreme as the observed difference. This means that under the null hypothesis (that there's no difference between the groups), it is unlikely to have a such a large difference in means of the two groups. The very small p-value indicates a strong evidence that the obsevred difference is not due to random chance."
   ]
  },
  {
   "cell_type": "markdown",
   "metadata": {},
   "source": [
    " > **Visualize the permuted differences**"
   ]
  },
  {
   "cell_type": "code",
   "execution_count": 47,
   "metadata": {},
   "outputs": [
    {
     "data": {
      "image/png": "[encoded data removed]",
      "text/plain": [
       "<Figure size 576x360 with 1 Axes>"
      ]
     },
     "metadata": {
      "needs_background": "light"
     },
     "output_type": "display_data"
    }
   ],
   "source": [
    "plt.figure(figsize=(8,5))\n",
    "plt.hist(permuted_diffs,edgecolor=\"black\",color='orange');\n",
    "plt.xlim([-0.2,0.6]);"
   ]
  },
  {
   "cell_type": "markdown",
   "metadata": {},
   "source": [
    "<div style=\"background-color: black; padding: 5px\">\n",
    "    <p><b><font size=\"+2\" color=\"white\">3. Permutation - Bootstrapping</font></b></p>\n",
    "    </div>\n",
    "    \n",
    "Bootstrapping with permutation involves repeatedly rearranging and reordering the dataset to estimate the distribution of a statistic\n",
    "\n",
    "> #### **Given a dataset from a normal distribution with a mean of 0 and std of 1**\n",
    "We visualize the distribution prior and after permutation to verify the distribution of the data"
   ]
  },
  {
   "cell_type": "code",
   "execution_count": 48,
   "metadata": {},
   "outputs": [
    {
     "data": {
      "text/plain": [
       "array([0.02220933, 0.02220933])"
      ]
     },
     "execution_count": 48,
     "metadata": {},
     "output_type": "execute_result"
    }
   ],
   "source": [
    "data1 = np.random.normal(0,1,1500)\n",
    "\n",
    "# Bootstrapping\n",
    "num_bootstraps = 1000\n",
    "bootstrap_means = []\n",
    "\n",
    "for i in range(num_bootstraps):\n",
    "    bootstrap_sample = np.random.permutation(data1)\n",
    "    bootstrap_means.append(np.mean(bootstrap_sample))\n",
    "    \n",
    "# Confidence Interval\n",
    "conf_interval = np.percentile(bootstrap_means, [2.5,97.5])\n",
    "conf_interval"
   ]
  },
  {
   "cell_type": "markdown",
   "metadata": {},
   "source": [
    "This is the bootstrap 95% confidence interval for the mean"
   ]
  },
  {
   "cell_type": "markdown",
   "metadata": {},
   "source": [
    "<div style=\"background-color: black; padding: 5px\">\n",
    "    <p><b><font size=\"+2\" color=\"white\">1. Random Sampling - Bootstrapping</font></b></p>\n",
    "    </div>\n",
    "    \n",
    "Random Sampling is the process of randomly selecting a subset of data from a larger dataset. It is widely used in bootstrapping, cross-validation and data-splitting for training and testing machine learning models.\n",
    "\n",
    "#### Bootstrapping involves random sampling with replacement to estimate the distribution of a statistic. \n",
    "\n",
    "The aim is to demonstrate how to estimate the properties of the distribution such as mean, variance, confidence intervals of a statistical population by sampling with replacement from an existing dataset. \n",
    "\n",
    "Bootstrapping is particularly useful when the theoretical distribution of a statistic is complex or unknown. \n",
    "\n",
    "> #### **Given a dataset from a normal distribution with a mean of 0 and std of 1**\n",
    "\n"
   ]
  },
  {
   "cell_type": "code",
   "execution_count": 49,
   "metadata": {},
   "outputs": [
    {
     "data": {
      "text/plain": [
       "array([-0.13612354,  0.23549449])"
      ]
     },
     "execution_count": 49,
     "metadata": {},
     "output_type": "execute_result"
    }
   ],
   "source": [
    "data2 = np.random.normal(0,1,100)\n",
    "\n",
    "# Estimate Mean of the distribution\n",
    "num_bootstraps = 1000\n",
    "bootstrap_means = []\n",
    "for i in range(num_bootstraps):\n",
    "    bootstrap_sample = np.random.choice(data2, size=len(data2),replace=True)\n",
    "    bootstrap_means.append(np.mean(bootstrap_sample))\n",
    "    \n",
    "# Estimate the Confidence Interval\n",
    "conf_interval = np.percentile(bootstrap_means,[2.5,97.5])\n",
    "conf_interval"
   ]
  },
  {
   "cell_type": "markdown",
   "metadata": {},
   "source": [
    "<div style=\"background-color: black; padding: 5px\">\n",
    "    <p><b><font size=\"+2\" color=\"white\">2. Random Sampling - Data Splitting For Training & Testing</font></b></p>\n",
    "    </div>\n",
    "    \n",
    "This is a common practice in machine learning model evaluation"
   ]
  },
  {
   "cell_type": "code",
   "execution_count": 50,
   "metadata": {},
   "outputs": [
    {
     "data": {
      "text/html": [
       "<div>\n",
       "<style scoped>\n",
       "    .dataframe tbody tr th:only-of-type {\n",
       "        vertical-align: middle;\n",
       "    }\n",
       "\n",
       "    .dataframe tbody tr th {\n",
       "        vertical-align: top;\n",
       "    }\n",
       "\n",
       "    .dataframe thead th {\n",
       "        text-align: right;\n",
       "    }\n",
       "</style>\n",
       "<table border=\"1\" class=\"dataframe\">\n",
       "  <thead>\n",
       "    <tr style=\"text-align: right;\">\n",
       "      <th></th>\n",
       "      <th>feature1</th>\n",
       "      <th>feature2</th>\n",
       "      <th>target</th>\n",
       "    </tr>\n",
       "  </thead>\n",
       "  <tbody>\n",
       "    <tr>\n",
       "      <th>55</th>\n",
       "      <td>-1.354043</td>\n",
       "      <td>-0.019204</td>\n",
       "      <td>1</td>\n",
       "    </tr>\n",
       "    <tr>\n",
       "      <th>88</th>\n",
       "      <td>-0.648295</td>\n",
       "      <td>-0.867904</td>\n",
       "      <td>1</td>\n",
       "    </tr>\n",
       "    <tr>\n",
       "      <th>26</th>\n",
       "      <td>1.495156</td>\n",
       "      <td>-0.163633</td>\n",
       "      <td>0</td>\n",
       "    </tr>\n",
       "    <tr>\n",
       "      <th>42</th>\n",
       "      <td>0.596439</td>\n",
       "      <td>1.721593</td>\n",
       "      <td>0</td>\n",
       "    </tr>\n",
       "    <tr>\n",
       "      <th>69</th>\n",
       "      <td>1.222432</td>\n",
       "      <td>1.442569</td>\n",
       "      <td>0</td>\n",
       "    </tr>\n",
       "  </tbody>\n",
       "</table>\n",
       "</div>"
      ],
      "text/plain": [
       "    feature1  feature2  target\n",
       "55 -1.354043 -0.019204       1\n",
       "88 -0.648295 -0.867904       1\n",
       "26  1.495156 -0.163633       0\n",
       "42  0.596439  1.721593       0\n",
       "69  1.222432  1.442569       0"
      ]
     },
     "execution_count": 50,
     "metadata": {},
     "output_type": "execute_result"
    }
   ],
   "source": [
    "from sklearn.model_selection import train_test_split\n",
    "\n",
    "data3 = pd.DataFrame({'feature1': np.random.randn(100),'feature2':np.random.randn(100),\n",
    "                      'target':np.random.randint(0,2,100)})\n",
    "\n",
    "#Split the data into train and test split\n",
    "train,test = train_test_split(data3, test_size=0.2,random_state=42)\n",
    "\n",
    "train.head()"
   ]
  },
  {
   "cell_type": "code",
   "execution_count": 51,
   "metadata": {},
   "outputs": [
    {
     "data": {
      "text/html": [
       "<div>\n",
       "<style scoped>\n",
       "    .dataframe tbody tr th:only-of-type {\n",
       "        vertical-align: middle;\n",
       "    }\n",
       "\n",
       "    .dataframe tbody tr th {\n",
       "        vertical-align: top;\n",
       "    }\n",
       "\n",
       "    .dataframe thead th {\n",
       "        text-align: right;\n",
       "    }\n",
       "</style>\n",
       "<table border=\"1\" class=\"dataframe\">\n",
       "  <thead>\n",
       "    <tr style=\"text-align: right;\">\n",
       "      <th></th>\n",
       "      <th>feature1</th>\n",
       "      <th>feature2</th>\n",
       "      <th>target</th>\n",
       "    </tr>\n",
       "  </thead>\n",
       "  <tbody>\n",
       "    <tr>\n",
       "      <th>83</th>\n",
       "      <td>-0.082555</td>\n",
       "      <td>0.935362</td>\n",
       "      <td>0</td>\n",
       "    </tr>\n",
       "    <tr>\n",
       "      <th>53</th>\n",
       "      <td>-0.541202</td>\n",
       "      <td>0.405085</td>\n",
       "      <td>0</td>\n",
       "    </tr>\n",
       "    <tr>\n",
       "      <th>70</th>\n",
       "      <td>-1.005081</td>\n",
       "      <td>0.237089</td>\n",
       "      <td>0</td>\n",
       "    </tr>\n",
       "    <tr>\n",
       "      <th>45</th>\n",
       "      <td>-1.473532</td>\n",
       "      <td>-1.162873</td>\n",
       "      <td>0</td>\n",
       "    </tr>\n",
       "    <tr>\n",
       "      <th>44</th>\n",
       "      <td>-0.840660</td>\n",
       "      <td>0.658662</td>\n",
       "      <td>0</td>\n",
       "    </tr>\n",
       "  </tbody>\n",
       "</table>\n",
       "</div>"
      ],
      "text/plain": [
       "    feature1  feature2  target\n",
       "83 -0.082555  0.935362       0\n",
       "53 -0.541202  0.405085       0\n",
       "70 -1.005081  0.237089       0\n",
       "45 -1.473532 -1.162873       0\n",
       "44 -0.840660  0.658662       0"
      ]
     },
     "execution_count": 51,
     "metadata": {},
     "output_type": "execute_result"
    }
   ],
   "source": [
    "test.head()"
   ]
  },
  {
   "cell_type": "markdown",
   "metadata": {},
   "source": [
    "<div class= \"alert alert-block\" style=\"background-color: orange; border-color: black\">\n",
    "    <p><b><font size=\"+2\" color=\"black\">Computing Dummy Variables</font></b></p>\n",
    "    </div>\n",
    "\n",
    "---\n",
    "\n",
    "**Another type of transformation for statistical modleing or machine learning application is converting a categorical variable into a dummy variable or indicator matrix.** \n",
    "\n",
    "**Also known as one-hot encoding transforming categorical variables into a series of binary variables (0 or 1) that represent the prescence or abscence  of a particular category.**"
   ]
  },
  {
   "cell_type": "code",
   "execution_count": 52,
   "metadata": {},
   "outputs": [
    {
     "data": {
      "text/html": [
       "<div>\n",
       "<style scoped>\n",
       "    .dataframe tbody tr th:only-of-type {\n",
       "        vertical-align: middle;\n",
       "    }\n",
       "\n",
       "    .dataframe tbody tr th {\n",
       "        vertical-align: top;\n",
       "    }\n",
       "\n",
       "    .dataframe thead th {\n",
       "        text-align: right;\n",
       "    }\n",
       "</style>\n",
       "<table border=\"1\" class=\"dataframe\">\n",
       "  <thead>\n",
       "    <tr style=\"text-align: right;\">\n",
       "      <th></th>\n",
       "      <th>EmployeeID</th>\n",
       "      <th>Department</th>\n",
       "      <th>Gender</th>\n",
       "      <th>Salary</th>\n",
       "    </tr>\n",
       "  </thead>\n",
       "  <tbody>\n",
       "    <tr>\n",
       "      <th>0</th>\n",
       "      <td>1</td>\n",
       "      <td>HR</td>\n",
       "      <td>Male</td>\n",
       "      <td>100000</td>\n",
       "    </tr>\n",
       "    <tr>\n",
       "      <th>1</th>\n",
       "      <td>2</td>\n",
       "      <td>Sales</td>\n",
       "      <td>Female</td>\n",
       "      <td>50000</td>\n",
       "    </tr>\n",
       "    <tr>\n",
       "      <th>2</th>\n",
       "      <td>3</td>\n",
       "      <td>Engineering</td>\n",
       "      <td>Female</td>\n",
       "      <td>65000</td>\n",
       "    </tr>\n",
       "    <tr>\n",
       "      <th>3</th>\n",
       "      <td>4</td>\n",
       "      <td>HR</td>\n",
       "      <td>Male</td>\n",
       "      <td>45000</td>\n",
       "    </tr>\n",
       "    <tr>\n",
       "      <th>4</th>\n",
       "      <td>5</td>\n",
       "      <td>Engineering</td>\n",
       "      <td>Male</td>\n",
       "      <td>80000</td>\n",
       "    </tr>\n",
       "  </tbody>\n",
       "</table>\n",
       "</div>"
      ],
      "text/plain": [
       "   EmployeeID   Department  Gender  Salary\n",
       "0           1           HR    Male  100000\n",
       "1           2        Sales  Female   50000\n",
       "2           3  Engineering  Female   65000\n",
       "3           4           HR    Male   45000\n",
       "4           5  Engineering    Male   80000"
      ]
     },
     "execution_count": 52,
     "metadata": {},
     "output_type": "execute_result"
    }
   ],
   "source": [
    "data4 = pd.DataFrame({'EmployeeID': [1,2,3,4,5],'Department': ['HR','Sales','Engineering','HR','Engineering'],\n",
    "                      'Gender':['Male','Female','Female','Male','Male'],'Salary':[100000,50000,65000,45000,80000]})\n",
    "data4"
   ]
  },
  {
   "cell_type": "code",
   "execution_count": 53,
   "metadata": {},
   "outputs": [
    {
     "data": {
      "text/html": [
       "<div>\n",
       "<style scoped>\n",
       "    .dataframe tbody tr th:only-of-type {\n",
       "        vertical-align: middle;\n",
       "    }\n",
       "\n",
       "    .dataframe tbody tr th {\n",
       "        vertical-align: top;\n",
       "    }\n",
       "\n",
       "    .dataframe thead th {\n",
       "        text-align: right;\n",
       "    }\n",
       "</style>\n",
       "<table border=\"1\" class=\"dataframe\">\n",
       "  <thead>\n",
       "    <tr style=\"text-align: right;\">\n",
       "      <th></th>\n",
       "      <th>EmployeeID</th>\n",
       "      <th>Salary</th>\n",
       "      <th>Department_Engineering</th>\n",
       "      <th>Department_HR</th>\n",
       "      <th>Department_Sales</th>\n",
       "      <th>Gender_Female</th>\n",
       "      <th>Gender_Male</th>\n",
       "    </tr>\n",
       "  </thead>\n",
       "  <tbody>\n",
       "    <tr>\n",
       "      <th>0</th>\n",
       "      <td>1</td>\n",
       "      <td>100000</td>\n",
       "      <td>0</td>\n",
       "      <td>1</td>\n",
       "      <td>0</td>\n",
       "      <td>0</td>\n",
       "      <td>1</td>\n",
       "    </tr>\n",
       "    <tr>\n",
       "      <th>1</th>\n",
       "      <td>2</td>\n",
       "      <td>50000</td>\n",
       "      <td>0</td>\n",
       "      <td>0</td>\n",
       "      <td>1</td>\n",
       "      <td>1</td>\n",
       "      <td>0</td>\n",
       "    </tr>\n",
       "    <tr>\n",
       "      <th>2</th>\n",
       "      <td>3</td>\n",
       "      <td>65000</td>\n",
       "      <td>1</td>\n",
       "      <td>0</td>\n",
       "      <td>0</td>\n",
       "      <td>1</td>\n",
       "      <td>0</td>\n",
       "    </tr>\n",
       "    <tr>\n",
       "      <th>3</th>\n",
       "      <td>4</td>\n",
       "      <td>45000</td>\n",
       "      <td>0</td>\n",
       "      <td>1</td>\n",
       "      <td>0</td>\n",
       "      <td>0</td>\n",
       "      <td>1</td>\n",
       "    </tr>\n",
       "    <tr>\n",
       "      <th>4</th>\n",
       "      <td>5</td>\n",
       "      <td>80000</td>\n",
       "      <td>1</td>\n",
       "      <td>0</td>\n",
       "      <td>0</td>\n",
       "      <td>0</td>\n",
       "      <td>1</td>\n",
       "    </tr>\n",
       "  </tbody>\n",
       "</table>\n",
       "</div>"
      ],
      "text/plain": [
       "   EmployeeID  Salary  Department_Engineering  Department_HR  \\\n",
       "0           1  100000                       0              1   \n",
       "1           2   50000                       0              0   \n",
       "2           3   65000                       1              0   \n",
       "3           4   45000                       0              1   \n",
       "4           5   80000                       1              0   \n",
       "\n",
       "   Department_Sales  Gender_Female  Gender_Male  \n",
       "0                 0              0            1  \n",
       "1                 1              1            0  \n",
       "2                 0              1            0  \n",
       "3                 0              0            1  \n",
       "4                 0              0            1  "
      ]
     },
     "execution_count": 53,
     "metadata": {},
     "output_type": "execute_result"
    }
   ],
   "source": [
    "# Identify the categorical columns\n",
    "categorical_columns = ['Department','Gender']\n",
    "dummy_data4 = pd.get_dummies(data4[categorical_columns])\n",
    "\n",
    "#Drop the original categorical columns\n",
    "data4.drop(categorical_columns,axis=1,inplace=True)\n",
    "\n",
    "#Concatenate dummy vaiables with the original dataframe\n",
    "data4 = pd.concat([data4,dummy_data4],axis=1)\n",
    "data4"
   ]
  },
  {
   "cell_type": "markdown",
   "metadata": {},
   "source": [
    "<div class= \"alert alert-block\" style=\"background-color: orange; border-color: black\">\n",
    "    <p><b><font size=\"+2\" color=\"black\">String Manipulation</font></b></p>\n",
    "    </div>\n",
    "\n",
    "---\n",
    "\n",
    "String Manipulation is a fundamental skill in data science and software development. This section will cover various aspects of string manipulation using practical examples from a typical database.\n",
    "\n",
    "> #### **Given a database of Customers**"
   ]
  },
  {
   "cell_type": "code",
   "execution_count": 54,
   "metadata": {},
   "outputs": [
    {
     "data": {
      "text/html": [
       "<div>\n",
       "<style scoped>\n",
       "    .dataframe tbody tr th:only-of-type {\n",
       "        vertical-align: middle;\n",
       "    }\n",
       "\n",
       "    .dataframe tbody tr th {\n",
       "        vertical-align: top;\n",
       "    }\n",
       "\n",
       "    .dataframe thead th {\n",
       "        text-align: right;\n",
       "    }\n",
       "</style>\n",
       "<table border=\"1\" class=\"dataframe\">\n",
       "  <thead>\n",
       "    <tr style=\"text-align: right;\">\n",
       "      <th></th>\n",
       "      <th>name</th>\n",
       "      <th>email</th>\n",
       "      <th>address</th>\n",
       "      <th>phone</th>\n",
       "    </tr>\n",
       "  </thead>\n",
       "  <tbody>\n",
       "    <tr>\n",
       "      <th>0</th>\n",
       "      <td>Abel</td>\n",
       "      <td>abel@gmail.com</td>\n",
       "      <td>232 Main Street</td>\n",
       "      <td>(0804)345-9636</td>\n",
       "    </tr>\n",
       "    <tr>\n",
       "      <th>1</th>\n",
       "      <td>Bale</td>\n",
       "      <td>bale@yahoo.com</td>\n",
       "      <td>444 Elm street</td>\n",
       "      <td>(0902)888-3412</td>\n",
       "    </tr>\n",
       "    <tr>\n",
       "      <th>2</th>\n",
       "      <td>Candy</td>\n",
       "      <td>candy@gmail.com</td>\n",
       "      <td>747 twelfth street</td>\n",
       "      <td>(0802)388-7818)</td>\n",
       "    </tr>\n",
       "    <tr>\n",
       "      <th>3</th>\n",
       "      <td>Drake</td>\n",
       "      <td>drake@outlook.com</td>\n",
       "      <td>887 Maple street</td>\n",
       "      <td>(0701)252-5101</td>\n",
       "    </tr>\n",
       "    <tr>\n",
       "      <th>4</th>\n",
       "      <td>Eva</td>\n",
       "      <td>eva@yahoo.com</td>\n",
       "      <td>101 George street</td>\n",
       "      <td>(0818)766-1213</td>\n",
       "    </tr>\n",
       "  </tbody>\n",
       "</table>\n",
       "</div>"
      ],
      "text/plain": [
       "    name              email             address            phone\n",
       "0   Abel     abel@gmail.com     232 Main Street   (0804)345-9636\n",
       "1   Bale     bale@yahoo.com      444 Elm street   (0902)888-3412\n",
       "2  Candy    candy@gmail.com  747 twelfth street  (0802)388-7818)\n",
       "3  Drake  drake@outlook.com    887 Maple street   (0701)252-5101\n",
       "4    Eva      eva@yahoo.com   101 George street   (0818)766-1213"
      ]
     },
     "execution_count": 54,
     "metadata": {},
     "output_type": "execute_result"
    }
   ],
   "source": [
    "dbase = pd.DataFrame({'name': ['Abel','Bale','Candy','Drake','Eva'],\n",
    "                     'email': ['abel@gmail.com','bale@yahoo.com','candy@gmail.com','drake@outlook.com','eva@yahoo.com'],\n",
    "                     'address':['232 Main Street','444 Elm street','747 twelfth street','887 Maple street','101 George street'],\n",
    "                     'phone': ['(0804)345-9636', '(0902)888-3412','(0802)388-7818)','(0701)252-5101','(0818)766-1213']})\n",
    "dbase"
   ]
  },
  {
   "cell_type": "markdown",
   "metadata": {},
   "source": [
    "<div style=\"background-color: black; padding: 5px\">\n",
    "    <p><b><font size=\"+2\" color=\"white\">1. String Splitting</font></b></p>\n",
    "    </div>\n",
    "\n",
    "> #### **Extract the domain from the email addresses**"
   ]
  },
  {
   "cell_type": "code",
   "execution_count": 55,
   "metadata": {},
   "outputs": [
    {
     "data": {
      "text/html": [
       "<div>\n",
       "<style scoped>\n",
       "    .dataframe tbody tr th:only-of-type {\n",
       "        vertical-align: middle;\n",
       "    }\n",
       "\n",
       "    .dataframe tbody tr th {\n",
       "        vertical-align: top;\n",
       "    }\n",
       "\n",
       "    .dataframe thead th {\n",
       "        text-align: right;\n",
       "    }\n",
       "</style>\n",
       "<table border=\"1\" class=\"dataframe\">\n",
       "  <thead>\n",
       "    <tr style=\"text-align: right;\">\n",
       "      <th></th>\n",
       "      <th>email</th>\n",
       "      <th>domain</th>\n",
       "    </tr>\n",
       "  </thead>\n",
       "  <tbody>\n",
       "    <tr>\n",
       "      <th>0</th>\n",
       "      <td>abel@gmail.com</td>\n",
       "      <td>gmail.com</td>\n",
       "    </tr>\n",
       "    <tr>\n",
       "      <th>1</th>\n",
       "      <td>bale@yahoo.com</td>\n",
       "      <td>yahoo.com</td>\n",
       "    </tr>\n",
       "    <tr>\n",
       "      <th>2</th>\n",
       "      <td>candy@gmail.com</td>\n",
       "      <td>gmail.com</td>\n",
       "    </tr>\n",
       "    <tr>\n",
       "      <th>3</th>\n",
       "      <td>drake@outlook.com</td>\n",
       "      <td>outlook.com</td>\n",
       "    </tr>\n",
       "    <tr>\n",
       "      <th>4</th>\n",
       "      <td>eva@yahoo.com</td>\n",
       "      <td>yahoo.com</td>\n",
       "    </tr>\n",
       "  </tbody>\n",
       "</table>\n",
       "</div>"
      ],
      "text/plain": [
       "               email       domain\n",
       "0     abel@gmail.com    gmail.com\n",
       "1     bale@yahoo.com    yahoo.com\n",
       "2    candy@gmail.com    gmail.com\n",
       "3  drake@outlook.com  outlook.com\n",
       "4      eva@yahoo.com    yahoo.com"
      ]
     },
     "execution_count": 55,
     "metadata": {},
     "output_type": "execute_result"
    }
   ],
   "source": [
    "dbase['domain'] = dbase['email'].apply(lambda x: x.split('@')[1])\n",
    "dbase[['email','domain']]"
   ]
  },
  {
   "cell_type": "markdown",
   "metadata": {},
   "source": [
    "<div style=\"background-color: black; padding: 5px\">\n",
    "    <p><b><font size=\"+2\" color=\"white\">2. String Joining</font></b></p>\n",
    "    </div>\n",
    "\n",
    "> #### **Create a full address by joining street address and city**"
   ]
  },
  {
   "cell_type": "code",
   "execution_count": 56,
   "metadata": {},
   "outputs": [
    {
     "data": {
      "text/html": [
       "<div>\n",
       "<style scoped>\n",
       "    .dataframe tbody tr th:only-of-type {\n",
       "        vertical-align: middle;\n",
       "    }\n",
       "\n",
       "    .dataframe tbody tr th {\n",
       "        vertical-align: top;\n",
       "    }\n",
       "\n",
       "    .dataframe thead th {\n",
       "        text-align: right;\n",
       "    }\n",
       "</style>\n",
       "<table border=\"1\" class=\"dataframe\">\n",
       "  <thead>\n",
       "    <tr style=\"text-align: right;\">\n",
       "      <th></th>\n",
       "      <th>address</th>\n",
       "      <th>full_address</th>\n",
       "    </tr>\n",
       "  </thead>\n",
       "  <tbody>\n",
       "    <tr>\n",
       "      <th>0</th>\n",
       "      <td>232 Main Street</td>\n",
       "      <td>232 Main Street,New Hampshire</td>\n",
       "    </tr>\n",
       "    <tr>\n",
       "      <th>1</th>\n",
       "      <td>444 Elm street</td>\n",
       "      <td>444 Elm street,New Hampshire</td>\n",
       "    </tr>\n",
       "    <tr>\n",
       "      <th>2</th>\n",
       "      <td>747 twelfth street</td>\n",
       "      <td>747 twelfth street,New Hampshire</td>\n",
       "    </tr>\n",
       "    <tr>\n",
       "      <th>3</th>\n",
       "      <td>887 Maple street</td>\n",
       "      <td>887 Maple street,New Hampshire</td>\n",
       "    </tr>\n",
       "    <tr>\n",
       "      <th>4</th>\n",
       "      <td>101 George street</td>\n",
       "      <td>101 George street,New Hampshire</td>\n",
       "    </tr>\n",
       "  </tbody>\n",
       "</table>\n",
       "</div>"
      ],
      "text/plain": [
       "              address                      full_address\n",
       "0     232 Main Street     232 Main Street,New Hampshire\n",
       "1      444 Elm street      444 Elm street,New Hampshire\n",
       "2  747 twelfth street  747 twelfth street,New Hampshire\n",
       "3    887 Maple street    887 Maple street,New Hampshire\n",
       "4   101 George street   101 George street,New Hampshire"
      ]
     },
     "execution_count": 56,
     "metadata": {},
     "output_type": "execute_result"
    }
   ],
   "source": [
    "city = 'New Hampshire'\n",
    "dbase['full_address'] = dbase['address'] + ',' + city\n",
    "dbase[['address','full_address']]"
   ]
  },
  {
   "cell_type": "markdown",
   "metadata": {},
   "source": [
    "<div style=\"background-color: black; padding: 5px\">\n",
    "    <p><b><font size=\"+2\" color=\"white\">3. String Replacement</font></b></p>\n",
    "    </div>\n",
    "\n",
    "> #### **Normalize Phone Numbers by removing special characters**"
   ]
  },
  {
   "cell_type": "code",
   "execution_count": 57,
   "metadata": {},
   "outputs": [
    {
     "data": {
      "text/html": [
       "<div>\n",
       "<style scoped>\n",
       "    .dataframe tbody tr th:only-of-type {\n",
       "        vertical-align: middle;\n",
       "    }\n",
       "\n",
       "    .dataframe tbody tr th {\n",
       "        vertical-align: top;\n",
       "    }\n",
       "\n",
       "    .dataframe thead th {\n",
       "        text-align: right;\n",
       "    }\n",
       "</style>\n",
       "<table border=\"1\" class=\"dataframe\">\n",
       "  <thead>\n",
       "    <tr style=\"text-align: right;\">\n",
       "      <th></th>\n",
       "      <th>phone</th>\n",
       "      <th>normalized_phone</th>\n",
       "    </tr>\n",
       "  </thead>\n",
       "  <tbody>\n",
       "    <tr>\n",
       "      <th>0</th>\n",
       "      <td>(0804)345-9636</td>\n",
       "      <td>08043459636</td>\n",
       "    </tr>\n",
       "    <tr>\n",
       "      <th>1</th>\n",
       "      <td>(0902)888-3412</td>\n",
       "      <td>09028883412</td>\n",
       "    </tr>\n",
       "    <tr>\n",
       "      <th>2</th>\n",
       "      <td>(0802)388-7818)</td>\n",
       "      <td>08023887818</td>\n",
       "    </tr>\n",
       "    <tr>\n",
       "      <th>3</th>\n",
       "      <td>(0701)252-5101</td>\n",
       "      <td>07012525101</td>\n",
       "    </tr>\n",
       "    <tr>\n",
       "      <th>4</th>\n",
       "      <td>(0818)766-1213</td>\n",
       "      <td>08187661213</td>\n",
       "    </tr>\n",
       "  </tbody>\n",
       "</table>\n",
       "</div>"
      ],
      "text/plain": [
       "             phone normalized_phone\n",
       "0   (0804)345-9636      08043459636\n",
       "1   (0902)888-3412      09028883412\n",
       "2  (0802)388-7818)      08023887818\n",
       "3   (0701)252-5101      07012525101\n",
       "4   (0818)766-1213      08187661213"
      ]
     },
     "execution_count": 57,
     "metadata": {},
     "output_type": "execute_result"
    }
   ],
   "source": [
    "dbase['normalized_phone'] = dbase['phone'].str.replace('[^0-9]','',regex=True)\n",
    "dbase[['phone','normalized_phone']]"
   ]
  },
  {
   "cell_type": "markdown",
   "metadata": {},
   "source": [
    "<div style=\"background-color: black; padding: 5px\">\n",
    "    <p><b><font size=\"+2\" color=\"white\">4. String Case Conversion</font></b></p>\n",
    "    </div>\n",
    "\n",
    "> #### **Standardize names to lower case**"
   ]
  },
  {
   "cell_type": "code",
   "execution_count": 58,
   "metadata": {},
   "outputs": [
    {
     "data": {
      "text/html": [
       "<div>\n",
       "<style scoped>\n",
       "    .dataframe tbody tr th:only-of-type {\n",
       "        vertical-align: middle;\n",
       "    }\n",
       "\n",
       "    .dataframe tbody tr th {\n",
       "        vertical-align: top;\n",
       "    }\n",
       "\n",
       "    .dataframe thead th {\n",
       "        text-align: right;\n",
       "    }\n",
       "</style>\n",
       "<table border=\"1\" class=\"dataframe\">\n",
       "  <thead>\n",
       "    <tr style=\"text-align: right;\">\n",
       "      <th></th>\n",
       "      <th>name</th>\n",
       "      <th>name_lower</th>\n",
       "    </tr>\n",
       "  </thead>\n",
       "  <tbody>\n",
       "    <tr>\n",
       "      <th>0</th>\n",
       "      <td>Abel</td>\n",
       "      <td>abel</td>\n",
       "    </tr>\n",
       "    <tr>\n",
       "      <th>1</th>\n",
       "      <td>Bale</td>\n",
       "      <td>bale</td>\n",
       "    </tr>\n",
       "    <tr>\n",
       "      <th>2</th>\n",
       "      <td>Candy</td>\n",
       "      <td>candy</td>\n",
       "    </tr>\n",
       "    <tr>\n",
       "      <th>3</th>\n",
       "      <td>Drake</td>\n",
       "      <td>drake</td>\n",
       "    </tr>\n",
       "    <tr>\n",
       "      <th>4</th>\n",
       "      <td>Eva</td>\n",
       "      <td>eva</td>\n",
       "    </tr>\n",
       "  </tbody>\n",
       "</table>\n",
       "</div>"
      ],
      "text/plain": [
       "    name name_lower\n",
       "0   Abel       abel\n",
       "1   Bale       bale\n",
       "2  Candy      candy\n",
       "3  Drake      drake\n",
       "4    Eva        eva"
      ]
     },
     "execution_count": 58,
     "metadata": {},
     "output_type": "execute_result"
    }
   ],
   "source": [
    "dbase['name_lower'] = dbase['name'].str.lower()\n",
    "dbase[['name', 'name_lower']]"
   ]
  },
  {
   "cell_type": "markdown",
   "metadata": {},
   "source": [
    "<div style=\"background-color: black; padding: 5px\">\n",
    "    <p><b><font size=\"+2\" color=\"white\">5. String Length</font></b></p>\n",
    "    </div>\n",
    "\n",
    "> #### **Calculate the length of each addresses**"
   ]
  },
  {
   "cell_type": "code",
   "execution_count": 59,
   "metadata": {},
   "outputs": [
    {
     "data": {
      "text/html": [
       "<div>\n",
       "<style scoped>\n",
       "    .dataframe tbody tr th:only-of-type {\n",
       "        vertical-align: middle;\n",
       "    }\n",
       "\n",
       "    .dataframe tbody tr th {\n",
       "        vertical-align: top;\n",
       "    }\n",
       "\n",
       "    .dataframe thead th {\n",
       "        text-align: right;\n",
       "    }\n",
       "</style>\n",
       "<table border=\"1\" class=\"dataframe\">\n",
       "  <thead>\n",
       "    <tr style=\"text-align: right;\">\n",
       "      <th></th>\n",
       "      <th>address</th>\n",
       "      <th>address_length</th>\n",
       "    </tr>\n",
       "  </thead>\n",
       "  <tbody>\n",
       "    <tr>\n",
       "      <th>0</th>\n",
       "      <td>232 Main Street</td>\n",
       "      <td>15</td>\n",
       "    </tr>\n",
       "    <tr>\n",
       "      <th>1</th>\n",
       "      <td>444 Elm street</td>\n",
       "      <td>14</td>\n",
       "    </tr>\n",
       "    <tr>\n",
       "      <th>2</th>\n",
       "      <td>747 twelfth street</td>\n",
       "      <td>18</td>\n",
       "    </tr>\n",
       "    <tr>\n",
       "      <th>3</th>\n",
       "      <td>887 Maple street</td>\n",
       "      <td>16</td>\n",
       "    </tr>\n",
       "    <tr>\n",
       "      <th>4</th>\n",
       "      <td>101 George street</td>\n",
       "      <td>17</td>\n",
       "    </tr>\n",
       "  </tbody>\n",
       "</table>\n",
       "</div>"
      ],
      "text/plain": [
       "              address  address_length\n",
       "0     232 Main Street              15\n",
       "1      444 Elm street              14\n",
       "2  747 twelfth street              18\n",
       "3    887 Maple street              16\n",
       "4   101 George street              17"
      ]
     },
     "execution_count": 59,
     "metadata": {},
     "output_type": "execute_result"
    }
   ],
   "source": [
    "dbase['address_length'] = dbase['address'].apply(len)\n",
    "dbase[['address','address_length']]"
   ]
  },
  {
   "cell_type": "markdown",
   "metadata": {},
   "source": [
    "<div style=\"background-color: black; padding: 5px\">\n",
    "    <p><b><font size=\"+2\" color=\"white\">6. Substring Extraction</font></b></p>\n",
    "    </div>\n",
    "\n",
    "> #### **Extract the first three characters of each name**"
   ]
  },
  {
   "cell_type": "code",
   "execution_count": 60,
   "metadata": {},
   "outputs": [
    {
     "data": {
      "text/html": [
       "<div>\n",
       "<style scoped>\n",
       "    .dataframe tbody tr th:only-of-type {\n",
       "        vertical-align: middle;\n",
       "    }\n",
       "\n",
       "    .dataframe tbody tr th {\n",
       "        vertical-align: top;\n",
       "    }\n",
       "\n",
       "    .dataframe thead th {\n",
       "        text-align: right;\n",
       "    }\n",
       "</style>\n",
       "<table border=\"1\" class=\"dataframe\">\n",
       "  <thead>\n",
       "    <tr style=\"text-align: right;\">\n",
       "      <th></th>\n",
       "      <th>name</th>\n",
       "      <th>name_initials</th>\n",
       "    </tr>\n",
       "  </thead>\n",
       "  <tbody>\n",
       "    <tr>\n",
       "      <th>0</th>\n",
       "      <td>Abel</td>\n",
       "      <td>A</td>\n",
       "    </tr>\n",
       "    <tr>\n",
       "      <th>1</th>\n",
       "      <td>Bale</td>\n",
       "      <td>B</td>\n",
       "    </tr>\n",
       "    <tr>\n",
       "      <th>2</th>\n",
       "      <td>Candy</td>\n",
       "      <td>C</td>\n",
       "    </tr>\n",
       "    <tr>\n",
       "      <th>3</th>\n",
       "      <td>Drake</td>\n",
       "      <td>D</td>\n",
       "    </tr>\n",
       "    <tr>\n",
       "      <th>4</th>\n",
       "      <td>Eva</td>\n",
       "      <td>E</td>\n",
       "    </tr>\n",
       "  </tbody>\n",
       "</table>\n",
       "</div>"
      ],
      "text/plain": [
       "    name name_initials\n",
       "0   Abel             A\n",
       "1   Bale             B\n",
       "2  Candy             C\n",
       "3  Drake             D\n",
       "4    Eva             E"
      ]
     },
     "execution_count": 60,
     "metadata": {},
     "output_type": "execute_result"
    }
   ],
   "source": [
    "dbase['name_initials'] = dbase['name'].str[:1]\n",
    "dbase[['name','name_initials']]"
   ]
  },
  {
   "cell_type": "markdown",
   "metadata": {},
   "source": [
    "<div style=\"background-color: black; padding: 5px\">\n",
    "    <p><b><font size=\"+2\" color=\"white\">7. String Contains</font></b></p>\n",
    "    </div>\n",
    "\n",
    "> #### **Check if email addresses belong to a specific domain**"
   ]
  },
  {
   "cell_type": "code",
   "execution_count": 61,
   "metadata": {},
   "outputs": [
    {
     "data": {
      "text/html": [
       "<div>\n",
       "<style scoped>\n",
       "    .dataframe tbody tr th:only-of-type {\n",
       "        vertical-align: middle;\n",
       "    }\n",
       "\n",
       "    .dataframe tbody tr th {\n",
       "        vertical-align: top;\n",
       "    }\n",
       "\n",
       "    .dataframe thead th {\n",
       "        text-align: right;\n",
       "    }\n",
       "</style>\n",
       "<table border=\"1\" class=\"dataframe\">\n",
       "  <thead>\n",
       "    <tr style=\"text-align: right;\">\n",
       "      <th></th>\n",
       "      <th>email</th>\n",
       "      <th>is_gmail_domain</th>\n",
       "    </tr>\n",
       "  </thead>\n",
       "  <tbody>\n",
       "    <tr>\n",
       "      <th>0</th>\n",
       "      <td>abel@gmail.com</td>\n",
       "      <td>True</td>\n",
       "    </tr>\n",
       "    <tr>\n",
       "      <th>1</th>\n",
       "      <td>bale@yahoo.com</td>\n",
       "      <td>False</td>\n",
       "    </tr>\n",
       "    <tr>\n",
       "      <th>2</th>\n",
       "      <td>candy@gmail.com</td>\n",
       "      <td>True</td>\n",
       "    </tr>\n",
       "    <tr>\n",
       "      <th>3</th>\n",
       "      <td>drake@outlook.com</td>\n",
       "      <td>False</td>\n",
       "    </tr>\n",
       "    <tr>\n",
       "      <th>4</th>\n",
       "      <td>eva@yahoo.com</td>\n",
       "      <td>False</td>\n",
       "    </tr>\n",
       "  </tbody>\n",
       "</table>\n",
       "</div>"
      ],
      "text/plain": [
       "               email  is_gmail_domain\n",
       "0     abel@gmail.com             True\n",
       "1     bale@yahoo.com            False\n",
       "2    candy@gmail.com             True\n",
       "3  drake@outlook.com            False\n",
       "4      eva@yahoo.com            False"
      ]
     },
     "execution_count": 61,
     "metadata": {},
     "output_type": "execute_result"
    }
   ],
   "source": [
    "dbase['is_gmail_domain'] = dbase['email'].str.contains('@gmail.com')\n",
    "dbase[['email','is_gmail_domain']]"
   ]
  },
  {
   "cell_type": "markdown",
   "metadata": {},
   "source": [
    "<div style=\"background-color: black; padding: 5px\">\n",
    "    <p><b><font size=\"+2\" color=\"white\">8. String Formatting</font></b></p>\n",
    "    </div>\n",
    "\n",
    "> #### **Format the phone numbers in a standard way**"
   ]
  },
  {
   "cell_type": "code",
   "execution_count": 62,
   "metadata": {},
   "outputs": [
    {
     "data": {
      "text/html": [
       "<div>\n",
       "<style scoped>\n",
       "    .dataframe tbody tr th:only-of-type {\n",
       "        vertical-align: middle;\n",
       "    }\n",
       "\n",
       "    .dataframe tbody tr th {\n",
       "        vertical-align: top;\n",
       "    }\n",
       "\n",
       "    .dataframe thead th {\n",
       "        text-align: right;\n",
       "    }\n",
       "</style>\n",
       "<table border=\"1\" class=\"dataframe\">\n",
       "  <thead>\n",
       "    <tr style=\"text-align: right;\">\n",
       "      <th></th>\n",
       "      <th>normalized_phone</th>\n",
       "      <th>formatted_phone</th>\n",
       "    </tr>\n",
       "  </thead>\n",
       "  <tbody>\n",
       "    <tr>\n",
       "      <th>0</th>\n",
       "      <td>08043459636</td>\n",
       "      <td>(080) 434-59636</td>\n",
       "    </tr>\n",
       "    <tr>\n",
       "      <th>1</th>\n",
       "      <td>09028883412</td>\n",
       "      <td>(090) 288-83412</td>\n",
       "    </tr>\n",
       "    <tr>\n",
       "      <th>2</th>\n",
       "      <td>08023887818</td>\n",
       "      <td>(080) 238-87818</td>\n",
       "    </tr>\n",
       "    <tr>\n",
       "      <th>3</th>\n",
       "      <td>07012525101</td>\n",
       "      <td>(070) 125-25101</td>\n",
       "    </tr>\n",
       "    <tr>\n",
       "      <th>4</th>\n",
       "      <td>08187661213</td>\n",
       "      <td>(081) 876-61213</td>\n",
       "    </tr>\n",
       "  </tbody>\n",
       "</table>\n",
       "</div>"
      ],
      "text/plain": [
       "  normalized_phone  formatted_phone\n",
       "0      08043459636  (080) 434-59636\n",
       "1      09028883412  (090) 288-83412\n",
       "2      08023887818  (080) 238-87818\n",
       "3      07012525101  (070) 125-25101\n",
       "4      08187661213  (081) 876-61213"
      ]
     },
     "execution_count": 62,
     "metadata": {},
     "output_type": "execute_result"
    }
   ],
   "source": [
    "dbase['formatted_phone'] = dbase['normalized_phone'].apply(lambda x: f'({x[:3]}) {x[3:6]}-{x[6:]}')\n",
    "dbase[['normalized_phone','formatted_phone']]"
   ]
  },
  {
   "cell_type": "markdown",
   "metadata": {},
   "source": [
    "<div style=\"background-color: black; padding: 5px\">\n",
    "    <p><b><font size=\"+2\" color=\"white\">9. Extract and Cleaning Data</font></b></p>\n",
    "    </div>\n",
    "\n",
    "> #### **Extract street number and name from the address**"
   ]
  },
  {
   "cell_type": "code",
   "execution_count": 63,
   "metadata": {},
   "outputs": [
    {
     "data": {
      "text/html": [
       "<div>\n",
       "<style scoped>\n",
       "    .dataframe tbody tr th:only-of-type {\n",
       "        vertical-align: middle;\n",
       "    }\n",
       "\n",
       "    .dataframe tbody tr th {\n",
       "        vertical-align: top;\n",
       "    }\n",
       "\n",
       "    .dataframe thead th {\n",
       "        text-align: right;\n",
       "    }\n",
       "</style>\n",
       "<table border=\"1\" class=\"dataframe\">\n",
       "  <thead>\n",
       "    <tr style=\"text-align: right;\">\n",
       "      <th></th>\n",
       "      <th>address</th>\n",
       "      <th>street_name</th>\n",
       "    </tr>\n",
       "  </thead>\n",
       "  <tbody>\n",
       "    <tr>\n",
       "      <th>0</th>\n",
       "      <td>232 Main Street</td>\n",
       "      <td>Main Street</td>\n",
       "    </tr>\n",
       "    <tr>\n",
       "      <th>1</th>\n",
       "      <td>444 Elm street</td>\n",
       "      <td>Elm street</td>\n",
       "    </tr>\n",
       "    <tr>\n",
       "      <th>2</th>\n",
       "      <td>747 twelfth street</td>\n",
       "      <td>twelfth street</td>\n",
       "    </tr>\n",
       "    <tr>\n",
       "      <th>3</th>\n",
       "      <td>887 Maple street</td>\n",
       "      <td>Maple street</td>\n",
       "    </tr>\n",
       "    <tr>\n",
       "      <th>4</th>\n",
       "      <td>101 George street</td>\n",
       "      <td>George street</td>\n",
       "    </tr>\n",
       "  </tbody>\n",
       "</table>\n",
       "</div>"
      ],
      "text/plain": [
       "              address     street_name\n",
       "0     232 Main Street     Main Street\n",
       "1      444 Elm street      Elm street\n",
       "2  747 twelfth street  twelfth street\n",
       "3    887 Maple street    Maple street\n",
       "4   101 George street   George street"
      ]
     },
     "execution_count": 63,
     "metadata": {},
     "output_type": "execute_result"
    }
   ],
   "source": [
    "dbase['street_number'] = dbase['address'].apply(lambda x:x.split(' ')[0])\n",
    "dbase['street_name'] = dbase['address'].apply(lambda x: ' '.join(x.split(' ')[1:]))\n",
    "dbase[['address','street_name']]"
   ]
  },
  {
   "cell_type": "markdown",
   "metadata": {},
   "source": [
    "<div class= \"alert alert-block\" style=\"background-color: orange; border-color: black\">\n",
    "    <p><b><font size=\"+2\" color=\"black\">Manipulating Categorical Data</font></b></p>\n",
    "    </div>\n",
    "\n",
    "---\n",
    "\n",
    "This allows for better performance and memory use in Pandas operations. \n",
    "\n",
    "> #### **Given a column in a table containing repeated instances of a smaller set of distinct values.**"
   ]
  },
  {
   "cell_type": "code",
   "execution_count": 64,
   "metadata": {},
   "outputs": [
    {
     "data": {
      "text/plain": [
       "0     apple\n",
       "1    orange\n",
       "2     apple\n",
       "3     apple\n",
       "4     apple\n",
       "5    orange\n",
       "6     apple\n",
       "7     apple\n",
       "dtype: object"
      ]
     },
     "execution_count": 64,
     "metadata": {},
     "output_type": "execute_result"
    }
   ],
   "source": [
    "values = pd.Series(['apple', 'orange', 'apple','apple'] * 2)\n",
    "values"
   ]
  },
  {
   "cell_type": "markdown",
   "metadata": {},
   "source": [
    "**Retrieve the unique values**"
   ]
  },
  {
   "cell_type": "code",
   "execution_count": 65,
   "metadata": {},
   "outputs": [
    {
     "data": {
      "text/plain": [
       "array(['apple', 'orange'], dtype=object)"
      ]
     },
     "execution_count": 65,
     "metadata": {},
     "output_type": "execute_result"
    }
   ],
   "source": [
    "pd.unique(values)"
   ]
  },
  {
   "cell_type": "code",
   "execution_count": 66,
   "metadata": {},
   "outputs": [
    {
     "data": {
      "text/plain": [
       "apple     6\n",
       "orange    2\n",
       "dtype: int64"
      ]
     },
     "execution_count": 66,
     "metadata": {},
     "output_type": "execute_result"
    }
   ],
   "source": [
    "pd.value_counts(values)"
   ]
  },
  {
   "cell_type": "markdown",
   "metadata": {},
   "source": [
    "> #### **In data warehousing, categorical data are encoded using a dictionary-encoded representation using a value and dimension table**"
   ]
  },
  {
   "cell_type": "code",
   "execution_count": 67,
   "metadata": {},
   "outputs": [
    {
     "data": {
      "text/plain": [
       "0    0\n",
       "1    1\n",
       "2    0\n",
       "3    0\n",
       "4    0\n",
       "5    1\n",
       "6    0\n",
       "7    0\n",
       "dtype: int64"
      ]
     },
     "execution_count": 67,
     "metadata": {},
     "output_type": "execute_result"
    }
   ],
   "source": [
    "values = pd.Series([0, 1, 0, 0] * 2)\n",
    "values"
   ]
  },
  {
   "cell_type": "code",
   "execution_count": 68,
   "metadata": {},
   "outputs": [
    {
     "data": {
      "text/plain": [
       "0     apple\n",
       "1    orange\n",
       "dtype: object"
      ]
     },
     "execution_count": 68,
     "metadata": {},
     "output_type": "execute_result"
    }
   ],
   "source": [
    "dims = pd.Series(['apple','orange'])\n",
    "dims"
   ]
  },
  {
   "cell_type": "markdown",
   "metadata": {},
   "source": [
    "**Using the take method restores the values and returns the values as the index**"
   ]
  },
  {
   "cell_type": "code",
   "execution_count": 69,
   "metadata": {},
   "outputs": [
    {
     "data": {
      "text/plain": [
       "0     apple\n",
       "1    orange\n",
       "0     apple\n",
       "0     apple\n",
       "0     apple\n",
       "1    orange\n",
       "0     apple\n",
       "0     apple\n",
       "dtype: object"
      ]
     },
     "execution_count": 69,
     "metadata": {},
     "output_type": "execute_result"
    }
   ],
   "source": [
    "dims.take(values)"
   ]
  },
  {
   "cell_type": "markdown",
   "metadata": {},
   "source": [
    "<div style=\"background-color: black; padding: 5px\">\n",
    "    <p><b><font size=\"+2\" color=\"white\">Categorical Extension Type in Pandas</font></b></p>\n",
    "    </div>\n",
    "\n",
    "Pandas has a special categorical extension type that is used for holding data that uses integer-based encoding. This is useful in data holding many occurences of similar values and can be used as a compression technique that can provide faster performance with lower memory consumption.\n",
    "\n",
    "> #### **Given a dataframe of string of values**"
   ]
  },
  {
   "cell_type": "code",
   "execution_count": 70,
   "metadata": {},
   "outputs": [
    {
     "data": {
      "text/html": [
       "<div>\n",
       "<style scoped>\n",
       "    .dataframe tbody tr th:only-of-type {\n",
       "        vertical-align: middle;\n",
       "    }\n",
       "\n",
       "    .dataframe tbody tr th {\n",
       "        vertical-align: top;\n",
       "    }\n",
       "\n",
       "    .dataframe thead th {\n",
       "        text-align: right;\n",
       "    }\n",
       "</style>\n",
       "<table border=\"1\" class=\"dataframe\">\n",
       "  <thead>\n",
       "    <tr style=\"text-align: right;\">\n",
       "      <th></th>\n",
       "      <th>basket_id</th>\n",
       "      <th>fruits</th>\n",
       "      <th>count</th>\n",
       "      <th>weight</th>\n",
       "    </tr>\n",
       "  </thead>\n",
       "  <tbody>\n",
       "    <tr>\n",
       "      <th>0</th>\n",
       "      <td>0</td>\n",
       "      <td>kiwi</td>\n",
       "      <td>11</td>\n",
       "      <td>1.331256</td>\n",
       "    </tr>\n",
       "    <tr>\n",
       "      <th>1</th>\n",
       "      <td>1</td>\n",
       "      <td>cherry</td>\n",
       "      <td>5</td>\n",
       "      <td>2.393235</td>\n",
       "    </tr>\n",
       "    <tr>\n",
       "      <th>2</th>\n",
       "      <td>2</td>\n",
       "      <td>kiwi</td>\n",
       "      <td>12</td>\n",
       "      <td>0.746937</td>\n",
       "    </tr>\n",
       "    <tr>\n",
       "      <th>3</th>\n",
       "      <td>3</td>\n",
       "      <td>kiwi</td>\n",
       "      <td>6</td>\n",
       "      <td>2.691024</td>\n",
       "    </tr>\n",
       "    <tr>\n",
       "      <th>4</th>\n",
       "      <td>4</td>\n",
       "      <td>cherry</td>\n",
       "      <td>5</td>\n",
       "      <td>3.767211</td>\n",
       "    </tr>\n",
       "    <tr>\n",
       "      <th>5</th>\n",
       "      <td>5</td>\n",
       "      <td>kiwi</td>\n",
       "      <td>12</td>\n",
       "      <td>0.992983</td>\n",
       "    </tr>\n",
       "    <tr>\n",
       "      <th>6</th>\n",
       "      <td>6</td>\n",
       "      <td>cherry</td>\n",
       "      <td>10</td>\n",
       "      <td>3.795525</td>\n",
       "    </tr>\n",
       "    <tr>\n",
       "      <th>7</th>\n",
       "      <td>7</td>\n",
       "      <td>kiwi</td>\n",
       "      <td>11</td>\n",
       "      <td>2.668950</td>\n",
       "    </tr>\n",
       "    <tr>\n",
       "      <th>8</th>\n",
       "      <td>8</td>\n",
       "      <td>kiwi</td>\n",
       "      <td>14</td>\n",
       "      <td>0.383592</td>\n",
       "    </tr>\n",
       "    <tr>\n",
       "      <th>9</th>\n",
       "      <td>9</td>\n",
       "      <td>cherry</td>\n",
       "      <td>7</td>\n",
       "      <td>1.767359</td>\n",
       "    </tr>\n",
       "  </tbody>\n",
       "</table>\n",
       "</div>"
      ],
      "text/plain": [
       "   basket_id  fruits  count    weight\n",
       "0          0    kiwi     11  1.331256\n",
       "1          1  cherry      5  2.393235\n",
       "2          2    kiwi     12  0.746937\n",
       "3          3    kiwi      6  2.691024\n",
       "4          4  cherry      5  3.767211\n",
       "5          5    kiwi     12  0.992983\n",
       "6          6  cherry     10  3.795525\n",
       "7          7    kiwi     11  2.668950\n",
       "8          8    kiwi     14  0.383592\n",
       "9          9  cherry      7  1.767359"
      ]
     },
     "execution_count": 70,
     "metadata": {},
     "output_type": "execute_result"
    }
   ],
   "source": [
    "fruits = ['kiwi', 'cherry','kiwi','kiwi','cherry'] * 2\n",
    "N = len(fruits)\n",
    "rng = np.random.default_rng(seed=12345)\n",
    "dframe = pd.DataFrame({'fruits':fruits,'basket_id':np.arange(N),\n",
    "                       'count':rng.integers(3,15,size= N),'weight':rng.uniform(0,4,size=N)},\n",
    "                       columns= ['basket_id','fruits','count','weight'])\n",
    "dframe"
   ]
  },
  {
   "cell_type": "markdown",
   "metadata": {},
   "source": [
    "> #### **Convert Fruits column to category type**"
   ]
  },
  {
   "cell_type": "code",
   "execution_count": 71,
   "metadata": {},
   "outputs": [
    {
     "data": {
      "text/plain": [
       "['kiwi', 'cherry', 'kiwi']\n",
       "Categories (2, object): ['cherry', 'kiwi']"
      ]
     },
     "execution_count": 71,
     "metadata": {},
     "output_type": "execute_result"
    }
   ],
   "source": [
    "fruits_cat = dframe['fruits'].astype('category')\n",
    "#The elements of the fruits category can now be accessed using the array method\n",
    "c = fruits_cat.array\n",
    "c[0:3]"
   ]
  },
  {
   "cell_type": "markdown",
   "metadata": {},
   "source": [
    "> #### **c is now a categorical object with attributes categories and codes**"
   ]
  },
  {
   "cell_type": "code",
   "execution_count": 72,
   "metadata": {},
   "outputs": [
    {
     "data": {
      "text/plain": [
       "(Index(['cherry', 'kiwi'], dtype='object'),\n",
       " array([1, 0, 1, 1, 0, 1, 0, 1, 1, 0], dtype=int8))"
      ]
     },
     "execution_count": 72,
     "metadata": {},
     "output_type": "execute_result"
    }
   ],
   "source": [
    "c.categories,c.codes"
   ]
  },
  {
   "cell_type": "code",
   "execution_count": 73,
   "metadata": {},
   "outputs": [
    {
     "data": {
      "text/plain": [
       "{0: 'cherry', 1: 'kiwi'}"
      ]
     },
     "execution_count": 73,
     "metadata": {},
     "output_type": "execute_result"
    }
   ],
   "source": [
    "dict(enumerate(c.categories))"
   ]
  },
  {
   "cell_type": "markdown",
   "metadata": {},
   "source": [
    "**If you have obtained categorical encoded data from another source, you can use the alternative `from_codes` constructor**"
   ]
  },
  {
   "cell_type": "code",
   "execution_count": 74,
   "metadata": {},
   "outputs": [
    {
     "data": {
      "text/plain": [
       "['cash', 'food', 'bash', 'cash', 'bash', 'food']\n",
       "Categories (4, object): ['cash', 'food', 'bash', 'base']"
      ]
     },
     "execution_count": 74,
     "metadata": {},
     "output_type": "execute_result"
    }
   ],
   "source": [
    "categories = ['cash','food', 'bash', 'base']\n",
    "codes = [0,1,2,0,2,1]\n",
    "#get out the categories from these 2: codes and categories\n",
    "my_category = pd.Categorical.from_codes(codes,categories)\n",
    "my_category"
   ]
  },
  {
   "cell_type": "markdown",
   "metadata": {},
   "source": [
    "**These categories are not automatically ordered unless explicitly specified.**"
   ]
  },
  {
   "cell_type": "code",
   "execution_count": 75,
   "metadata": {},
   "outputs": [
    {
     "data": {
      "text/plain": [
       "['cash', 'food', 'bash', 'cash', 'bash', 'food']\n",
       "Categories (4, object): ['cash' < 'food' < 'bash' < 'base']"
      ]
     },
     "execution_count": 75,
     "metadata": {},
     "output_type": "execute_result"
    }
   ],
   "source": [
    "ordered_my_category = pd.Categorical.from_codes(codes,categories,ordered=True)\n",
    "ordered_my_category"
   ]
  },
  {
   "cell_type": "markdown",
   "metadata": {},
   "source": [
    "**with no ordering, the option `as_ordered` can be used**"
   ]
  },
  {
   "cell_type": "code",
   "execution_count": 76,
   "metadata": {},
   "outputs": [
    {
     "data": {
      "text/plain": [
       "['cash', 'food', 'bash', 'cash', 'bash', 'food']\n",
       "Categories (4, object): ['cash' < 'food' < 'bash' < 'base']"
      ]
     },
     "execution_count": 76,
     "metadata": {},
     "output_type": "execute_result"
    }
   ],
   "source": [
    "my_category.as_ordered()"
   ]
  },
  {
   "cell_type": "code",
   "execution_count": null,
   "metadata": {},
   "outputs": [],
   "source": []
  }
 ],
 "metadata": {
  "kernelspec": {
   "display_name": "Python 3",
   "language": "python",
   "name": "python3"
  },
  "language_info": {
   "codemirror_mode": {
    "name": "ipython",
    "version": 3
   },
   "file_extension": ".py",
   "mimetype": "text/x-python",
   "name": "python",
   "nbconvert_exporter": "python",
   "pygments_lexer": "ipython3",
   "version": "3.7.4"
  }
 },
 "nbformat": 4,
 "nbformat_minor": 4
}
