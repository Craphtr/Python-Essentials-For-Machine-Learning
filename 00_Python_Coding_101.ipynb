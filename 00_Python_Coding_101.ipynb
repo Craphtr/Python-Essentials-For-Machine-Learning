{
 "cells": [
  {
   "cell_type": "code",
   "execution_count": null,
   "metadata": {},
   "outputs": [],
   "source": []
  },
  {
   "cell_type": "markdown",
   "metadata": {},
   "source": [
    "<div class=\"alert alert-block\" style = \"background-color: black\">\n",
    "    <p><b><font size=\"+4\" color=\"orange\">Array Coding 101</font></b></p>\n",
    "    <p><b><font size=\"+2\" color=\"white\">Working with Arrays</font></b></p>\n",
    "    </div>"
   ]
  },
  {
   "cell_type": "code",
   "execution_count": 68,
   "metadata": {},
   "outputs": [],
   "source": [
    "import warnings\n",
    "warnings.filterwarnings('ignore')\n",
    "\n",
    "#Import Data Manipulation Packages\n",
    "import numpy as np"
   ]
  },
  {
   "cell_type": "markdown",
   "metadata": {},
   "source": [
    "---\n",
    "<div class=\"alert alert-block\" style=\"background-color: black\">\n",
    "    <p><b><font size=\"+3\" color=\"white\">Introduction</font></b></p>\n",
    "        <p><b><font size=\"+2\" color=\"white\">Looping through an Entie List</font></b></p>\n",
    "    </div>\n",
    "    \n",
    "---"
   ]
  },
  {
   "cell_type": "markdown",
   "metadata": {},
   "source": [
    "The concept of looping is important because it's one of the most common ways a computer automates repetitive tasks.In a for loop, the set of steps is repeated once for each item in the list regardless of the number of items in the list. \n",
    "\n",
    "This is essential if you want to run through the entire entries in a list, pefroming each task every time.For example, you might want to perform the same statistical operation on every element in a list or array. In such instance, python's for loop comes to the rescue.\n",
    "\n",
    ">**Given a list of names, and tasked with printing each name in the list**"
   ]
  },
  {
   "cell_type": "code",
   "execution_count": 5,
   "metadata": {},
   "outputs": [
    {
     "name": "stdout",
     "output_type": "stream",
     "text": [
      "fola\n",
      "george\n",
      "keith\n",
      "sylvester\n",
      "sparrow\n",
      "calvin\n"
     ]
    }
   ],
   "source": [
    "students = ['fola','george','keith','sylvester','sparrow','calvin']\n",
    "for student in students:\n",
    "    print(student)"
   ]
  },
  {
   "cell_type": "markdown",
   "metadata": {},
   "source": [
    ">**Using an attribute of a List in a for loop**"
   ]
  },
  {
   "cell_type": "code",
   "execution_count": 6,
   "metadata": {},
   "outputs": [
    {
     "name": "stdout",
     "output_type": "stream",
     "text": [
      "Fola, that was an excellent performance\n",
      "George, that was an excellent performance\n",
      "Keith, that was an excellent performance\n",
      "Sylvester, that was an excellent performance\n",
      "Sparrow, that was an excellent performance\n",
      "Calvin, that was an excellent performance\n"
     ]
    }
   ],
   "source": [
    "for student in students:\n",
    "    print(student.title()+ \", that was an excellent performance\")"
   ]
  },
  {
   "cell_type": "markdown",
   "metadata": {},
   "source": [
    "<div style=\"background-color: black\">\n",
    "    <p><b><font size=\"+2\" color=\"white\">Working with Numerical Lists</font></b></p>\n",
    "    </div>\n",
    "    \n",
    "In data visualizations, you will almost work with sets of numbers such as pressures, prices, speed, population or dates among with other types of numerical sets.\n",
    "\n",
    ">### **Using the range() function**\n",
    "\n",
    "The range function in python makes it easy to generate series of numbers. For example:"
   ]
  },
  {
   "cell_type": "code",
   "execution_count": 8,
   "metadata": {},
   "outputs": [
    {
     "name": "stdout",
     "output_type": "stream",
     "text": [
      "1\n",
      "2\n",
      "3\n",
      "4\n",
      "5\n",
      "6\n"
     ]
    }
   ],
   "source": [
    "for value in range(1,7):\n",
    "    print(value)"
   ]
  },
  {
   "cell_type": "markdown",
   "metadata": {},
   "source": [
    "The value ends at 6 because the function starts at the first value entered and stops at the end value, in this case 7 and doesn't reach it. To reach 7, the rage function would have to read:"
   ]
  },
  {
   "cell_type": "code",
   "execution_count": 9,
   "metadata": {},
   "outputs": [
    {
     "name": "stdout",
     "output_type": "stream",
     "text": [
      "1\n",
      "2\n",
      "3\n",
      "4\n",
      "5\n",
      "6\n",
      "7\n"
     ]
    }
   ],
   "source": [
    "for value in range(1,8):\n",
    "    print(value)"
   ]
  },
  {
   "cell_type": "markdown",
   "metadata": {},
   "source": [
    ">**Using range() to make a list of numbers**\n",
    "\n",
    "This can be achieved by wrapping a list() function around the call to the range() function. This converts the set of numbers in the range to a list."
   ]
  },
  {
   "cell_type": "code",
   "execution_count": 10,
   "metadata": {},
   "outputs": [
    {
     "name": "stdout",
     "output_type": "stream",
     "text": [
      "[1, 2, 3, 4, 5, 6]\n"
     ]
    }
   ],
   "source": [
    "set_of_numbers = list(range(1,7))\n",
    "print(set_of_numbers)"
   ]
  },
  {
   "cell_type": "markdown",
   "metadata": {},
   "source": [
    ">**Using list to get numbers at defined intervals**"
   ]
  },
  {
   "cell_type": "code",
   "execution_count": 12,
   "metadata": {},
   "outputs": [
    {
     "name": "stdout",
     "output_type": "stream",
     "text": [
      "[1, 3, 5, 7, 9, 11]\n"
     ]
    }
   ],
   "source": [
    "odd_numbers = list(range(1,12,2))\n",
    "print(odd_numbers)\n"
   ]
  },
  {
   "cell_type": "markdown",
   "metadata": {},
   "source": [
    ">**Appending to a List**"
   ]
  },
  {
   "cell_type": "code",
   "execution_count": 15,
   "metadata": {},
   "outputs": [
    {
     "name": "stdout",
     "output_type": "stream",
     "text": [
      "[1, 8, 27, 64, 125, 216, 343, 512, 729, 1000]\n"
     ]
    }
   ],
   "source": [
    "cubes =[]\n",
    "for value in range(1,11):\n",
    "    cube = value**3\n",
    "    cubes.append(cube)\n",
    "print(cubes)\n",
    "    \n",
    "    "
   ]
  },
  {
   "cell_type": "markdown",
   "metadata": {},
   "source": [
    ">## **List Comprehension**\n",
    "\n",
    "A List comprehension allows you to generate the above lists using just one line of code. It combines a for loop and the onion of new elements into a single line"
   ]
  },
  {
   "cell_type": "code",
   "execution_count": 20,
   "metadata": {
    "scrolled": true
   },
   "outputs": [
    {
     "data": {
      "text/plain": [
       "[1, 4, 9, 16, 25, 36, 49, 64, 81, 100, 121]"
      ]
     },
     "execution_count": 20,
     "metadata": {},
     "output_type": "execute_result"
    }
   ],
   "source": [
    "squares = [value**2 for value in range(1,12)]\n",
    "squares\n"
   ]
  },
  {
   "cell_type": "markdown",
   "metadata": {},
   "source": [
    ">**Exercises**\n",
    "\n",
    "print numbers from 1 to 20"
   ]
  },
  {
   "cell_type": "code",
   "execution_count": 25,
   "metadata": {},
   "outputs": [
    {
     "data": {
      "text/plain": [
       "[1, 2, 3, 4, 5, 6, 7, 8, 9, 10, 11, 12, 13, 14, 15, 16, 17, 18, 19, 20]"
      ]
     },
     "execution_count": 25,
     "metadata": {},
     "output_type": "execute_result"
    }
   ],
   "source": [
    "num1_20=[]\n",
    "for i in range(1,21):\n",
    "    num1_20.append(i)\n",
    "num1_20"
   ]
  },
  {
   "cell_type": "markdown",
   "metadata": {},
   "source": [
    ">Sum numbers from 1 to 1 million"
   ]
  },
  {
   "cell_type": "code",
   "execution_count": 37,
   "metadata": {},
   "outputs": [
    {
     "name": "stdout",
     "output_type": "stream",
     "text": [
      "Time taken to sum 1 million numbers is  149.7049331665039ms\n",
      "The sum is 500000500000\n"
     ]
    }
   ],
   "source": [
    "import time\n",
    "start = time.time()\n",
    "a_milli = 0\n",
    "for i in range(1,1000001):\n",
    "    a_milli = a_milli + i\n",
    "end = time.time()\n",
    "total_time = (end - start)*1000\n",
    "print(\"Time taken to sum 1 million numbers is \", str(total_time) + \"ms\")\n",
    "print(\"The sum is\",a_milli)"
   ]
  },
  {
   "cell_type": "markdown",
   "metadata": {},
   "source": [
    "<div style=\"background-color: black\">\n",
    "    <p><b><font size=\"+2\" color=\"white\">Working with Parts of a Lists</font></b></p>\n",
    "    </div>\n",
    "    \n",
    "In data visualizations, you will almost work with subsets of numbers of numerical sets to perform a statistical or mathematical operation on them.\n",
    "\n",
    ">### **Looping through a slice of an array**\n",
    "\n",
    ">Given a list of food items"
   ]
  },
  {
   "cell_type": "code",
   "execution_count": 39,
   "metadata": {},
   "outputs": [
    {
     "name": "stdout",
     "output_type": "stream",
     "text": [
      "I ate rice\n",
      "I ate beans\n",
      "I ate apple\n"
     ]
    }
   ],
   "source": [
    "foods = ['bread', 'rice', 'beans', 'apple', 'mango', 'fish', 'kiwi']\n",
    "for food in foods[1:4]:\n",
    "    print(\"I ate \" + food)"
   ]
  },
  {
   "cell_type": "markdown",
   "metadata": {},
   "source": [
    ">### **Checking whether a value is in a list**"
   ]
  },
  {
   "cell_type": "code",
   "execution_count": 42,
   "metadata": {},
   "outputs": [
    {
     "data": {
      "text/plain": [
       "True"
      ]
     },
     "execution_count": 42,
     "metadata": {},
     "output_type": "execute_result"
    }
   ],
   "source": [
    "'rice' in foods"
   ]
  },
  {
   "cell_type": "markdown",
   "metadata": {},
   "source": [
    ">### **Checking whether a value is not in a list**"
   ]
  },
  {
   "cell_type": "code",
   "execution_count": 43,
   "metadata": {},
   "outputs": [
    {
     "data": {
      "text/plain": [
       "True"
      ]
     },
     "execution_count": 43,
     "metadata": {},
     "output_type": "execute_result"
    }
   ],
   "source": [
    "'orange' not in foods"
   ]
  },
  {
   "cell_type": "markdown",
   "metadata": {},
   "source": [
    ">### **Using If statements with list**"
   ]
  },
  {
   "cell_type": "code",
   "execution_count": 54,
   "metadata": {},
   "outputs": [
    {
     "name": "stdout",
     "output_type": "stream",
     "text": [
      "peach is a fruit in the list\n"
     ]
    },
    {
     "data": {
      "text/plain": [
       "['peach', 'lemon', 'cherry', 'apple', 'mango', 'breadfruit', 'kiwi']"
      ]
     },
     "execution_count": 54,
     "metadata": {},
     "output_type": "execute_result"
    }
   ],
   "source": [
    "fruits = ['peach', 'lemon', 'cherry', 'apple', 'mango', 'breadfruit', 'kiwi']\n",
    "for fruit in fruits:\n",
    "    if fruit == 'peach':\n",
    "        print('peach is a fruit in the list')"
   ]
  },
  {
   "cell_type": "markdown",
   "metadata": {},
   "source": [
    ">**Update a list based on user request**"
   ]
  },
  {
   "cell_type": "code",
   "execution_count": 65,
   "metadata": {},
   "outputs": [
    {
     "name": "stdin",
     "output_type": "stream",
     "text": [
      "What fruit do you want banana\n"
     ]
    },
    {
     "name": "stdout",
     "output_type": "stream",
     "text": [
      "Sorry we are out of  banana  we have now added it to your fruit collection\n",
      "['peach', 'lemon', 'cherry', 'apple', 'mango', 'breadfruit', 'kiwi', 'banana']\n"
     ]
    }
   ],
   "source": [
    "fruits = ['peach', 'lemon', 'cherry', 'apple', 'mango', 'breadfruit', 'kiwi']\n",
    "message =input('What fruit do you want')\n",
    "if fruit != message:\n",
    "    print('We do have', message, 'right now')\n",
    "else:\n",
    "    fruits.append(message)\n",
    "    print('Sorry we are out of ', message,' we have now added it to your fruit collection')\n",
    "print(fruits)"
   ]
  },
  {
   "cell_type": "markdown",
   "metadata": {},
   "source": [
    ">**Working with multiple Lists**\n",
    "\n",
    "It may be necessary to check the elements of alist against another list before performing any operation on it and this can be done with an If statement."
   ]
  },
  {
   "cell_type": "code",
   "execution_count": 73,
   "metadata": {},
   "outputs": [
    {
     "name": "stdout",
     "output_type": "stream",
     "text": [
      "sorry, we do not have your key,144\n",
      "Your requested key is 111\n",
      "sorry, we do not have your key,122\n",
      "Your requested key is 114\n",
      "Your requested key is 115\n"
     ]
    }
   ],
   "source": [
    "office_numbers = np.array([111,112,113,114,115,116,117,118])\n",
    "key_numbers = np.array([144,111,122,114,115,])\n",
    "\n",
    "for keynumber in key_numbers:\n",
    "    if keynumber in office_numbers:\n",
    "        print('Your requested key is ' + str(keynumber))\n",
    "    else:\n",
    "        print(\"sorry, we do not have your key,\" + str(keynumber))\n",
    "        "
   ]
  },
  {
   "cell_type": "code",
   "execution_count": null,
   "metadata": {},
   "outputs": [],
   "source": []
  }
 ],
 "metadata": {
  "kernelspec": {
   "display_name": "Python 3",
   "language": "python",
   "name": "python3"
  },
  "language_info": {
   "codemirror_mode": {
    "name": "ipython",
    "version": 3
   },
   "file_extension": ".py",
   "mimetype": "text/x-python",
   "name": "python",
   "nbconvert_exporter": "python",
   "pygments_lexer": "ipython3",
   "version": "3.7.4"
  }
 },
 "nbformat": 4,
 "nbformat_minor": 4
}
