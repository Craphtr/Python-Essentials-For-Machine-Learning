{
 "cells": [
  {
   "cell_type": "markdown",
   "metadata": {},
   "source": [
    "<div class=\"alert alert-block\" style = \"background-color: black\">\n",
    "    <p><b><font size=\"+4\" color=\"orange\">Array Creation using Numpy</font></b></p>\n",
    "    </div>"
   ]
  },
  {
   "cell_type": "code",
   "execution_count": null,
   "metadata": {},
   "outputs": [],
   "source": [
    "import warnings\n",
    "warnings.filterwarnings('ignore')\n",
    "\n",
    "#Import Data Manipulation Packages\n",
    "import numpy as np"
   ]
  },
  {
   "cell_type": "markdown",
   "metadata": {},
   "source": [
    "---\n",
    "<div class=\"alert alert-block\" style=\"background-color: black\">\n",
    "    <p><b><font size=\"+3\" color=\"white\">Introduction</font></b></p>\n",
    "        <p><b><font size=\"+2\" color=\"white\">Converting Python Sequences to Numpy Arrays</font></b></p>\n",
    "    </div>\n",
    "    \n",
    "---"
   ]
  },
  {
   "cell_type": "markdown",
   "metadata": {},
   "source": [
    "The key thing to note here is to specify the type of elements that will be in the array. This gives more control over the underlying data structures and how the elements are handled in C/C++ functions.\n",
    "\n",
    "Numpy arrays can be defined using python sequences such as lists and tuples\n",
    "\n",
    "* **A list of numbers will create a 1D array**"
   ]
  },
  {
   "cell_type": "code",
   "execution_count": 4,
   "metadata": {},
   "outputs": [
    {
     "data": {
      "text/plain": [
       "array([1, 2, 3, 4])"
      ]
     },
     "execution_count": 4,
     "metadata": {},
     "output_type": "execute_result"
    }
   ],
   "source": [
    "import numpy as np\n",
    "a1D = np.array([1,2,3,4])\n",
    "a1D"
   ]
  },
  {
   "cell_type": "markdown",
   "metadata": {},
   "source": [
    "* **A list of lists will create a 2D array**"
   ]
  },
  {
   "cell_type": "code",
   "execution_count": 5,
   "metadata": {},
   "outputs": [
    {
     "data": {
      "text/plain": [
       "array([[1, 2, 3, 4],\n",
       "       [5, 6, 7, 8]])"
      ]
     },
     "execution_count": 5,
     "metadata": {},
     "output_type": "execute_result"
    }
   ],
   "source": [
    "a2D = np.array([[1,2,3,4],[5,6,7,8]])\n",
    "a2D"
   ]
  },
  {
   "cell_type": "markdown",
   "metadata": {},
   "source": [
    "* **Nested lists will create higher dmensional arrays**"
   ]
  },
  {
   "cell_type": "code",
   "execution_count": 6,
   "metadata": {},
   "outputs": [
    {
     "data": {
      "text/plain": [
       "array([[[1, 2],\n",
       "        [3, 4]],\n",
       "\n",
       "       [[5, 6],\n",
       "        [7, 8]]])"
      ]
     },
     "execution_count": 6,
     "metadata": {},
     "output_type": "execute_result"
    }
   ],
   "source": [
    "a3D = np.array([[[1,2],[3,4]],[[5,6],[7,8]]])\n",
    "a3D"
   ]
  },
  {
   "cell_type": "markdown",
   "metadata": {},
   "source": [
    "<div class=\"alert alert-block\" style=\"background-color: orange; border-color: black\">\n",
    "    <p><b><font size=\"+2\" color=\"black\">Intrinsic Numpy Array Creation Functions</font></b></p>\n",
    "    </div>"
   ]
  },
  {
   "cell_type": "markdown",
   "metadata": {},
   "source": [
    "Numpy has 40 built-in functions for creating arrays. These are split into 3 based on dimension of the arrays:\n",
    "\n",
    "1. 1D arrays\n",
    "2. 2D arrays\n",
    "3. ndarrays"
   ]
  },
  {
   "cell_type": "markdown",
   "metadata": {},
   "source": [
    "<div style=\"background-color: black\">\n",
    "    <p><b><font size=\"+2\" color=\"white\">1. 1D Array creation functions - np.linspace and np.arange</font></b></p>\n",
    "    </div>"
   ]
  },
  {
   "cell_type": "markdown",
   "metadata": {},
   "source": [
    "### **1.1. Using np.arange - !!Note arange doesn't include the end value**"
   ]
  },
  {
   "cell_type": "code",
   "execution_count": 7,
   "metadata": {},
   "outputs": [
    {
     "data": {
      "text/plain": [
       "array([0, 1, 2, 3, 4, 5, 6, 7, 8, 9])"
      ]
     },
     "execution_count": 7,
     "metadata": {},
     "output_type": "execute_result"
    }
   ],
   "source": [
    "a = np.arange(10)\n",
    "a"
   ]
  },
  {
   "cell_type": "code",
   "execution_count": 8,
   "metadata": {},
   "outputs": [
    {
     "data": {
      "text/plain": [
       "array([2., 3., 4., 5., 6., 7., 8., 9.])"
      ]
     },
     "execution_count": 8,
     "metadata": {},
     "output_type": "execute_result"
    }
   ],
   "source": [
    "b = np.arange(2,10,dtype='float')\n",
    "b"
   ]
  },
  {
   "cell_type": "markdown",
   "metadata": {},
   "source": [
    "* **This is the best practice in using np.arange = start,end and step values**"
   ]
  },
  {
   "cell_type": "code",
   "execution_count": 9,
   "metadata": {},
   "outputs": [
    {
     "data": {
      "text/plain": [
       "array([2. , 2.2, 2.4, 2.6, 2.8, 3. , 3.2, 3.4, 3.6, 3.8, 4. , 4.2, 4.4,\n",
       "       4.6, 4.8, 5. , 5.2, 5.4, 5.6, 5.8])"
      ]
     },
     "execution_count": 9,
     "metadata": {},
     "output_type": "execute_result"
    }
   ],
   "source": [
    "c = np.arange(2,6,0.2)\n",
    "c"
   ]
  },
  {
   "cell_type": "markdown",
   "metadata": {},
   "source": [
    "### **1.2. Using np.linspace** \n",
    "\n",
    "This will create array with specified number of elements equally spaced in btw start and stop values\n",
    "Advantage of this is that start and end values are included as elements in the array"
   ]
  },
  {
   "cell_type": "code",
   "execution_count": 10,
   "metadata": {},
   "outputs": [
    {
     "data": {
      "text/plain": [
       "array([1.        , 1.66666667, 2.33333333, 3.        , 3.66666667,\n",
       "       4.33333333, 5.        , 5.66666667, 6.33333333, 7.        ])"
      ]
     },
     "execution_count": 10,
     "metadata": {},
     "output_type": "execute_result"
    }
   ],
   "source": [
    "d = np.linspace(1,7,10)\n",
    "d"
   ]
  },
  {
   "cell_type": "markdown",
   "metadata": {},
   "source": [
    "\n",
    "---\n",
    "<div style=\"background-color: black\">\n",
    "    <p><b><font size=\"+2\" color=\"white\">2. 2D Array Creation Functions - np.eye, np.diag, np.vander</font></b></p>\n",
    "    </div>"
   ]
  },
  {
   "cell_type": "markdown",
   "metadata": {},
   "source": [
    "### **2.1 Using np.eye to create identity matrix**"
   ]
  },
  {
   "cell_type": "code",
   "execution_count": 11,
   "metadata": {},
   "outputs": [
    {
     "name": "stdout",
     "output_type": "stream",
     "text": [
      "3 by 3 identity matrix =\n",
      " [[1. 0. 0.]\n",
      " [0. 1. 0.]\n",
      " [0. 0. 1.]]\n"
     ]
    }
   ],
   "source": [
    "i = np.eye(3) #3X3 identity matrix\n",
    "print(\"3 by 3 identity matrix =\\n\", i)"
   ]
  },
  {
   "cell_type": "code",
   "execution_count": 12,
   "metadata": {},
   "outputs": [
    {
     "name": "stdout",
     "output_type": "stream",
     "text": [
      "3 by 5 identity matrix =\n",
      " [[1. 0. 0. 0. 0.]\n",
      " [0. 1. 0. 0. 0.]\n",
      " [0. 0. 1. 0. 0.]]\n"
     ]
    }
   ],
   "source": [
    "ii = np.eye(3,5) #3X5 inhomogenous identity matrix\n",
    "print(\"3 by 5 identity matrix =\\n\", ii)"
   ]
  },
  {
   "cell_type": "markdown",
   "metadata": {},
   "source": [
    "## **2.2 Using np.diag to create a diagonal matrix**\n",
    "\n",
    "This can define a 2D array with given elements along the diagonal and can also return the diagonal elements if given a 2D array"
   ]
  },
  {
   "cell_type": "code",
   "execution_count": 13,
   "metadata": {},
   "outputs": [
    {
     "name": "stdout",
     "output_type": "stream",
     "text": [
      "Given diagonal elements, diagonal Matrix =\n",
      " [[1 0 0]\n",
      " [0 2 0]\n",
      " [0 0 3]]\n"
     ]
    }
   ],
   "source": [
    "di = np.diag([1,2,3])\n",
    "print(\"Given diagonal elements, diagonal Matrix =\\n\", di)"
   ]
  },
  {
   "cell_type": "markdown",
   "metadata": {},
   "source": [
    "* **Get the diagonal matrix of the following array**"
   ]
  },
  {
   "cell_type": "code",
   "execution_count": 14,
   "metadata": {},
   "outputs": [
    {
     "name": "stdout",
     "output_type": "stream",
     "text": [
      "Diagonal matrix of Array =\n",
      " [1 5]\n"
     ]
    }
   ],
   "source": [
    "do = np.array([[1,2], [4,5]])\n",
    "do = np.diag(do)\n",
    "print(\"Diagonal matrix of Array =\\n\", do)"
   ]
  },
  {
   "cell_type": "markdown",
   "metadata": {},
   "source": [
    "## **2.3 Vandermonde Matrix**\n",
    "\n",
    "Vander(x,n) defines a vadermonde matrix as a 2D numpy array. Each column of the matrix is a decreasing power of the input 1D array or list or tuple. This vandermonde matrix is useful in generating linear least squares models"
   ]
  },
  {
   "cell_type": "markdown",
   "metadata": {},
   "source": [
    "* **Examples on vandermonde matrix**"
   ]
  },
  {
   "cell_type": "code",
   "execution_count": 15,
   "metadata": {},
   "outputs": [
    {
     "name": "stdout",
     "output_type": "stream",
     "text": [
      "Vandermonde matrix of 4 columns = \n",
      " [[ 1  1  1  1]\n",
      " [ 8  4  2  1]\n",
      " [27  9  3  1]\n",
      " [64 16  4  1]]\n"
     ]
    }
   ],
   "source": [
    "van1 = np.vander([1,2,3,4],4) #create vander matrix of 4 columns\n",
    "print(\"Vandermonde matrix of 4 columns = \\n\", van1)"
   ]
  },
  {
   "cell_type": "code",
   "execution_count": 16,
   "metadata": {},
   "outputs": [
    {
     "name": "stdout",
     "output_type": "stream",
     "text": [
      "Vandermonde matrix of 3 columns = \n",
      " [[0.   0.   1.  ]\n",
      " [0.25 0.5  1.  ]\n",
      " [1.   1.   1.  ]\n",
      " [2.25 1.5  1.  ]\n",
      " [4.   2.   1.  ]]\n"
     ]
    }
   ],
   "source": [
    "van2 = np.vander(np.linspace(0,2,5),3) #Create a vander matrix of 3 columns\n",
    "print(\"Vandermonde matrix of 3 columns = \\n\", van2)"
   ]
  },
  {
   "cell_type": "markdown",
   "metadata": {},
   "source": [
    "\n",
    "---\n",
    "<div style=\"background-color: black\">\n",
    "    <p><b><font size=\"+2\" color=\"white\">3. 3D General Array Creation Functions - np.ones, np.zeros, np.random</font></b></p>\n",
    "    </div>\n",
    "\n",
    "These define arrays based on the desired shape. Any dimension can be specified during creation by specifying the dimension and the length along that dimension in a tuple list. All produce data of the float type"
   ]
  },
  {
   "cell_type": "markdown",
   "metadata": {},
   "source": [
    "* **Create a n by m zero matrix**"
   ]
  },
  {
   "cell_type": "code",
   "execution_count": 6,
   "metadata": {},
   "outputs": [],
   "source": [
    "z = np.zeros((2,3)) #creates a 2by 3 zero matrix\n",
    "print(\"2 by 3 Zero matrix = \\n\", z)"
   ]
  },
  {
   "cell_type": "markdown",
   "metadata": {},
   "source": [
    "* **creates a 3d block matrix of 2by3 matrix with 2 slices**"
   ]
  },
  {
   "cell_type": "code",
   "execution_count": 17,
   "metadata": {},
   "outputs": [
    {
     "name": "stdout",
     "output_type": "stream",
     "text": [
      "Zero matrix of 2 slices =\n",
      " [[[0. 0.]\n",
      "  [0. 0.]\n",
      "  [0. 0.]]\n",
      "\n",
      " [[0. 0.]\n",
      "  [0. 0.]\n",
      "  [0. 0.]]]\n"
     ]
    }
   ],
   "source": [
    "zee = np.zeros((2,3,2)) #\n",
    "print(\"Zero matrix of 2 slices =\\n\", zee)"
   ]
  },
  {
   "cell_type": "markdown",
   "metadata": {},
   "source": [
    "* **Create a n by m matrix of ones matrix**"
   ]
  },
  {
   "cell_type": "code",
   "execution_count": 18,
   "metadata": {},
   "outputs": [
    {
     "name": "stdout",
     "output_type": "stream",
     "text": [
      "Ones matrix =\n",
      " [[1. 1. 1. 1. 1.]\n",
      " [1. 1. 1. 1. 1.]\n",
      " [1. 1. 1. 1. 1.]]\n"
     ]
    }
   ],
   "source": [
    "o = np.ones((3,5)) # creates a 3by5 one matrix\n",
    "print(\"Ones matrix =\\n\", o)"
   ]
  },
  {
   "cell_type": "markdown",
   "metadata": {},
   "source": [
    "* **Create an array of random numbers of any dimension**"
   ]
  },
  {
   "cell_type": "code",
   "execution_count": 19,
   "metadata": {},
   "outputs": [
    {
     "name": "stdout",
     "output_type": "stream",
     "text": [
      "Random 2 by 3 matrix of nos. btw 0 & 1 =\n",
      " [[0.77395605 0.43887844 0.85859792]\n",
      " [0.69736803 0.09417735 0.97562235]]\n"
     ]
    }
   ],
   "source": [
    "from numpy.random import default_rng\n",
    "r = default_rng(42).random((2,3))\n",
    "print(\"Random 2 by 3 matrix of nos. btw 0 & 1 =\\n\", r)"
   ]
  },
  {
   "cell_type": "markdown",
   "metadata": {},
   "source": [
    "<div class=\"alert alert-block\" style=\"background-color: orange; border-color: black\">\n",
    "    <p><b><font size=\"+2\" color=\"black\">Replicating, Joining and Mutating existing Arrays</font></b></p>\n",
    "    </div>"
   ]
  },
  {
   "cell_type": "markdown",
   "metadata": {},
   "source": [
    "* **Examples** - a.copy - doing this preserves the elements of a when operation is performed on b"
   ]
  },
  {
   "cell_type": "code",
   "execution_count": 20,
   "metadata": {},
   "outputs": [
    {
     "name": "stdout",
     "output_type": "stream",
     "text": [
      "b = \n",
      " [ 3  4  5  8 11] \n",
      "a = \n",
      " [1 2 3 6 9]\n"
     ]
    }
   ],
   "source": [
    "a = np.array([1,2,3,6,9])\n",
    "b = a.copy() #\n",
    "\n",
    "b += 2 \n",
    "print('b = \\n',b,'\\na = \\n', a)"
   ]
  },
  {
   "cell_type": "markdown",
   "metadata": {},
   "source": [
    "* **Assigning elements of a to b**"
   ]
  },
  {
   "cell_type": "code",
   "execution_count": 21,
   "metadata": {},
   "outputs": [
    {
     "name": "stdout",
     "output_type": "stream",
     "text": [
      "b = \n",
      " [ 3  4  5  8 11] \n",
      "a = \n",
      " [ 3  4  5  8 11]\n"
     ]
    }
   ],
   "source": [
    "b = a #doing this changes the elements of a when an operation is performed on b\n",
    "b += 2 #This assigns elements of a to b and so changes elements of a when operation is performed on b\n",
    "print('b = \\n',b,'\\na = \\n', a)"
   ]
  },
  {
   "cell_type": "markdown",
   "metadata": {},
   "source": [
    "\n",
    "---\n",
    "<div style=\"background-color: black\">\n",
    "    <p><b><font size=\"+2\" color=\"white\">Copies and Views - No Copy, Shallow Copy and Deep Copy</font></b></p>\n",
    "    </div>\n"
   ]
  },
  {
   "cell_type": "markdown",
   "metadata": {},
   "source": [
    "### **1. NO COPY**"
   ]
  },
  {
   "cell_type": "code",
   "execution_count": 22,
   "metadata": {},
   "outputs": [
    {
     "name": "stdout",
     "output_type": "stream",
     "text": [
      "b is a view of the data in a - False\n",
      "b is a -  True\n"
     ]
    }
   ],
   "source": [
    "a = np.array([[0,1,2,3],\n",
    "            [4,5,6,7],\n",
    "            [8,9,10,11]])\n",
    "b = a # No new object copy is created; b is literally a\n",
    "x = b.base is a \n",
    "print(\"b is a view of the data in a -\",x)\n",
    "y = b is a\n",
    "print(\"b is a - \", y)"
   ]
  },
  {
   "cell_type": "markdown",
   "metadata": {},
   "source": [
    "### **2. VIEW OR SHALLOW COPY**"
   ]
  },
  {
   "cell_type": "code",
   "execution_count": 23,
   "metadata": {},
   "outputs": [
    {
     "name": "stdout",
     "output_type": "stream",
     "text": [
      "c is a -  False\n",
      "c is a view of the data in a - True\n"
     ]
    }
   ],
   "source": [
    "c = a.view() #\n",
    "m = c is a\n",
    "print(\"c is a - \", m)\n",
    "n = c.base is a\n",
    "print(\"c is a view of the data in a -\", n)"
   ]
  },
  {
   "cell_type": "markdown",
   "metadata": {},
   "source": [
    "* **CHANGING THE SHAPE OF C DOESN\"T CHANGE THE SHAPE OF A**"
   ]
  },
  {
   "cell_type": "code",
   "execution_count": 24,
   "metadata": {},
   "outputs": [
    {
     "name": "stdout",
     "output_type": "stream",
     "text": [
      "c shape is  (2, 6)\n",
      "a shape is  (3, 4)\n"
     ]
    }
   ],
   "source": [
    "c = c.reshape((2,6))\n",
    "print(\"c shape is \", c.shape)\n",
    "print(\"a shape is \", a.shape)"
   ]
  },
  {
   "cell_type": "markdown",
   "metadata": {},
   "source": [
    "* **CHANGING ELEMENT OF C CHANGES ELEMENTS OF A**"
   ]
  },
  {
   "cell_type": "code",
   "execution_count": 25,
   "metadata": {},
   "outputs": [
    {
     "name": "stdout",
     "output_type": "stream",
     "text": [
      "c = \n",
      " [[   0    1    2    3 1212    5]\n",
      " [   6    7    8    9   10   11]]\n",
      "a = \n",
      " [[   0    1    2    3]\n",
      " [1212    5    6    7]\n",
      " [   8    9   10   11]]\n"
     ]
    }
   ],
   "source": [
    "c[0,4] = 1212\n",
    "print(\"c = \\n\", c)\n",
    "print(\"a = \\n\", a)"
   ]
  },
  {
   "cell_type": "markdown",
   "metadata": {},
   "source": [
    "* **SLICING AN ARRAY RETURNS A VIEW OF IT**"
   ]
  },
  {
   "cell_type": "code",
   "execution_count": 26,
   "metadata": {},
   "outputs": [
    {
     "name": "stdout",
     "output_type": "stream",
     "text": [
      "[[10 10]\n",
      " [10 10]\n",
      " [10 10]]\n",
      "[[   0   10   10    3]\n",
      " [1212   10   10    7]\n",
      " [   8   10   10   11]]\n"
     ]
    }
   ],
   "source": [
    "s = a[:,1:3] #slice the 2nd & 3rd columns of a\n",
    "s[:] = 10 #make all the elements in that slice 10\n",
    "print(s)\n",
    "print(a)"
   ]
  },
  {
   "cell_type": "markdown",
   "metadata": {},
   "source": [
    "**a has changed as a result of the slice so deepcopy s before making the slice if u still need a**"
   ]
  },
  {
   "cell_type": "markdown",
   "metadata": {},
   "source": [
    "### **3. DEEP COPY - This makes a copy of the array and its data**"
   ]
  },
  {
   "cell_type": "code",
   "execution_count": 27,
   "metadata": {},
   "outputs": [
    {
     "name": "stdout",
     "output_type": "stream",
     "text": [
      "b is \n",
      " [ 0  1  2  3  4  5  6  7  8  9 10 11 12 13 14 15 16 17 18 19 20 21 22 23\n",
      " 24 25 26 27 28 29 30 31 32 33 34 35 36 37 38 39 40 41 42 43 44 45 46 47\n",
      " 48 49]\n"
     ]
    }
   ],
   "source": [
    "a1 = np.arange(int(1e8))\n",
    "a1.shape\n",
    "b1 = a1[:50].copy()\n",
    "print(\"b is \\n\", b1)\n",
    "del a #this removes a from memory - its a large chunk of data"
   ]
  },
  {
   "cell_type": "code",
   "execution_count": null,
   "metadata": {},
   "outputs": [],
   "source": []
  }
 ],
 "metadata": {
  "kernelspec": {
   "display_name": "Python 3",
   "language": "python",
   "name": "python3"
  },
  "language_info": {
   "codemirror_mode": {
    "name": "ipython",
    "version": 3
   },
   "file_extension": ".py",
   "mimetype": "text/x-python",
   "name": "python",
   "nbconvert_exporter": "python",
   "pygments_lexer": "ipython3",
   "version": "3.7.4"
  }
 },
 "nbformat": 4,
 "nbformat_minor": 5
}
