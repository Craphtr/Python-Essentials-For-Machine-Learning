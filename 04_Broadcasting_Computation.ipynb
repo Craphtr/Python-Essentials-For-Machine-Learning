{
 "cells": [
  {
   "cell_type": "markdown",
   "metadata": {},
   "source": [
    "<div class=\"alert alert-block\" style = \"background-color: black\">\n",
    "    <p><b><font size=\"+4\" color=\"orange\">Broadcasting Computation on Numpy Arrays</font></b></p>\n",
    "    </div>"
   ]
  },
  {
   "cell_type": "code",
   "execution_count": 5,
   "metadata": {},
   "outputs": [],
   "source": [
    "import warnings\n",
    "warnings.filterwarnings('ignore')"
   ]
  },
  {
   "cell_type": "markdown",
   "metadata": {},
   "source": [
    "* **Import Data Manipulation Packages**"
   ]
  },
  {
   "cell_type": "code",
   "execution_count": 4,
   "metadata": {},
   "outputs": [],
   "source": [
    "import numpy as np"
   ]
  },
  {
   "cell_type": "markdown",
   "metadata": {},
   "source": [
    "---\n",
    "<div class=\"alert alert-block\" style=\"background-color: black\">\n",
    "    <p><b><font size=\"+3\" color=\"white\">Introduction</font></b></p>\n",
    "        <p><b><font size=\"+2\" color=\"white\">Broadcasting</font></b></p>\n",
    "    </div>\n",
    "    \n",
    "---"
   ]
  },
  {
   "cell_type": "markdown",
   "metadata": {},
   "source": [
    "Broadcasting is a set of rules for applying binary universal functions on arrays of different sizes"
   ]
  },
  {
   "cell_type": "markdown",
   "metadata": {},
   "source": [
    "### **For arrays of the same size, operations are performed on an element by element basis**"
   ]
  },
  {
   "cell_type": "markdown",
   "metadata": {},
   "source": [
    "> **Example - Adding a scalar to a 1D-array**"
   ]
  },
  {
   "cell_type": "code",
   "execution_count": 10,
   "metadata": {},
   "outputs": [
    {
     "data": {
      "text/plain": [
       "array([3, 4, 5])"
      ]
     },
     "execution_count": 10,
     "metadata": {},
     "output_type": "execute_result"
    }
   ],
   "source": [
    "q = np.array([1, 2, 3])\n",
    "s = 2\n",
    "bcast = q + s\n",
    "bcast"
   ]
  },
  {
   "cell_type": "markdown",
   "metadata": {},
   "source": [
    "> **Example - For a scalar and a 2D-array**"
   ]
  },
  {
   "cell_type": "code",
   "execution_count": 9,
   "metadata": {},
   "outputs": [
    {
     "data": {
      "text/plain": [
       "array([[4, 5, 6],\n",
       "       [4, 5, 6]])"
      ]
     },
     "execution_count": 9,
     "metadata": {},
     "output_type": "execute_result"
    }
   ],
   "source": [
    "A2D = np.array([[1,2,3],[1,2,3]])\n",
    "s = 3\n",
    "bcast1 = A2D + s\n",
    "bcast1"
   ]
  },
  {
   "cell_type": "markdown",
   "metadata": {},
   "source": [
    ">**Example - For two 1D arrays**"
   ]
  },
  {
   "cell_type": "code",
   "execution_count": 12,
   "metadata": {},
   "outputs": [],
   "source": [
    "a = np.array([0,1,2]) #1D-array\n",
    "b = np.array([5,5,5]) #1D-array"
   ]
  },
  {
   "cell_type": "markdown",
   "metadata": {},
   "source": [
    ">a + b"
   ]
  },
  {
   "cell_type": "code",
   "execution_count": 13,
   "metadata": {},
   "outputs": [
    {
     "data": {
      "text/plain": [
       "array([5, 6, 7])"
      ]
     },
     "execution_count": 13,
     "metadata": {},
     "output_type": "execute_result"
    }
   ],
   "source": [
    " a+b"
   ]
  },
  {
   "cell_type": "code",
   "execution_count": 4,
   "metadata": {},
   "outputs": [
    {
     "name": "stdout",
     "output_type": "stream",
     "text": [
      "\n",
      "broadcast = \n",
      " [[ 6  8 10]\n",
      " [ 6  8 10]]\n",
      "\n",
      "What this does is to add the corresponding elements with the corresponding indices\n"
     ]
    }
   ],
   "source": [
    "#Example - For a higher dimension array\n",
    "#Adding 1D-array to 2D-array\n",
    "M = np.array([[1,2,3],[1,2,3]]) #2d array\n",
    "p = np.array([5,6,7]) #1D array\n",
    "print(\"\\nbroadcast = \\n\", M+p)\n",
    "print(\"\\nWhat this does is to add the corresponding elements with the corresponding indices\")"
   ]
  },
  {
   "cell_type": "markdown",
   "metadata": {},
   "source": [
    "## Limitations on broadcasting"
   ]
  },
  {
   "cell_type": "markdown",
   "metadata": {},
   "source": [
    "### Arithmetic or Broadcasting can only be performed when the shape of each dimension in the arrays are equal or one has the dimension size of 1"
   ]
  },
  {
   "cell_type": "code",
   "execution_count": 5,
   "metadata": {},
   "outputs": [
    {
     "name": "stdout",
     "output_type": "stream",
     "text": [
      "(2, 3)\n",
      "(3,)\n",
      "Numpy attempts to compare the two by comparing the column dimensions if they are equal, the broadcastwill be successful\n",
      "(2, 3)\n",
      "(1, 2)\n"
     ]
    }
   ],
   "source": [
    "# Example compare the shapes of the arrays before attempting broadcasting\n",
    "print(M.shape)\n",
    "print(p.shape)\n",
    "print(\"Numpy attempts to compare the two by comparing the column dimensions \\\n",
    "if they are equal, the broadcastwill be successful\")\n",
    "\n",
    "#Example where broadcasting will not be successful\n",
    "A = np.array([[1,2,3],[1,2,3]])\n",
    "print(A.shape)\n",
    "#define a 1D array\n",
    "b = np.array([[1,2]])\n",
    "print(b.shape)\n",
    "\n",
    "#attempt broadcast\n",
    "## C = A + b\n",
    "#print(C)"
   ]
  },
  {
   "cell_type": "markdown",
   "metadata": {},
   "source": [
    "## Practice"
   ]
  },
  {
   "cell_type": "code",
   "execution_count": 6,
   "metadata": {},
   "outputs": [
    {
     "name": "stdout",
     "output_type": "stream",
     "text": [
      "(2, 2, 3)\n",
      "[[[ 2  4  6]\n",
      "  [ 8 10 12]]\n",
      "\n",
      " [[14 16 18]\n",
      "  [20 22 24]]]\n",
      "\n",
      " 1D array times nd array \n",
      " [[[ 2  4  6]\n",
      "  [ 8 10 12]]\n",
      "\n",
      " [[14 16 18]\n",
      "  [20 22 24]]]\n",
      "You will see that the result of the scalar and the vector in this case are same.This is because numpy compares the dimension of the two columns in both arrays and finds them to be the same\n"
     ]
    },
    {
     "data": {
      "text/plain": [
       "array([[[ 2,  4,  6],\n",
       "        [ 9, 11, 13]],\n",
       "\n",
       "       [[ 8, 10, 12],\n",
       "        [15, 17, 19]]])"
      ]
     },
     "execution_count": 6,
     "metadata": {},
     "output_type": "execute_result"
    }
   ],
   "source": [
    "# Create three new and different examples of broadcasting with Numpy Arrays\n",
    "# Scalar and nd-array\n",
    "nd = np.array([[[1,2,3],[4,5,6]],[[7,8,9],[10,11,12]]])\n",
    "print(nd.shape)\n",
    "scalar = 2 #the dimension of this scalar will be converted to a \n",
    "print(nd*scalar)\n",
    "\n",
    "# 1D array and nd-array\n",
    "vec = np.array([2,2,2])\n",
    "print(\"\\n 1D array times nd array \\n\", vec * nd)\n",
    "print(\"You will see that the result of the scalar and the vector in this case are same.\\\n",
    "This is because numpy compares the dimension of the two columns in both arrays and finds\\\n",
    " them to be the same\")\n",
    "\n",
    "#Two nd-arrays\n",
    "nd1 = np.array([[1,2,3],[5,6,7]]) #2X3 array\n",
    "nd2 = np.array([[[1,2,3],[4,5,6]],[[7,8,9],[10,11,12]]]) #2X2X3 array\n",
    "nd1 + nd2\n"
   ]
  },
  {
   "cell_type": "markdown",
   "metadata": {},
   "source": [
    "## Broadcasting Rules"
   ]
  },
  {
   "cell_type": "markdown",
   "metadata": {},
   "source": [
    "### Rule 1: If the two arrays differ in their number of dimensions, the shape of the one with fewer dimensions is padded with ones on its leading (left) side.\n",
    "\n",
    "### Rule 2: If the shape of the two arrays does not match in any dimension, the array with shape equal to 1 in that dimension is stretched to match the other shape.\n",
    "\n",
    "### Rule 3: If in any dimension the sizes disagree and neither is equal to 1, an error is raised."
   ]
  },
  {
   "cell_type": "code",
   "execution_count": 7,
   "metadata": {},
   "outputs": [
    {
     "name": "stdout",
     "output_type": "stream",
     "text": [
      "\n",
      "M.shape =  (2, 3)\n",
      "\n",
      "x.shape =  (3,)\n"
     ]
    }
   ],
   "source": [
    "# Example 1\n",
    "M = np.ones((2,3))\n",
    "x = np.arange(3)\n",
    "print(\"\\nM.shape = \",M.shape)\n",
    "print(\"\\nx.shape = \",x.shape)"
   ]
  },
  {
   "cell_type": "markdown",
   "metadata": {},
   "source": [
    "#### Rule 1 demands that we pad the dimension of array x with ones on the left since it has fewer dimensions than array M \n",
    "M.shape -> (2,3)\n",
    "x.shape -> (1,3)\n",
    "\n",
    "By rule 2, we see that the first dimension of x disagrees, so we stretch this dimension to match that of M\n",
    "M.shape -> (2,3)\n",
    "x.shape -> (2,3)\n",
    "\n",
    "The shapes match and we see that the final shape will be (2,3)\n"
   ]
  },
  {
   "cell_type": "code",
   "execution_count": 8,
   "metadata": {},
   "outputs": [
    {
     "name": "stdout",
     "output_type": "stream",
     "text": [
      "[[1. 2. 3.]\n",
      " [1. 2. 3.]]\n"
     ]
    }
   ],
   "source": [
    "print(M + x)"
   ]
  },
  {
   "cell_type": "code",
   "execution_count": 9,
   "metadata": {},
   "outputs": [
    {
     "name": "stdout",
     "output_type": "stream",
     "text": [
      "(3, 1)\n",
      "(3,)\n"
     ]
    }
   ],
   "source": [
    "#Example 2 - Here we consider a situation where both arrays need to be broadcast\n",
    "\n",
    "a = np.arange(3).reshape((3,1))\n",
    "b = np.arange(3)\n",
    "#Get the shape of the arrays\n",
    "print(a.shape)\n",
    "print(b.shape)"
   ]
  },
  {
   "cell_type": "markdown",
   "metadata": {},
   "source": [
    "#### Rule 1 demands that we pad the dimension of array b with ones on the left since it has fewer dimensions than array a \n",
    "a.shape -> (3,1)\n",
    "b.shape -> (1,3)\n",
    "\n",
    "#### And Rule 2 tells us that we upgrade each of a and b dimensions with ones to match the size of the array a i.e match the no. of rows of array a\n",
    "a.shape -> (3,3)\n",
    "b.shape -> (3,3)\n",
    "\n",
    "#### Because these results match,the shapes are now compatible and the result will be a 3 by3 matrix\n",
    "\n"
   ]
  },
  {
   "cell_type": "code",
   "execution_count": 10,
   "metadata": {},
   "outputs": [
    {
     "name": "stdout",
     "output_type": "stream",
     "text": [
      "[[0 1 2]\n",
      " [1 2 3]\n",
      " [2 3 4]]\n"
     ]
    }
   ],
   "source": [
    "a + b\n",
    "print(a + b)"
   ]
  },
  {
   "cell_type": "code",
   "execution_count": 12,
   "metadata": {},
   "outputs": [
    {
     "name": "stdout",
     "output_type": "stream",
     "text": [
      "(3, 2)\n",
      "(3,)\n"
     ]
    }
   ],
   "source": [
    "#Example 3 - Here we look at two incompatible arrays\n",
    "N = np.ones((3,2))\n",
    "z = np.arange(3)\n",
    "#Get the shape of the arrays\n",
    "print(N.shape)\n",
    "print(z.shape)"
   ]
  },
  {
   "cell_type": "markdown",
   "metadata": {},
   "source": [
    "#### Rule 1 demands that we pad the dimension of array z with ones on the left since it has fewer dimensions than array aN\n",
    "N.shape -> (3,2)\n",
    "z.shape -> (1,3)\n",
    "\n",
    "#### And Rule 2 tells us that we upgrade the dimension of z with ones to match the size of the array N i.e match the no. of rows of array N\n",
    "N.shape -> (3,2)\n",
    "z.shape -> (3,3)\n",
    "\n",
    "#### And by rule 3, the final shapes do not match, so these two arrays are incompatible\n",
    "N + z -> ValueError operands could not be broadcast together with shapes (3,2) (3,)"
   ]
  },
  {
   "cell_type": "markdown",
   "metadata": {},
   "source": [
    "## Broadcasting in Practice\n",
    "## Centering and Array"
   ]
  },
  {
   "cell_type": "code",
   "execution_count": 20,
   "metadata": {},
   "outputs": [
    {
     "name": "stdout",
     "output_type": "stream",
     "text": [
      "[[0.45897473 0.36819215 0.61276118]\n",
      " [0.26079943 0.95450655 0.98384252]\n",
      " [0.8292296  0.87519069 0.41453232]\n",
      " [0.424938   0.05864036 0.19730316]\n",
      " [0.93898779 0.47647737 0.09774199]\n",
      " [0.51181257 0.923175   0.84312744]\n",
      " [0.50531206 0.61423892 0.94279246]\n",
      " [0.13391706 0.43187526 0.16322003]\n",
      " [0.17013803 0.0146778  0.42369664]\n",
      " [0.83368675 0.4210263  0.51046255]]\n",
      "\n",
      " [0.5067796  0.51380004 0.51894803]\n",
      "\n",
      " Centered array has a near zero value as shown\n",
      " [-2.22044605e-17 -3.33066907e-17 -2.22044605e-17]\n"
     ]
    }
   ],
   "source": [
    "# Given an array of 10 observations each with 3 values\n",
    "x = np.random.random((10,3))\n",
    "print(x)\n",
    "#We compute the mean of each feature using the mean aggregate across the dimension\n",
    "xmean = np.mean(x,0)\n",
    "print(\"\\n\",xmean)\n",
    "#To center the x-array we subtract the mean, this is a broadcasting operation\n",
    "x_centered = x - xmean\n",
    "#Confirm that the centered array has a near zero mean\n",
    "print(\"\\n Centered array has a near zero value as shown\\n\", x_centered.mean(0))\n"
   ]
  },
  {
   "cell_type": "code",
   "execution_count": null,
   "metadata": {},
   "outputs": [],
   "source": []
  }
 ],
 "metadata": {
  "kernelspec": {
   "display_name": "Python 3",
   "language": "python",
   "name": "python3"
  },
  "language_info": {
   "codemirror_mode": {
    "name": "ipython",
    "version": 3
   },
   "file_extension": ".py",
   "mimetype": "text/x-python",
   "name": "python",
   "nbconvert_exporter": "python",
   "pygments_lexer": "ipython3",
   "version": "3.7.4"
  }
 },
 "nbformat": 4,
 "nbformat_minor": 5
}
