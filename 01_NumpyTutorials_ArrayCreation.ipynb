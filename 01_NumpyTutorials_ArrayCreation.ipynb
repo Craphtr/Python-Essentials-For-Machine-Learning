{
 "cells": [
  {
   "cell_type": "markdown",
   "id": "0cd7ecde-ceda-4b1c-a766-dc39aaa5eb36",
   "metadata": {},
   "source": [
    "# CONVERTING PYTHON SEQUENCES TO NUMPY ARRAYS\n",
    "Key thing to note here is to specify the type of elements that will be in the array. This gives more control over the underlying data structures and how the elements are handled C/C++ functions "
   ]
  },
  {
   "cell_type": "code",
   "execution_count": 2,
   "id": "eadaa3df-09ca-4f64-a7fc-4abe8cbf1fa6",
   "metadata": {},
   "outputs": [
    {
     "name": "stdout",
     "output_type": "stream",
     "text": [
      "a1D = \n",
      " [1 2 3 4]\n",
      "a2D = \n",
      " [[1 2 3 4]\n",
      " [5 6 7 8]]\n",
      "a3D = \n",
      " [[[1 2]\n",
      "  [3 4]]\n",
      "\n",
      " [[5 6]\n",
      "  [7 8]]]\n"
     ]
    }
   ],
   "source": [
    "# Numpy arrays can be defined using python sequences such as lists and tuples\n",
    "# A list of numbers will create a 1D array\n",
    "import numpy as np\n",
    "a1D = np.array([1,2,3,4])\n",
    "print(\"a1D = \\n\", a1D)\n",
    "# A list of lists will create a 2D array\n",
    "a2D = np.array([[1,2,3,4],[5,6,7,8]])\n",
    "print(\"a2D = \\n\", a2D)\n",
    "# Nested lists will create higher dmensional arrays\n",
    "a3D = np.array([[[1,2],[3,4]],[[5,6],[7,8]]])\n",
    "print(\"a3D = \\n\", a3D)"
   ]
  },
  {
   "cell_type": "markdown",
   "id": "6e8674e5-ee43-4b97-aaa2-649cdffa252e",
   "metadata": {},
   "source": [
    "# INTRINCSIC NUMPY ARRAY CREATION FUNCTIONS\n",
    "Numpy has 40 built-in functions for creating arrays. These are split into 3 based on dimension of the arrays\n",
    "1. 1D arrays\n",
    "2. 2D arrays\n",
    "3. ndarrays"
   ]
  },
  {
   "cell_type": "markdown",
   "id": "d714bb9b-36e7-4756-858e-d2f1192b36ef",
   "metadata": {},
   "source": [
    "# 1D Array creation functions - np.linspace & np.arange"
   ]
  },
  {
   "cell_type": "code",
   "execution_count": 3,
   "id": "b5e058b3-cb7c-493e-bbba-b79b08fed16b",
   "metadata": {},
   "outputs": [
    {
     "name": "stdout",
     "output_type": "stream",
     "text": [
      "a=\n",
      " [0 1 2 3 4 5 6 7 8 9]\n",
      "b=\n",
      " [2. 3. 4. 5. 6. 7. 8. 9.]\n",
      "c=\n",
      " [2.  2.2 2.4 2.6 2.8 3.  3.2 3.4 3.6 3.8 4.  4.2 4.4 4.6 4.8 5.  5.2 5.4\n",
      " 5.6 5.8]\n",
      "d=\n",
      " [1.         1.66666667 2.33333333 3.         3.66666667 4.33333333\n",
      " 5.         5.66666667 6.33333333 7.        ]\n"
     ]
    }
   ],
   "source": [
    "#Using np.arange\n",
    "#Note arange doesn't include the end value\n",
    "a = np.arange(10)\n",
    "print(\"a=\\n\",a)\n",
    "b = np.arange(2,10,dtype='float')\n",
    "print(\"b=\\n\",b)\n",
    "c = np.arange(2,6,0.2) #this is the best practice in using np.arange = start,end and step values\n",
    "print(\"c=\\n\",c)\n",
    "\n",
    "#Using np.linspace - This will create array with specified number of elements equally spaced in btw start and stop values\n",
    "#Advantage of this is that start and end values are certain including number of elements in the array\n",
    "d = np.linspace(1,7,10)\n",
    "print(\"d=\\n\", d)\n"
   ]
  },
  {
   "cell_type": "markdown",
   "id": "ca698d5e-7b48-4db3-8f8c-a44813f44206",
   "metadata": {},
   "source": [
    "# 2D Array Creation Functions - np.eye, np.diag, np.vander "
   ]
  },
  {
   "cell_type": "code",
   "execution_count": 4,
   "id": "a787f127-277a-4401-b5a0-950c333c9239",
   "metadata": {},
   "outputs": [
    {
     "name": "stdout",
     "output_type": "stream",
     "text": [
      "3 by 3 identity matrix =\n",
      " [[1. 0. 0.]\n",
      " [0. 1. 0.]\n",
      " [0. 0. 1.]]\n",
      "3 by 5 identity matrix =\n",
      " [[1. 0. 0. 0. 0.]\n",
      " [0. 1. 0. 0. 0.]\n",
      " [0. 0. 1. 0. 0.]]\n",
      "Given diagonal elements, diagonal Matrix =\n",
      " [[1 0 0]\n",
      " [0 2 0]\n",
      " [0 0 3]]\n",
      "Diagonal matrix of Array =\n",
      " [1 5]\n"
     ]
    }
   ],
   "source": [
    "#Using np.eye to create identity matrix\n",
    "i = np.eye(3) #3X3 identity matrix\n",
    "print(\"3 by 3 identity matrix =\\n\", i)\n",
    "ii = np.eye(3,5) #3X5 inhomogenous identity matrix\n",
    "print(\"3 by 5 identity matrix =\\n\", ii)\n",
    "\n",
    "#Using np.diag to create a diagonal matrix\n",
    "#This can define a 2D array with given elements along the diagonal &\n",
    "#This can also return the diagonal elements if given a 2D array\n",
    "di = np.diag([1,2,3])\n",
    "print(\"Given diagonal elements, diagonal Matrix =\\n\", di)\n",
    "do = np.array([[1,2], [4,5]])\n",
    "do = np.diag(do)\n",
    "print(\"Diagonal matrix of Array =\\n\", do)"
   ]
  },
  {
   "cell_type": "markdown",
   "id": "46e0338f-dbd8-44d2-93f1-be5581582de6",
   "metadata": {},
   "source": [
    "# VANDERMONDE MATRIX\n",
    "vander(x,n) defines a vadermonde matrix as a 2D numpy array\n",
    "Each column of the matrix is a decreasing power of the input 1D array or list or tuple\n",
    "This vandermonde matrix is useful in generating linear least squares models"
   ]
  },
  {
   "cell_type": "code",
   "execution_count": 5,
   "id": "8966750c-2450-486e-b04f-f14a60de861f",
   "metadata": {},
   "outputs": [
    {
     "name": "stdout",
     "output_type": "stream",
     "text": [
      "Vandermonde matrix =\n",
      " [[ 1  1  1  1]\n",
      " [ 8  4  2  1]\n",
      " [27  9  3  1]\n",
      " [64 16  4  1]]\n",
      "Vandermonde matrix = \n",
      " [[0.   0.   1.  ]\n",
      " [0.25 0.5  1.  ]\n",
      " [1.   1.   1.  ]\n",
      " [2.25 1.5  1.  ]\n",
      " [4.   2.   1.  ]]\n"
     ]
    }
   ],
   "source": [
    "#Examples on vandermonde matrix\n",
    "van1 = np.vander([1,2,3,4],4) #create vander matrix of 4 columns\n",
    "print(\"Vandermonde matrix =\\n\", van1)\n",
    "van2 = np.vander(np.linspace(0,2,5),3) #Create a vander matrix of 3 columns\n",
    "print(\"Vandermonde matrix = \\n\", van2)"
   ]
  },
  {
   "cell_type": "markdown",
   "id": "ae12f0d9-c488-4360-a152-750525c3f46f",
   "metadata": {},
   "source": [
    "# 3D GENERAL ARRAY CREATION FUNCTIONS - np.ones, np.zeros, np.random\n",
    "These define arrays based on the desired shape. Any dimension can be specified during creation by specifying the dimension and the length along that dimension in a tuple list. All produce data of the float type"
   ]
  },
  {
   "cell_type": "code",
   "execution_count": 6,
   "id": "7571976f-b873-4a01-8747-794cc2ca3669",
   "metadata": {},
   "outputs": [
    {
     "name": "stdout",
     "output_type": "stream",
     "text": [
      "Zero matrix = \n",
      " [[0. 0. 0.]\n",
      " [0. 0. 0.]]\n",
      "Zero matrix of 2 slices =\n",
      " [[[0. 0.]\n",
      "  [0. 0.]\n",
      "  [0. 0.]]\n",
      "\n",
      " [[0. 0.]\n",
      "  [0. 0.]\n",
      "  [0. 0.]]]\n",
      "Ones matrix =\n",
      " [[1. 1. 1. 1. 1.]\n",
      " [1. 1. 1. 1. 1.]\n",
      " [1. 1. 1. 1. 1.]]\n",
      "Random 2 by 3 matrix =\n",
      " [[0.77395605 0.43887844 0.85859792]\n",
      " [0.69736803 0.09417735 0.97562235]]\n"
     ]
    }
   ],
   "source": [
    "#Create a n by m zero matrix\n",
    "z = np.zeros((2,3)) #creates a 2by 3 zero matrix\n",
    "print(\"Zero matrix = \\n\", z)\n",
    "\n",
    "zee = np.zeros((2,3,2)) #creates a 3d block matrix of 2by3 matrix with 2 slices\n",
    "print(\"Zero matrix of 2 slices =\\n\", zee)\n",
    "\n",
    "#Create a n by m matrix of ones matrix\n",
    "o = np.ones((3,5)) # creates a 3by5 one matrix\n",
    "print(\"Ones matrix =\\n\", o)\n",
    "\n",
    "#Create an array of random numbers of any dimension\n",
    "from numpy.random import default_rng\n",
    "r = default_rng(42).random((2,3))\n",
    "print(\"Random 2 by 3 matrix of nos. btw 0 & 1 =\\n\", r)"
   ]
  },
  {
   "cell_type": "markdown",
   "id": "53dffb1e-352a-4503-b411-4cd6c4656186",
   "metadata": {},
   "source": [
    "# REPLICATING, JOINING & MUTATING EXISTIG ARRAYS"
   ]
  },
  {
   "cell_type": "code",
   "execution_count": 7,
   "id": "e02496fd-5cd3-4371-9791-014407f78c71",
   "metadata": {},
   "outputs": [
    {
     "name": "stdout",
     "output_type": "stream",
     "text": [
      "b = \n",
      " [ 3  4  5  8 11] \n",
      "a = \n",
      " [1 2 3 6 9]\n",
      "b = \n",
      " [ 3  4  5  8 11] \n",
      "a = \n",
      " [ 3  4  5  8 11]\n"
     ]
    }
   ],
   "source": [
    "#Examples\n",
    "a = np.array([1,2,3,6,9])\n",
    "b = a.copy() #doing this preserves the elements of a when operation is performed on b\n",
    "b += 2 \n",
    "print('b = \\n',b,'\\na = \\n', a)\n",
    "b = a #doing this changes the elements of a when an operation is performed on b\n",
    "b += 2 #This assigns elements of a to b and so changes elements of a when operation is performed on b\n",
    "print('b = \\n',b,'\\na = \\n', a)"
   ]
  },
  {
   "cell_type": "markdown",
   "id": "11e367aa-02c2-43b6-8a6f-c2ea84afabc0",
   "metadata": {},
   "source": [
    "# COPIES & VIEWS - NO COPY, SHALLOW COPY & DEEP COPY"
   ]
  },
  {
   "cell_type": "code",
   "execution_count": 8,
   "id": "42898502-8d6f-4e80-9463-53b1d6d63386",
   "metadata": {},
   "outputs": [
    {
     "name": "stdout",
     "output_type": "stream",
     "text": [
      "b is a view of the data in a - False\n",
      "b is a -  True\n",
      "c is a -  False\n",
      "c is a view of the data in a - True\n",
      "c shape is  (2, 6)\n",
      "a shape is  (3, 4)\n",
      "c = \n",
      " [[   0    1    2    3 1212    5]\n",
      " [   6    7    8    9   10   11]]\n",
      "a = \n",
      " [[   0    1    2    3]\n",
      " [1212    5    6    7]\n",
      " [   8    9   10   11]]\n",
      "[[10 10]\n",
      " [10 10]\n",
      " [10 10]]\n",
      "[[   0   10   10    3]\n",
      " [1212   10   10    7]\n",
      " [   8   10   10   11]]\n",
      "b is \n",
      " [ 0  1  2  3  4  5  6  7  8  9 10 11 12 13 14 15 16 17 18 19 20 21 22 23\n",
      " 24 25 26 27 28 29 30 31 32 33 34 35 36 37 38 39 40 41 42 43 44 45 46 47\n",
      " 48 49]\n"
     ]
    }
   ],
   "source": [
    "# NO COPY\n",
    "a = np.array([[0,1,2,3],\n",
    "            [4,5,6,7],\n",
    "            [8,9,10,11]])\n",
    "b = a # No new object copy is created; b is literally a\n",
    "x = b.base is a \n",
    "print(\"b is a view of the data in a -\",x)\n",
    "y = b is a\n",
    "print(\"b is a - \", y)\n",
    "\n",
    "#VIEW OR SHALLOW COPY\n",
    "c = a.view() #\n",
    "m = c is a\n",
    "print(\"c is a - \", m)\n",
    "n = c.base is a\n",
    "print(\"c is a view of the data in a -\", n)\n",
    "\n",
    "#Changing the shape of c doesnt change the shape of a\n",
    "c = c.reshape((2,6))\n",
    "print(\"c shape is \", c.shape)\n",
    "print(\"a shape is \", a.shape)\n",
    "\n",
    "#changing element of c changes element of a\n",
    "c[0,4] = 1212\n",
    "print(\"c = \\n\", c)\n",
    "print(\"a = \\n\", a)\n",
    "\n",
    "#Slicing an array returns a view of it\n",
    "s = a[:,1:3] #slice the 2nd & 3rd columns of a\n",
    "s[:] = 10 #make all the elements in that slice 10\n",
    "print(s)\n",
    "print(a) #a has changed as a result of the slice so deepcopy s before making the slice if u still need a\n",
    "\n",
    "\n",
    "#DEEP COPY - This makes a copy of the array and its data\n",
    "a1 = np.arange(int(1e8))\n",
    "a1.shape\n",
    "b1 = a1[:50].copy()\n",
    "print(\"b is \\n\", b1)\n",
    "del a #this removes a from memory - its a large chunk of data"
   ]
  }
 ],
 "metadata": {
  "kernelspec": {
   "display_name": "Python 3 (ipykernel)",
   "language": "python",
   "name": "python3"
  },
  "language_info": {
   "codemirror_mode": {
    "name": "ipython",
    "version": 3
   },
   "file_extension": ".py",
   "mimetype": "text/x-python",
   "name": "python",
   "nbconvert_exporter": "python",
   "pygments_lexer": "ipython3",
   "version": "3.12.2"
  }
 },
 "nbformat": 4,
 "nbformat_minor": 5
}
